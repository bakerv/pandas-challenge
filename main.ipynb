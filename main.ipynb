{
 "cells": [
  {
   "cell_type": "code",
   "execution_count": 267,
   "id": "880350b3",
   "metadata": {},
   "outputs": [],
   "source": [
    "#Import dependencies\n",
    "import pandas as pd\n",
    "\n",
    "#Read in the csv file\n",
    "datapath = \"Resources/purchase_data.csv\"\n",
    "rawdata = pd.read_csv(datapath)\n",
    "\n"
   ]
  },
  {
   "cell_type": "markdown",
   "id": "3136d453",
   "metadata": {},
   "source": [
    "### purchase_data.CSV Data Sample"
   ]
  },
  {
   "cell_type": "code",
   "execution_count": 268,
   "id": "1915c458",
   "metadata": {},
   "outputs": [
    {
     "data": {
      "text/html": [
       "<div>\n",
       "<style scoped>\n",
       "    .dataframe tbody tr th:only-of-type {\n",
       "        vertical-align: middle;\n",
       "    }\n",
       "\n",
       "    .dataframe tbody tr th {\n",
       "        vertical-align: top;\n",
       "    }\n",
       "\n",
       "    .dataframe thead th {\n",
       "        text-align: right;\n",
       "    }\n",
       "</style>\n",
       "<table border=\"1\" class=\"dataframe\">\n",
       "  <thead>\n",
       "    <tr style=\"text-align: right;\">\n",
       "      <th></th>\n",
       "      <th>Purchase ID</th>\n",
       "      <th>SN</th>\n",
       "      <th>Age</th>\n",
       "      <th>Gender</th>\n",
       "      <th>Item ID</th>\n",
       "      <th>Item Name</th>\n",
       "      <th>Price</th>\n",
       "    </tr>\n",
       "  </thead>\n",
       "  <tbody>\n",
       "    <tr>\n",
       "      <th>0</th>\n",
       "      <td>0</td>\n",
       "      <td>Lisim78</td>\n",
       "      <td>20</td>\n",
       "      <td>Male</td>\n",
       "      <td>108</td>\n",
       "      <td>Extraction, Quickblade Of Trembling Hands</td>\n",
       "      <td>3.53</td>\n",
       "    </tr>\n",
       "    <tr>\n",
       "      <th>1</th>\n",
       "      <td>1</td>\n",
       "      <td>Lisovynya38</td>\n",
       "      <td>40</td>\n",
       "      <td>Male</td>\n",
       "      <td>143</td>\n",
       "      <td>Frenzied Scimitar</td>\n",
       "      <td>1.56</td>\n",
       "    </tr>\n",
       "    <tr>\n",
       "      <th>2</th>\n",
       "      <td>2</td>\n",
       "      <td>Ithergue48</td>\n",
       "      <td>24</td>\n",
       "      <td>Male</td>\n",
       "      <td>92</td>\n",
       "      <td>Final Critic</td>\n",
       "      <td>4.88</td>\n",
       "    </tr>\n",
       "    <tr>\n",
       "      <th>3</th>\n",
       "      <td>3</td>\n",
       "      <td>Chamassasya86</td>\n",
       "      <td>24</td>\n",
       "      <td>Male</td>\n",
       "      <td>100</td>\n",
       "      <td>Blindscythe</td>\n",
       "      <td>3.27</td>\n",
       "    </tr>\n",
       "    <tr>\n",
       "      <th>4</th>\n",
       "      <td>4</td>\n",
       "      <td>Iskosia90</td>\n",
       "      <td>23</td>\n",
       "      <td>Male</td>\n",
       "      <td>131</td>\n",
       "      <td>Fury</td>\n",
       "      <td>1.44</td>\n",
       "    </tr>\n",
       "  </tbody>\n",
       "</table>\n",
       "</div>"
      ],
      "text/plain": [
       "   Purchase ID             SN  Age Gender  Item ID  \\\n",
       "0            0        Lisim78   20   Male      108   \n",
       "1            1    Lisovynya38   40   Male      143   \n",
       "2            2     Ithergue48   24   Male       92   \n",
       "3            3  Chamassasya86   24   Male      100   \n",
       "4            4      Iskosia90   23   Male      131   \n",
       "\n",
       "                                   Item Name  Price  \n",
       "0  Extraction, Quickblade Of Trembling Hands   3.53  \n",
       "1                          Frenzied Scimitar   1.56  \n",
       "2                               Final Critic   4.88  \n",
       "3                                Blindscythe   3.27  \n",
       "4                                       Fury   1.44  "
      ]
     },
     "execution_count": 268,
     "metadata": {},
     "output_type": "execute_result"
    }
   ],
   "source": [
    "#Display data sample\n",
    "rawdata.head()"
   ]
  },
  {
   "cell_type": "markdown",
   "id": "f7ac8d85",
   "metadata": {},
   "source": [
    "---\n",
    "\n",
    "# Player Count\n",
    "Return the number of unique entries in the SN column of the dataframe"
   ]
  },
  {
   "cell_type": "code",
   "execution_count": 269,
   "id": "0a171d28",
   "metadata": {},
   "outputs": [],
   "source": [
    "playercount = (\n",
    "    rawdata.copy().agg({'SN':'nunique'})\n",
    "    .to_frame().rename({'SN': 'Total Players'}).T # Improve the format of the output\n",
    ")"
   ]
  },
  {
   "cell_type": "markdown",
   "id": "2fefbf0a",
   "metadata": {},
   "source": [
    "Display the data"
   ]
  },
  {
   "cell_type": "code",
   "execution_count": 270,
   "id": "7b872980",
   "metadata": {},
   "outputs": [
    {
     "data": {
      "text/html": [
       "<div>\n",
       "<style scoped>\n",
       "    .dataframe tbody tr th:only-of-type {\n",
       "        vertical-align: middle;\n",
       "    }\n",
       "\n",
       "    .dataframe tbody tr th {\n",
       "        vertical-align: top;\n",
       "    }\n",
       "\n",
       "    .dataframe thead th {\n",
       "        text-align: right;\n",
       "    }\n",
       "</style>\n",
       "<table border=\"1\" class=\"dataframe\">\n",
       "  <thead>\n",
       "    <tr style=\"text-align: right;\">\n",
       "      <th></th>\n",
       "      <th>Total Players</th>\n",
       "    </tr>\n",
       "  </thead>\n",
       "  <tbody>\n",
       "    <tr>\n",
       "      <th>0</th>\n",
       "      <td>576</td>\n",
       "    </tr>\n",
       "  </tbody>\n",
       "</table>\n",
       "</div>"
      ],
      "text/plain": [
       "   Total Players\n",
       "0            576"
      ]
     },
     "metadata": {},
     "output_type": "display_data"
    }
   ],
   "source": [
    "display(playercount)"
   ]
  },
  {
   "cell_type": "markdown",
   "id": "65beecf6",
   "metadata": {},
   "source": [
    "---\n",
    "\n",
    "# Purchasing Analysis (Total)"
   ]
  },
  {
   "cell_type": "markdown",
   "id": "2ee27ae1",
   "metadata": {},
   "source": [
    "Obtain a fresh copy of the data with entries for all transactions"
   ]
  },
  {
   "cell_type": "code",
   "execution_count": 271,
   "id": "17eb7bd4",
   "metadata": {},
   "outputs": [],
   "source": [
    "purchasing_analysis = rawdata.copy()\n",
    "purchasing_analysis[\"Total Revenue\"] = purchasing_analysis[\"Price\"]"
   ]
  },
  {
   "cell_type": "markdown",
   "id": "81db9deb",
   "metadata": {},
   "source": [
    "Get aggregate statistical measures from all transactions"
   ]
  },
  {
   "cell_type": "code",
   "execution_count": 272,
   "id": "5eb73c02",
   "metadata": {},
   "outputs": [],
   "source": [
    "purchasing_analysis = (\n",
    "    purchasing_analysis\n",
    "    .agg({\"Purchase ID\":'count',\"Price\":'mean',\n",
    "          \"Item ID\":'nunique',\"Total Revenue\":'sum'})\n",
    "    .rename({\"Purchase ID\":\"Number of Purchases\",\"Price\":\"Average Price\", # Improve the format of the output\n",
    "             \"Item ID\":\"Number of Unique Items\"}).to_frame().T\n",
    ")"
   ]
  },
  {
   "cell_type": "markdown",
   "id": "63c183c4",
   "metadata": {},
   "source": [
    "Format and display the data"
   ]
  },
  {
   "cell_type": "code",
   "execution_count": 273,
   "id": "3241cd87",
   "metadata": {},
   "outputs": [
    {
     "data": {
      "text/html": [
       "<style  type=\"text/css\" >\n",
       "</style><table id=\"T_5d7db_\" ><thead>    <tr>        <th class=\"blank level0\" ></th>        <th class=\"col_heading level0 col0\" >Number of Purchases</th>        <th class=\"col_heading level0 col1\" >Average Price</th>        <th class=\"col_heading level0 col2\" >Number of Unique Items</th>        <th class=\"col_heading level0 col3\" >Total Revenue</th>    </tr></thead><tbody>\n",
       "                <tr>\n",
       "                        <th id=\"T_5d7db_level0_row0\" class=\"row_heading level0 row0\" >0</th>\n",
       "                        <td id=\"T_5d7db_row0_col0\" class=\"data row0 col0\" >780</td>\n",
       "                        <td id=\"T_5d7db_row0_col1\" class=\"data row0 col1\" >$3.05</td>\n",
       "                        <td id=\"T_5d7db_row0_col2\" class=\"data row0 col2\" >179</td>\n",
       "                        <td id=\"T_5d7db_row0_col3\" class=\"data row0 col3\" >$2379.77</td>\n",
       "            </tr>\n",
       "    </tbody></table>"
      ],
      "text/plain": [
       "<pandas.io.formats.style.Styler at 0x1db8022cb20>"
      ]
     },
     "execution_count": 273,
     "metadata": {},
     "output_type": "execute_result"
    }
   ],
   "source": [
    "purchasing_analysis.head().style.format({\"Number of Purchases\":int,\"Average Price\":\"${:.2f}\",\n",
    "                                         \"Number of Unique Items\":int,\"Total Revenue\":'${:.2f}'})"
   ]
  },
  {
   "cell_type": "markdown",
   "id": "106e711c",
   "metadata": {},
   "source": [
    "---\n",
    "\n",
    "# Gender Demographics"
   ]
  },
  {
   "cell_type": "markdown",
   "id": "dba23563",
   "metadata": {},
   "source": [
    "Obtain a fresh copy of the data with a single entry for each player"
   ]
  },
  {
   "cell_type": "code",
   "execution_count": 274,
   "id": "588e49ea",
   "metadata": {},
   "outputs": [],
   "source": [
    "genderdata = rawdata.copy().drop_duplicates(subset = \"SN\",ignore_index =True)"
   ]
  },
  {
   "cell_type": "markdown",
   "id": "f11cfd94",
   "metadata": {},
   "source": [
    "Group the entries by gender, and count the results"
   ]
  },
  {
   "cell_type": "code",
   "execution_count": 275,
   "id": "51806b58",
   "metadata": {},
   "outputs": [],
   "source": [
    "genderdemos = (genderdata[\"Gender\"].value_counts().to_frame()\n",
    "               .rename(columns = {\"Gender\":\"Number of Players\"})) # Column name changed to reflect new meaning\n",
    "genderdemos[\"Percentage of Players\"] = genderdemos[\"Number of Players\"]/sum(genderdemos[\"Number of Players\"])"
   ]
  },
  {
   "cell_type": "markdown",
   "id": "b8ff6d5c",
   "metadata": {},
   "source": [
    "Format and display the data"
   ]
  },
  {
   "cell_type": "code",
   "execution_count": 276,
   "id": "0e6f01df",
   "metadata": {},
   "outputs": [
    {
     "data": {
      "text/html": [
       "<style  type=\"text/css\" >\n",
       "</style><table id=\"T_1b449_\" ><thead>    <tr>        <th class=\"blank level0\" ></th>        <th class=\"col_heading level0 col0\" >Number of Players</th>        <th class=\"col_heading level0 col1\" >Percentage of Players</th>    </tr></thead><tbody>\n",
       "                <tr>\n",
       "                        <th id=\"T_1b449_level0_row0\" class=\"row_heading level0 row0\" >Male</th>\n",
       "                        <td id=\"T_1b449_row0_col0\" class=\"data row0 col0\" >484</td>\n",
       "                        <td id=\"T_1b449_row0_col1\" class=\"data row0 col1\" >84.03%</td>\n",
       "            </tr>\n",
       "            <tr>\n",
       "                        <th id=\"T_1b449_level0_row1\" class=\"row_heading level0 row1\" >Female</th>\n",
       "                        <td id=\"T_1b449_row1_col0\" class=\"data row1 col0\" >81</td>\n",
       "                        <td id=\"T_1b449_row1_col1\" class=\"data row1 col1\" >14.06%</td>\n",
       "            </tr>\n",
       "            <tr>\n",
       "                        <th id=\"T_1b449_level0_row2\" class=\"row_heading level0 row2\" >Other / Non-Disclosed</th>\n",
       "                        <td id=\"T_1b449_row2_col0\" class=\"data row2 col0\" >11</td>\n",
       "                        <td id=\"T_1b449_row2_col1\" class=\"data row2 col1\" >1.91%</td>\n",
       "            </tr>\n",
       "    </tbody></table>"
      ],
      "text/plain": [
       "<pandas.io.formats.style.Styler at 0x1db8022c760>"
      ]
     },
     "execution_count": 276,
     "metadata": {},
     "output_type": "execute_result"
    }
   ],
   "source": [
    "genderdemos.head().style.format({\"Percentage of Players\": \"{:.2%}\"})"
   ]
  },
  {
   "cell_type": "markdown",
   "id": "7286e0e6",
   "metadata": {},
   "source": [
    " ---\n",
    " \n",
    " # Purchasing Analysis (Gender)"
   ]
  },
  {
   "cell_type": "markdown",
   "id": "1028b89e",
   "metadata": {},
   "source": [
    "Get aggregate statistical measures from data containing all transactions"
   ]
  },
  {
   "cell_type": "code",
   "execution_count": 277,
   "id": "90d039fa",
   "metadata": {},
   "outputs": [],
   "source": [
    "genderpurchasing =(\n",
    "    rawdata.copy().groupby(\"Gender\").agg({\"Purchase ID\":\"count\",\"Price\":[\"mean\",\"sum\"]})\n",
    "    .droplevel(0,1)\n",
    "    .rename(columns ={\"count\":\"Total Purchases\",\"mean\":\"Average Price\",\"sum\":\"Total Revenue\"})\n",
    ")"
   ]
  },
  {
   "cell_type": "markdown",
   "id": "3aa1077b",
   "metadata": {},
   "source": [
    "Group the data to get total sales for each player, then return the mean total purchase for each gender"
   ]
  },
  {
   "cell_type": "code",
   "execution_count": 278,
   "id": "457fe34e",
   "metadata": {},
   "outputs": [],
   "source": [
    "genderpurchasing[\"Average Per Person\"] = (rawdata.groupby(\"SN\").agg({\"Gender\":'first','Price': 'sum'})\n",
    "                                          .groupby(\"Gender\").mean())"
   ]
  },
  {
   "cell_type": "markdown",
   "id": "4744a50c",
   "metadata": {},
   "source": [
    "Format and display the data"
   ]
  },
  {
   "cell_type": "code",
   "execution_count": 279,
   "id": "139fafcc",
   "metadata": {},
   "outputs": [
    {
     "data": {
      "text/html": [
       "<style  type=\"text/css\" >\n",
       "</style><table id=\"T_6dd6f_\" ><thead>    <tr>        <th class=\"blank level0\" ></th>        <th class=\"col_heading level0 col0\" >Total Purchases</th>        <th class=\"col_heading level0 col1\" >Average Price</th>        <th class=\"col_heading level0 col2\" >Total Revenue</th>        <th class=\"col_heading level0 col3\" >Average Per Person</th>    </tr>    <tr>        <th class=\"index_name level0\" >Gender</th>        <th class=\"blank\" ></th>        <th class=\"blank\" ></th>        <th class=\"blank\" ></th>        <th class=\"blank\" ></th>    </tr></thead><tbody>\n",
       "                <tr>\n",
       "                        <th id=\"T_6dd6f_level0_row0\" class=\"row_heading level0 row0\" >Female</th>\n",
       "                        <td id=\"T_6dd6f_row0_col0\" class=\"data row0 col0\" >113</td>\n",
       "                        <td id=\"T_6dd6f_row0_col1\" class=\"data row0 col1\" >$3.20</td>\n",
       "                        <td id=\"T_6dd6f_row0_col2\" class=\"data row0 col2\" >$361.94</td>\n",
       "                        <td id=\"T_6dd6f_row0_col3\" class=\"data row0 col3\" >$4.47</td>\n",
       "            </tr>\n",
       "            <tr>\n",
       "                        <th id=\"T_6dd6f_level0_row1\" class=\"row_heading level0 row1\" >Male</th>\n",
       "                        <td id=\"T_6dd6f_row1_col0\" class=\"data row1 col0\" >652</td>\n",
       "                        <td id=\"T_6dd6f_row1_col1\" class=\"data row1 col1\" >$3.02</td>\n",
       "                        <td id=\"T_6dd6f_row1_col2\" class=\"data row1 col2\" >$1967.64</td>\n",
       "                        <td id=\"T_6dd6f_row1_col3\" class=\"data row1 col3\" >$4.07</td>\n",
       "            </tr>\n",
       "            <tr>\n",
       "                        <th id=\"T_6dd6f_level0_row2\" class=\"row_heading level0 row2\" >Other / Non-Disclosed</th>\n",
       "                        <td id=\"T_6dd6f_row2_col0\" class=\"data row2 col0\" >15</td>\n",
       "                        <td id=\"T_6dd6f_row2_col1\" class=\"data row2 col1\" >$3.35</td>\n",
       "                        <td id=\"T_6dd6f_row2_col2\" class=\"data row2 col2\" >$50.19</td>\n",
       "                        <td id=\"T_6dd6f_row2_col3\" class=\"data row2 col3\" >$4.56</td>\n",
       "            </tr>\n",
       "    </tbody></table>"
      ],
      "text/plain": [
       "<pandas.io.formats.style.Styler at 0x1db801d9cd0>"
      ]
     },
     "execution_count": 279,
     "metadata": {},
     "output_type": "execute_result"
    }
   ],
   "source": [
    "genderpurchasing.head().style.format({\"Average Price\":'${:.2f}',\"Total Revenue\":\"${:.2f}\",\n",
    "                                      \"Average Per Person\":\"${:.2f}\"})"
   ]
  },
  {
   "cell_type": "markdown",
   "id": "8f7a77cd",
   "metadata": {},
   "source": [
    "---\n",
    "\n",
    "# Age Demographics "
   ]
  },
  {
   "cell_type": "markdown",
   "id": "9a5b62a3",
   "metadata": {},
   "source": [
    "Set up bins and labels for pd.cut(), these will be used for Purchasing Analysis (Age) as well"
   ]
  },
  {
   "cell_type": "code",
   "execution_count": 280,
   "id": "67bb3d2a",
   "metadata": {},
   "outputs": [],
   "source": [
    "agebins = [0,10,15,20,25,30,35,40,125]\n",
    "agebins_names = [\"<10\",\"10-14\",\"15-19\",\"20-24\",\"25-29\",\"30-34\",\"35-39\",\">40\"]"
   ]
  },
  {
   "cell_type": "markdown",
   "id": "b1bec638",
   "metadata": {},
   "source": [
    "Get a fresh data copy with a single age entry for each player, then bin the ages into groups"
   ]
  },
  {
   "cell_type": "code",
   "execution_count": 281,
   "id": "c37176e8",
   "metadata": {},
   "outputs": [],
   "source": [
    "agedata = rawdata.copy().drop_duplicates(subset = \"SN\",ignore_index =True)\n",
    "binned_ages_df = pd.cut(agedata[\"Age\"],agebins,labels = agebins_names, right =False)"
   ]
  },
  {
   "cell_type": "markdown",
   "id": "3ee54c9b",
   "metadata": {},
   "source": [
    "Count the results"
   ]
  },
  {
   "cell_type": "code",
   "execution_count": 282,
   "id": "907b3d8d",
   "metadata": {},
   "outputs": [],
   "source": [
    "agedemographics = (binned_ages_df.value_counts().to_frame().reindex(agebins_names)\n",
    "                   .rename(columns={\"Age\": \"Number of Players\"})) # Change column names to reflect new meaning\n",
    "agedemographics[\"Percent of Players\"] = agedemographics[\"Number of Players\"]/sum(agedemographics[\"Number of Players\"])"
   ]
  },
  {
   "cell_type": "markdown",
   "id": "18c9cc9c",
   "metadata": {},
   "source": [
    "Format and display the data"
   ]
  },
  {
   "cell_type": "code",
   "execution_count": 283,
   "id": "85b27a90",
   "metadata": {},
   "outputs": [
    {
     "data": {
      "text/html": [
       "<style  type=\"text/css\" >\n",
       "</style><table id=\"T_4ab32_\" ><thead>    <tr>        <th class=\"blank level0\" ></th>        <th class=\"col_heading level0 col0\" >Number of Players</th>        <th class=\"col_heading level0 col1\" >Percent of Players</th>    </tr></thead><tbody>\n",
       "                <tr>\n",
       "                        <th id=\"T_4ab32_level0_row0\" class=\"row_heading level0 row0\" ><10</th>\n",
       "                        <td id=\"T_4ab32_row0_col0\" class=\"data row0 col0\" >17</td>\n",
       "                        <td id=\"T_4ab32_row0_col1\" class=\"data row0 col1\" >2.95%</td>\n",
       "            </tr>\n",
       "            <tr>\n",
       "                        <th id=\"T_4ab32_level0_row1\" class=\"row_heading level0 row1\" >10-14</th>\n",
       "                        <td id=\"T_4ab32_row1_col0\" class=\"data row1 col0\" >22</td>\n",
       "                        <td id=\"T_4ab32_row1_col1\" class=\"data row1 col1\" >3.82%</td>\n",
       "            </tr>\n",
       "            <tr>\n",
       "                        <th id=\"T_4ab32_level0_row2\" class=\"row_heading level0 row2\" >15-19</th>\n",
       "                        <td id=\"T_4ab32_row2_col0\" class=\"data row2 col0\" >107</td>\n",
       "                        <td id=\"T_4ab32_row2_col1\" class=\"data row2 col1\" >18.58%</td>\n",
       "            </tr>\n",
       "            <tr>\n",
       "                        <th id=\"T_4ab32_level0_row3\" class=\"row_heading level0 row3\" >20-24</th>\n",
       "                        <td id=\"T_4ab32_row3_col0\" class=\"data row3 col0\" >258</td>\n",
       "                        <td id=\"T_4ab32_row3_col1\" class=\"data row3 col1\" >44.79%</td>\n",
       "            </tr>\n",
       "            <tr>\n",
       "                        <th id=\"T_4ab32_level0_row4\" class=\"row_heading level0 row4\" >25-29</th>\n",
       "                        <td id=\"T_4ab32_row4_col0\" class=\"data row4 col0\" >77</td>\n",
       "                        <td id=\"T_4ab32_row4_col1\" class=\"data row4 col1\" >13.37%</td>\n",
       "            </tr>\n",
       "            <tr>\n",
       "                        <th id=\"T_4ab32_level0_row5\" class=\"row_heading level0 row5\" >30-34</th>\n",
       "                        <td id=\"T_4ab32_row5_col0\" class=\"data row5 col0\" >52</td>\n",
       "                        <td id=\"T_4ab32_row5_col1\" class=\"data row5 col1\" >9.03%</td>\n",
       "            </tr>\n",
       "            <tr>\n",
       "                        <th id=\"T_4ab32_level0_row6\" class=\"row_heading level0 row6\" >35-39</th>\n",
       "                        <td id=\"T_4ab32_row6_col0\" class=\"data row6 col0\" >31</td>\n",
       "                        <td id=\"T_4ab32_row6_col1\" class=\"data row6 col1\" >5.38%</td>\n",
       "            </tr>\n",
       "            <tr>\n",
       "                        <th id=\"T_4ab32_level0_row7\" class=\"row_heading level0 row7\" >>40</th>\n",
       "                        <td id=\"T_4ab32_row7_col0\" class=\"data row7 col0\" >12</td>\n",
       "                        <td id=\"T_4ab32_row7_col1\" class=\"data row7 col1\" >2.08%</td>\n",
       "            </tr>\n",
       "    </tbody></table>"
      ],
      "text/plain": [
       "<pandas.io.formats.style.Styler at 0x1db801aa760>"
      ]
     },
     "execution_count": 283,
     "metadata": {},
     "output_type": "execute_result"
    }
   ],
   "source": [
    "agedemographics.head(8).style.format({\"Percent of Players\":\"{:.2%}\"})"
   ]
  },
  {
   "cell_type": "markdown",
   "id": "a9abe876",
   "metadata": {
    "tags": []
   },
   "source": [
    "---\n",
    "\n",
    "# Purchasing Analysis (Age) "
   ]
  },
  {
   "cell_type": "markdown",
   "id": "2d21ea01",
   "metadata": {
    "tags": []
   },
   "source": [
    "Get a fresh copy of the data that has entries for all transaction, then bin the ages into groups"
   ]
  },
  {
   "cell_type": "code",
   "execution_count": 284,
   "id": "586bff19",
   "metadata": {
    "tags": []
   },
   "outputs": [],
   "source": [
    "agegroups = rawdata.copy()\n",
    "agegroups[\"Age Range\"]= pd.cut(rawdata[\"Age\"],agebins,labels = agebins_names,ordered = True,right= False) "
   ]
  },
  {
   "cell_type": "markdown",
   "id": "82be5ffc",
   "metadata": {
    "tags": []
   },
   "source": [
    "Get aggregate statistical measures for each age group"
   ]
  },
  {
   "cell_type": "code",
   "execution_count": 285,
   "id": "eb7c6262",
   "metadata": {
    "tags": []
   },
   "outputs": [],
   "source": [
    "ageanalysis = (\n",
    "    agegroups.groupby(\"Age Range\").agg({\"Purchase ID\":'count',\"Price\":['mean','sum']})\n",
    "    .droplevel(0,1).rename(columns ={\"count\":\"Total Purchases\",\"mean\": \n",
    "                                     \"Average Price\", \"sum\":\"Total Revenue\"}) #Improve the column headers\n",
    ")\n",
    "ageanalysis[\"Average Per Person\"] = (\n",
    "    agegroups.copy().groupby(\"SN\").agg({\"Age Range\":'first','Price': 'sum'})\n",
    "    .groupby(\"Age Range\").agg({\"Price\":'mean'})\n",
    ")"
   ]
  },
  {
   "cell_type": "markdown",
   "id": "cde84a41",
   "metadata": {
    "tags": []
   },
   "source": [
    "Format and display the data"
   ]
  },
  {
   "cell_type": "code",
   "execution_count": 286,
   "id": "ce323706",
   "metadata": {
    "tags": []
   },
   "outputs": [
    {
     "data": {
      "text/html": [
       "<style  type=\"text/css\" >\n",
       "</style><table id=\"T_93a6f_\" ><thead>    <tr>        <th class=\"blank level0\" ></th>        <th class=\"col_heading level0 col0\" >Total Purchases</th>        <th class=\"col_heading level0 col1\" >Average Price</th>        <th class=\"col_heading level0 col2\" >Total Revenue</th>        <th class=\"col_heading level0 col3\" >Average Per Person</th>    </tr>    <tr>        <th class=\"index_name level0\" >Age Range</th>        <th class=\"blank\" ></th>        <th class=\"blank\" ></th>        <th class=\"blank\" ></th>        <th class=\"blank\" ></th>    </tr></thead><tbody>\n",
       "                <tr>\n",
       "                        <th id=\"T_93a6f_level0_row0\" class=\"row_heading level0 row0\" ><10</th>\n",
       "                        <td id=\"T_93a6f_row0_col0\" class=\"data row0 col0\" >23</td>\n",
       "                        <td id=\"T_93a6f_row0_col1\" class=\"data row0 col1\" >$3.35</td>\n",
       "                        <td id=\"T_93a6f_row0_col2\" class=\"data row0 col2\" >$77.13</td>\n",
       "                        <td id=\"T_93a6f_row0_col3\" class=\"data row0 col3\" >$4.54</td>\n",
       "            </tr>\n",
       "            <tr>\n",
       "                        <th id=\"T_93a6f_level0_row1\" class=\"row_heading level0 row1\" >10-14</th>\n",
       "                        <td id=\"T_93a6f_row1_col0\" class=\"data row1 col0\" >28</td>\n",
       "                        <td id=\"T_93a6f_row1_col1\" class=\"data row1 col1\" >$2.96</td>\n",
       "                        <td id=\"T_93a6f_row1_col2\" class=\"data row1 col2\" >$82.78</td>\n",
       "                        <td id=\"T_93a6f_row1_col3\" class=\"data row1 col3\" >$3.76</td>\n",
       "            </tr>\n",
       "            <tr>\n",
       "                        <th id=\"T_93a6f_level0_row2\" class=\"row_heading level0 row2\" >15-19</th>\n",
       "                        <td id=\"T_93a6f_row2_col0\" class=\"data row2 col0\" >136</td>\n",
       "                        <td id=\"T_93a6f_row2_col1\" class=\"data row2 col1\" >$3.04</td>\n",
       "                        <td id=\"T_93a6f_row2_col2\" class=\"data row2 col2\" >$412.89</td>\n",
       "                        <td id=\"T_93a6f_row2_col3\" class=\"data row2 col3\" >$3.86</td>\n",
       "            </tr>\n",
       "            <tr>\n",
       "                        <th id=\"T_93a6f_level0_row3\" class=\"row_heading level0 row3\" >20-24</th>\n",
       "                        <td id=\"T_93a6f_row3_col0\" class=\"data row3 col0\" >365</td>\n",
       "                        <td id=\"T_93a6f_row3_col1\" class=\"data row3 col1\" >$3.05</td>\n",
       "                        <td id=\"T_93a6f_row3_col2\" class=\"data row3 col2\" >$1114.06</td>\n",
       "                        <td id=\"T_93a6f_row3_col3\" class=\"data row3 col3\" >$4.32</td>\n",
       "            </tr>\n",
       "            <tr>\n",
       "                        <th id=\"T_93a6f_level0_row4\" class=\"row_heading level0 row4\" >25-29</th>\n",
       "                        <td id=\"T_93a6f_row4_col0\" class=\"data row4 col0\" >101</td>\n",
       "                        <td id=\"T_93a6f_row4_col1\" class=\"data row4 col1\" >$2.90</td>\n",
       "                        <td id=\"T_93a6f_row4_col2\" class=\"data row4 col2\" >$293.00</td>\n",
       "                        <td id=\"T_93a6f_row4_col3\" class=\"data row4 col3\" >$3.81</td>\n",
       "            </tr>\n",
       "            <tr>\n",
       "                        <th id=\"T_93a6f_level0_row5\" class=\"row_heading level0 row5\" >30-34</th>\n",
       "                        <td id=\"T_93a6f_row5_col0\" class=\"data row5 col0\" >73</td>\n",
       "                        <td id=\"T_93a6f_row5_col1\" class=\"data row5 col1\" >$2.93</td>\n",
       "                        <td id=\"T_93a6f_row5_col2\" class=\"data row5 col2\" >$214.00</td>\n",
       "                        <td id=\"T_93a6f_row5_col3\" class=\"data row5 col3\" >$4.12</td>\n",
       "            </tr>\n",
       "            <tr>\n",
       "                        <th id=\"T_93a6f_level0_row6\" class=\"row_heading level0 row6\" >35-39</th>\n",
       "                        <td id=\"T_93a6f_row6_col0\" class=\"data row6 col0\" >41</td>\n",
       "                        <td id=\"T_93a6f_row6_col1\" class=\"data row6 col1\" >$3.60</td>\n",
       "                        <td id=\"T_93a6f_row6_col2\" class=\"data row6 col2\" >$147.67</td>\n",
       "                        <td id=\"T_93a6f_row6_col3\" class=\"data row6 col3\" >$4.76</td>\n",
       "            </tr>\n",
       "            <tr>\n",
       "                        <th id=\"T_93a6f_level0_row7\" class=\"row_heading level0 row7\" >>40</th>\n",
       "                        <td id=\"T_93a6f_row7_col0\" class=\"data row7 col0\" >13</td>\n",
       "                        <td id=\"T_93a6f_row7_col1\" class=\"data row7 col1\" >$2.94</td>\n",
       "                        <td id=\"T_93a6f_row7_col2\" class=\"data row7 col2\" >$38.24</td>\n",
       "                        <td id=\"T_93a6f_row7_col3\" class=\"data row7 col3\" >$3.19</td>\n",
       "            </tr>\n",
       "    </tbody></table>"
      ],
      "text/plain": [
       "<pandas.io.formats.style.Styler at 0x1dbffd92a30>"
      ]
     },
     "execution_count": 286,
     "metadata": {},
     "output_type": "execute_result"
    }
   ],
   "source": [
    "ageanalysis.head(8).style.format({\"Average Price\":\"${:.2f}\",\n",
    "                                  \"Total Revenue\":\"${:.2f}\",\n",
    "                                  \"Average Per Person\":\"${:.2f}\"})"
   ]
  },
  {
   "cell_type": "markdown",
   "id": "f0683deb",
   "metadata": {
    "tags": []
   },
   "source": [
    "---\n",
    "\n",
    "# Top Spenders\n",
    "Obtain a fresh copy of the data with unique entries for each player, return aggregate statistical measures"
   ]
  },
  {
   "cell_type": "code",
   "execution_count": 287,
   "id": "c2a89120",
   "metadata": {
    "tags": []
   },
   "outputs": [],
   "source": [
    "topspenders = (\n",
    "    rawdata.copy().groupby(\"SN\").agg({\"Purchase ID\":'count',\"Price\":['mean','sum']})\n",
    "    .droplevel(0,1).rename(columns = {\"count\":\"Purchase Count\",\"mean\":\"Price\",\"sum\":\"Total Revenue\"}) # Improve the column headers\n",
    "    .sort_values(\"Total Revenue\",ascending = False)\n",
    ")"
   ]
  },
  {
   "cell_type": "markdown",
   "id": "047a818c",
   "metadata": {},
   "source": [
    "Format and display the data"
   ]
  },
  {
   "cell_type": "code",
   "execution_count": 288,
   "id": "3866a897",
   "metadata": {
    "tags": []
   },
   "outputs": [
    {
     "data": {
      "text/html": [
       "<style  type=\"text/css\" >\n",
       "</style><table id=\"T_b27a6_\" ><thead>    <tr>        <th class=\"blank level0\" ></th>        <th class=\"col_heading level0 col0\" >Purchase Count</th>        <th class=\"col_heading level0 col1\" >Price</th>        <th class=\"col_heading level0 col2\" >Total Revenue</th>    </tr>    <tr>        <th class=\"index_name level0\" >SN</th>        <th class=\"blank\" ></th>        <th class=\"blank\" ></th>        <th class=\"blank\" ></th>    </tr></thead><tbody>\n",
       "                <tr>\n",
       "                        <th id=\"T_b27a6_level0_row0\" class=\"row_heading level0 row0\" >Lisosia93</th>\n",
       "                        <td id=\"T_b27a6_row0_col0\" class=\"data row0 col0\" >5</td>\n",
       "                        <td id=\"T_b27a6_row0_col1\" class=\"data row0 col1\" >$3.79</td>\n",
       "                        <td id=\"T_b27a6_row0_col2\" class=\"data row0 col2\" >$18.96</td>\n",
       "            </tr>\n",
       "            <tr>\n",
       "                        <th id=\"T_b27a6_level0_row1\" class=\"row_heading level0 row1\" >Idastidru52</th>\n",
       "                        <td id=\"T_b27a6_row1_col0\" class=\"data row1 col0\" >4</td>\n",
       "                        <td id=\"T_b27a6_row1_col1\" class=\"data row1 col1\" >$3.86</td>\n",
       "                        <td id=\"T_b27a6_row1_col2\" class=\"data row1 col2\" >$15.45</td>\n",
       "            </tr>\n",
       "            <tr>\n",
       "                        <th id=\"T_b27a6_level0_row2\" class=\"row_heading level0 row2\" >Chamjask73</th>\n",
       "                        <td id=\"T_b27a6_row2_col0\" class=\"data row2 col0\" >3</td>\n",
       "                        <td id=\"T_b27a6_row2_col1\" class=\"data row2 col1\" >$4.61</td>\n",
       "                        <td id=\"T_b27a6_row2_col2\" class=\"data row2 col2\" >$13.83</td>\n",
       "            </tr>\n",
       "            <tr>\n",
       "                        <th id=\"T_b27a6_level0_row3\" class=\"row_heading level0 row3\" >Iral74</th>\n",
       "                        <td id=\"T_b27a6_row3_col0\" class=\"data row3 col0\" >4</td>\n",
       "                        <td id=\"T_b27a6_row3_col1\" class=\"data row3 col1\" >$3.40</td>\n",
       "                        <td id=\"T_b27a6_row3_col2\" class=\"data row3 col2\" >$13.62</td>\n",
       "            </tr>\n",
       "            <tr>\n",
       "                        <th id=\"T_b27a6_level0_row4\" class=\"row_heading level0 row4\" >Iskadarya95</th>\n",
       "                        <td id=\"T_b27a6_row4_col0\" class=\"data row4 col0\" >3</td>\n",
       "                        <td id=\"T_b27a6_row4_col1\" class=\"data row4 col1\" >$4.37</td>\n",
       "                        <td id=\"T_b27a6_row4_col2\" class=\"data row4 col2\" >$13.10</td>\n",
       "            </tr>\n",
       "    </tbody></table>"
      ],
      "text/plain": [
       "<pandas.io.formats.style.Styler at 0x1db80183400>"
      ]
     },
     "execution_count": 288,
     "metadata": {},
     "output_type": "execute_result"
    }
   ],
   "source": [
    "topspenders.head().style.format({\"Price\":\"${:.2f}\",\"Total Revenue\":\"${:.2f}\"})"
   ]
  },
  {
   "cell_type": "markdown",
   "id": "9bccfbc3",
   "metadata": {},
   "source": [
    "---\n",
    "\n",
    "# Most Popular Items\n",
    "Obtain a fresh copy of the data with unique entries for each item, return aggregate statistical measures"
   ]
  },
  {
   "cell_type": "code",
   "execution_count": 289,
   "id": "af874327",
   "metadata": {},
   "outputs": [],
   "source": [
    "popularitems = (\n",
    "    rawdata.copy().groupby([\"Item ID\",\"Item Name\"]).agg({\"Purchase ID\":'count',\"Price\":['mean','sum']})\n",
    "    .droplevel(0,1)\n",
    "    .rename(columns = {\"count\":\"Purchase Count\",\"mean\":\"Price\",\"sum\":\"Total Revenue\"})\n",
    "    .sort_values(\"Purchase Count\",ascending = False)\n",
    ")"
   ]
  },
  {
   "cell_type": "markdown",
   "id": "c5d8e892",
   "metadata": {},
   "source": [
    "Format and display the data"
   ]
  },
  {
   "cell_type": "code",
   "execution_count": 290,
   "id": "a97b3843",
   "metadata": {},
   "outputs": [
    {
     "data": {
      "text/html": [
       "<style  type=\"text/css\" >\n",
       "</style><table id=\"T_19366_\" ><thead>    <tr>        <th class=\"blank\" ></th>        <th class=\"blank level0\" ></th>        <th class=\"col_heading level0 col0\" >Purchase Count</th>        <th class=\"col_heading level0 col1\" >Price</th>        <th class=\"col_heading level0 col2\" >Total Revenue</th>    </tr>    <tr>        <th class=\"index_name level0\" >Item ID</th>        <th class=\"index_name level1\" >Item Name</th>        <th class=\"blank\" ></th>        <th class=\"blank\" ></th>        <th class=\"blank\" ></th>    </tr></thead><tbody>\n",
       "                <tr>\n",
       "                        <th id=\"T_19366_level0_row0\" class=\"row_heading level0 row0\" >92</th>\n",
       "                        <th id=\"T_19366_level1_row0\" class=\"row_heading level1 row0\" >Final Critic</th>\n",
       "                        <td id=\"T_19366_row0_col0\" class=\"data row0 col0\" >13</td>\n",
       "                        <td id=\"T_19366_row0_col1\" class=\"data row0 col1\" >$4.61</td>\n",
       "                        <td id=\"T_19366_row0_col2\" class=\"data row0 col2\" >$59.99</td>\n",
       "            </tr>\n",
       "            <tr>\n",
       "                        <th id=\"T_19366_level0_row1\" class=\"row_heading level0 row1\" >178</th>\n",
       "                        <th id=\"T_19366_level1_row1\" class=\"row_heading level1 row1\" >Oathbreaker, Last Hope of the Breaking Storm</th>\n",
       "                        <td id=\"T_19366_row1_col0\" class=\"data row1 col0\" >12</td>\n",
       "                        <td id=\"T_19366_row1_col1\" class=\"data row1 col1\" >$4.23</td>\n",
       "                        <td id=\"T_19366_row1_col2\" class=\"data row1 col2\" >$50.76</td>\n",
       "            </tr>\n",
       "            <tr>\n",
       "                        <th id=\"T_19366_level0_row2\" class=\"row_heading level0 row2\" >145</th>\n",
       "                        <th id=\"T_19366_level1_row2\" class=\"row_heading level1 row2\" >Fiery Glass Crusader</th>\n",
       "                        <td id=\"T_19366_row2_col0\" class=\"data row2 col0\" >9</td>\n",
       "                        <td id=\"T_19366_row2_col1\" class=\"data row2 col1\" >$4.58</td>\n",
       "                        <td id=\"T_19366_row2_col2\" class=\"data row2 col2\" >$41.22</td>\n",
       "            </tr>\n",
       "            <tr>\n",
       "                        <th id=\"T_19366_level0_row3\" class=\"row_heading level0 row3\" >132</th>\n",
       "                        <th id=\"T_19366_level1_row3\" class=\"row_heading level1 row3\" >Persuasion</th>\n",
       "                        <td id=\"T_19366_row3_col0\" class=\"data row3 col0\" >9</td>\n",
       "                        <td id=\"T_19366_row3_col1\" class=\"data row3 col1\" >$3.22</td>\n",
       "                        <td id=\"T_19366_row3_col2\" class=\"data row3 col2\" >$28.99</td>\n",
       "            </tr>\n",
       "            <tr>\n",
       "                        <th id=\"T_19366_level0_row4\" class=\"row_heading level0 row4\" >108</th>\n",
       "                        <th id=\"T_19366_level1_row4\" class=\"row_heading level1 row4\" >Extraction, Quickblade Of Trembling Hands</th>\n",
       "                        <td id=\"T_19366_row4_col0\" class=\"data row4 col0\" >9</td>\n",
       "                        <td id=\"T_19366_row4_col1\" class=\"data row4 col1\" >$3.53</td>\n",
       "                        <td id=\"T_19366_row4_col2\" class=\"data row4 col2\" >$31.77</td>\n",
       "            </tr>\n",
       "    </tbody></table>"
      ],
      "text/plain": [
       "<pandas.io.formats.style.Styler at 0x1db8019c760>"
      ]
     },
     "execution_count": 290,
     "metadata": {},
     "output_type": "execute_result"
    }
   ],
   "source": [
    "popularitems.head().style.format({\"Price\":\"${:.2f}\",\"Total Revenue\":\"${:.2f}\"})"
   ]
  },
  {
   "cell_type": "markdown",
   "id": "3b5b4f8f",
   "metadata": {},
   "source": [
    "---\n",
    "\n",
    "# Most Profitable Items "
   ]
  },
  {
   "cell_type": "markdown",
   "id": "18958720",
   "metadata": {},
   "source": [
    "Sort the most popular items table to determine te most profitable items"
   ]
  },
  {
   "cell_type": "code",
   "execution_count": 291,
   "id": "c50f4e29",
   "metadata": {},
   "outputs": [],
   "source": [
    "profitable_items = popularitems.sort_values(\"Total Revenue\",ascending = False)"
   ]
  },
  {
   "cell_type": "markdown",
   "id": "3c963b86",
   "metadata": {},
   "source": [
    "Format and display the data"
   ]
  },
  {
   "cell_type": "code",
   "execution_count": 292,
   "id": "6519c15e",
   "metadata": {},
   "outputs": [
    {
     "data": {
      "text/html": [
       "<style  type=\"text/css\" >\n",
       "</style><table id=\"T_700b5_\" ><thead>    <tr>        <th class=\"blank\" ></th>        <th class=\"blank level0\" ></th>        <th class=\"col_heading level0 col0\" >Purchase Count</th>        <th class=\"col_heading level0 col1\" >Price</th>        <th class=\"col_heading level0 col2\" >Total Revenue</th>    </tr>    <tr>        <th class=\"index_name level0\" >Item ID</th>        <th class=\"index_name level1\" >Item Name</th>        <th class=\"blank\" ></th>        <th class=\"blank\" ></th>        <th class=\"blank\" ></th>    </tr></thead><tbody>\n",
       "                <tr>\n",
       "                        <th id=\"T_700b5_level0_row0\" class=\"row_heading level0 row0\" >92</th>\n",
       "                        <th id=\"T_700b5_level1_row0\" class=\"row_heading level1 row0\" >Final Critic</th>\n",
       "                        <td id=\"T_700b5_row0_col0\" class=\"data row0 col0\" >13</td>\n",
       "                        <td id=\"T_700b5_row0_col1\" class=\"data row0 col1\" >$4.61</td>\n",
       "                        <td id=\"T_700b5_row0_col2\" class=\"data row0 col2\" >$59.99</td>\n",
       "            </tr>\n",
       "            <tr>\n",
       "                        <th id=\"T_700b5_level0_row1\" class=\"row_heading level0 row1\" >178</th>\n",
       "                        <th id=\"T_700b5_level1_row1\" class=\"row_heading level1 row1\" >Oathbreaker, Last Hope of the Breaking Storm</th>\n",
       "                        <td id=\"T_700b5_row1_col0\" class=\"data row1 col0\" >12</td>\n",
       "                        <td id=\"T_700b5_row1_col1\" class=\"data row1 col1\" >$4.23</td>\n",
       "                        <td id=\"T_700b5_row1_col2\" class=\"data row1 col2\" >$50.76</td>\n",
       "            </tr>\n",
       "            <tr>\n",
       "                        <th id=\"T_700b5_level0_row2\" class=\"row_heading level0 row2\" >82</th>\n",
       "                        <th id=\"T_700b5_level1_row2\" class=\"row_heading level1 row2\" >Nirvana</th>\n",
       "                        <td id=\"T_700b5_row2_col0\" class=\"data row2 col0\" >9</td>\n",
       "                        <td id=\"T_700b5_row2_col1\" class=\"data row2 col1\" >$4.90</td>\n",
       "                        <td id=\"T_700b5_row2_col2\" class=\"data row2 col2\" >$44.10</td>\n",
       "            </tr>\n",
       "            <tr>\n",
       "                        <th id=\"T_700b5_level0_row3\" class=\"row_heading level0 row3\" >145</th>\n",
       "                        <th id=\"T_700b5_level1_row3\" class=\"row_heading level1 row3\" >Fiery Glass Crusader</th>\n",
       "                        <td id=\"T_700b5_row3_col0\" class=\"data row3 col0\" >9</td>\n",
       "                        <td id=\"T_700b5_row3_col1\" class=\"data row3 col1\" >$4.58</td>\n",
       "                        <td id=\"T_700b5_row3_col2\" class=\"data row3 col2\" >$41.22</td>\n",
       "            </tr>\n",
       "            <tr>\n",
       "                        <th id=\"T_700b5_level0_row4\" class=\"row_heading level0 row4\" >103</th>\n",
       "                        <th id=\"T_700b5_level1_row4\" class=\"row_heading level1 row4\" >Singed Scalpel</th>\n",
       "                        <td id=\"T_700b5_row4_col0\" class=\"data row4 col0\" >8</td>\n",
       "                        <td id=\"T_700b5_row4_col1\" class=\"data row4 col1\" >$4.35</td>\n",
       "                        <td id=\"T_700b5_row4_col2\" class=\"data row4 col2\" >$34.80</td>\n",
       "            </tr>\n",
       "            <tr>\n",
       "                        <th id=\"T_700b5_level0_row5\" class=\"row_heading level0 row5\" >59</th>\n",
       "                        <th id=\"T_700b5_level1_row5\" class=\"row_heading level1 row5\" >Lightning, Etcher of the King</th>\n",
       "                        <td id=\"T_700b5_row5_col0\" class=\"data row5 col0\" >8</td>\n",
       "                        <td id=\"T_700b5_row5_col1\" class=\"data row5 col1\" >$4.23</td>\n",
       "                        <td id=\"T_700b5_row5_col2\" class=\"data row5 col2\" >$33.84</td>\n",
       "            </tr>\n",
       "            <tr>\n",
       "                        <th id=\"T_700b5_level0_row6\" class=\"row_heading level0 row6\" >108</th>\n",
       "                        <th id=\"T_700b5_level1_row6\" class=\"row_heading level1 row6\" >Extraction, Quickblade Of Trembling Hands</th>\n",
       "                        <td id=\"T_700b5_row6_col0\" class=\"data row6 col0\" >9</td>\n",
       "                        <td id=\"T_700b5_row6_col1\" class=\"data row6 col1\" >$3.53</td>\n",
       "                        <td id=\"T_700b5_row6_col2\" class=\"data row6 col2\" >$31.77</td>\n",
       "            </tr>\n",
       "            <tr>\n",
       "                        <th id=\"T_700b5_level0_row7\" class=\"row_heading level0 row7\" >78</th>\n",
       "                        <th id=\"T_700b5_level1_row7\" class=\"row_heading level1 row7\" >Glimmer, Ender of the Moon</th>\n",
       "                        <td id=\"T_700b5_row7_col0\" class=\"data row7 col0\" >7</td>\n",
       "                        <td id=\"T_700b5_row7_col1\" class=\"data row7 col1\" >$4.40</td>\n",
       "                        <td id=\"T_700b5_row7_col2\" class=\"data row7 col2\" >$30.80</td>\n",
       "            </tr>\n",
       "            <tr>\n",
       "                        <th id=\"T_700b5_level0_row8\" class=\"row_heading level0 row8\" >72</th>\n",
       "                        <th id=\"T_700b5_level1_row8\" class=\"row_heading level1 row8\" >Winter's Bite</th>\n",
       "                        <td id=\"T_700b5_row8_col0\" class=\"data row8 col0\" >8</td>\n",
       "                        <td id=\"T_700b5_row8_col1\" class=\"data row8 col1\" >$3.77</td>\n",
       "                        <td id=\"T_700b5_row8_col2\" class=\"data row8 col2\" >$30.16</td>\n",
       "            </tr>\n",
       "            <tr>\n",
       "                        <th id=\"T_700b5_level0_row9\" class=\"row_heading level0 row9\" >132</th>\n",
       "                        <th id=\"T_700b5_level1_row9\" class=\"row_heading level1 row9\" >Persuasion</th>\n",
       "                        <td id=\"T_700b5_row9_col0\" class=\"data row9 col0\" >9</td>\n",
       "                        <td id=\"T_700b5_row9_col1\" class=\"data row9 col1\" >$3.22</td>\n",
       "                        <td id=\"T_700b5_row9_col2\" class=\"data row9 col2\" >$28.99</td>\n",
       "            </tr>\n",
       "            <tr>\n",
       "                        <th id=\"T_700b5_level0_row10\" class=\"row_heading level0 row10\" >60</th>\n",
       "                        <th id=\"T_700b5_level1_row10\" class=\"row_heading level1 row10\" >Wolf</th>\n",
       "                        <td id=\"T_700b5_row10_col0\" class=\"data row10 col0\" >8</td>\n",
       "                        <td id=\"T_700b5_row10_col1\" class=\"data row10 col1\" >$3.54</td>\n",
       "                        <td id=\"T_700b5_row10_col2\" class=\"data row10 col2\" >$28.32</td>\n",
       "            </tr>\n",
       "            <tr>\n",
       "                        <th id=\"T_700b5_level0_row11\" class=\"row_heading level0 row11\" >179</th>\n",
       "                        <th id=\"T_700b5_level1_row11\" class=\"row_heading level1 row11\" >Wolf, Promise of the Moonwalker</th>\n",
       "                        <td id=\"T_700b5_row11_col0\" class=\"data row11 col0\" >6</td>\n",
       "                        <td id=\"T_700b5_row11_col1\" class=\"data row11 col1\" >$4.48</td>\n",
       "                        <td id=\"T_700b5_row11_col2\" class=\"data row11 col2\" >$26.88</td>\n",
       "            </tr>\n",
       "            <tr>\n",
       "                        <th id=\"T_700b5_level0_row12\" class=\"row_heading level0 row12\" >160</th>\n",
       "                        <th id=\"T_700b5_level1_row12\" class=\"row_heading level1 row12\" >Azurewrath</th>\n",
       "                        <td id=\"T_700b5_row12_col0\" class=\"data row12 col0\" >6</td>\n",
       "                        <td id=\"T_700b5_row12_col1\" class=\"data row12 col1\" >$4.40</td>\n",
       "                        <td id=\"T_700b5_row12_col2\" class=\"data row12 col2\" >$26.40</td>\n",
       "            </tr>\n",
       "            <tr>\n",
       "                        <th id=\"T_700b5_level0_row13\" class=\"row_heading level0 row13\" >25</th>\n",
       "                        <th id=\"T_700b5_level1_row13\" class=\"row_heading level1 row13\" >Hero Cane</th>\n",
       "                        <td id=\"T_700b5_row13_col0\" class=\"data row13 col0\" >6</td>\n",
       "                        <td id=\"T_700b5_row13_col1\" class=\"data row13 col1\" >$4.35</td>\n",
       "                        <td id=\"T_700b5_row13_col2\" class=\"data row13 col2\" >$26.10</td>\n",
       "            </tr>\n",
       "            <tr>\n",
       "                        <th id=\"T_700b5_level0_row14\" class=\"row_heading level0 row14\" >37</th>\n",
       "                        <th id=\"T_700b5_level1_row14\" class=\"row_heading level1 row14\" >Shadow Strike, Glory of Ending Hope</th>\n",
       "                        <td id=\"T_700b5_row14_col0\" class=\"data row14 col0\" >8</td>\n",
       "                        <td id=\"T_700b5_row14_col1\" class=\"data row14 col1\" >$3.16</td>\n",
       "                        <td id=\"T_700b5_row14_col2\" class=\"data row14 col2\" >$25.28</td>\n",
       "            </tr>\n",
       "            <tr>\n",
       "                        <th id=\"T_700b5_level0_row15\" class=\"row_heading level0 row15\" >139</th>\n",
       "                        <th id=\"T_700b5_level1_row15\" class=\"row_heading level1 row15\" >Mercy, Katana of Dismay</th>\n",
       "                        <td id=\"T_700b5_row15_col0\" class=\"data row15 col0\" >5</td>\n",
       "                        <td id=\"T_700b5_row15_col1\" class=\"data row15 col1\" >$4.94</td>\n",
       "                        <td id=\"T_700b5_row15_col2\" class=\"data row15 col2\" >$24.70</td>\n",
       "            </tr>\n",
       "            <tr>\n",
       "                        <th id=\"T_700b5_level0_row16\" class=\"row_heading level0 row16\" >128</th>\n",
       "                        <th id=\"T_700b5_level1_row16\" class=\"row_heading level1 row16\" >Blazeguard, Reach of Eternity</th>\n",
       "                        <td id=\"T_700b5_row16_col0\" class=\"data row16 col0\" >5</td>\n",
       "                        <td id=\"T_700b5_row16_col1\" class=\"data row16 col1\" >$4.91</td>\n",
       "                        <td id=\"T_700b5_row16_col2\" class=\"data row16 col2\" >$24.55</td>\n",
       "            </tr>\n",
       "            <tr>\n",
       "                        <th id=\"T_700b5_level0_row17\" class=\"row_heading level0 row17\" >138</th>\n",
       "                        <th id=\"T_700b5_level1_row17\" class=\"row_heading level1 row17\" >Peacekeeper, Wit of Dark Magic</th>\n",
       "                        <td id=\"T_700b5_row17_col0\" class=\"data row17 col0\" >5</td>\n",
       "                        <td id=\"T_700b5_row17_col1\" class=\"data row17 col1\" >$4.74</td>\n",
       "                        <td id=\"T_700b5_row17_col2\" class=\"data row17 col2\" >$23.70</td>\n",
       "            </tr>\n",
       "            <tr>\n",
       "                        <th id=\"T_700b5_level0_row18\" class=\"row_heading level0 row18\" >87</th>\n",
       "                        <th id=\"T_700b5_level1_row18\" class=\"row_heading level1 row18\" >Deluge, Edge of the West</th>\n",
       "                        <td id=\"T_700b5_row18_col0\" class=\"data row18 col0\" >5</td>\n",
       "                        <td id=\"T_700b5_row18_col1\" class=\"data row18 col1\" >$4.43</td>\n",
       "                        <td id=\"T_700b5_row18_col2\" class=\"data row18 col2\" >$22.15</td>\n",
       "            </tr>\n",
       "            <tr>\n",
       "                        <th id=\"T_700b5_level0_row19\" class=\"row_heading level0 row19\" >159</th>\n",
       "                        <th id=\"T_700b5_level1_row19\" class=\"row_heading level1 row19\" >Oathbreaker, Spellblade of Trials</th>\n",
       "                        <td id=\"T_700b5_row19_col0\" class=\"data row19 col0\" >7</td>\n",
       "                        <td id=\"T_700b5_row19_col1\" class=\"data row19 col1\" >$3.08</td>\n",
       "                        <td id=\"T_700b5_row19_col2\" class=\"data row19 col2\" >$21.56</td>\n",
       "            </tr>\n",
       "    </tbody></table>"
      ],
      "text/plain": [
       "<pandas.io.formats.style.Styler at 0x1db80173fa0>"
      ]
     },
     "execution_count": 292,
     "metadata": {},
     "output_type": "execute_result"
    }
   ],
   "source": [
    "profitable_items.head(20).style.format({\"Price\":\"${:.2f}\",\"Total Revenue\":\"${:.2f}\"})"
   ]
  },
  {
   "cell_type": "markdown",
   "id": "d5cc520a",
   "metadata": {},
   "source": [
    "# Price Changes\n",
    "Obtain a fresh copy of the data, determine which items have sold at more than one price point"
   ]
  },
  {
   "cell_type": "code",
   "execution_count": 293,
   "id": "0561163e",
   "metadata": {},
   "outputs": [
    {
     "data": {
      "text/html": [
       "<div>\n",
       "<style scoped>\n",
       "    .dataframe tbody tr th:only-of-type {\n",
       "        vertical-align: middle;\n",
       "    }\n",
       "\n",
       "    .dataframe tbody tr th {\n",
       "        vertical-align: top;\n",
       "    }\n",
       "\n",
       "    .dataframe thead th {\n",
       "        text-align: right;\n",
       "    }\n",
       "</style>\n",
       "<table border=\"1\" class=\"dataframe\">\n",
       "  <thead>\n",
       "    <tr style=\"text-align: right;\">\n",
       "      <th></th>\n",
       "      <th></th>\n",
       "      <th>Price Points</th>\n",
       "    </tr>\n",
       "    <tr>\n",
       "      <th>Item ID</th>\n",
       "      <th>Item Name</th>\n",
       "      <th></th>\n",
       "    </tr>\n",
       "  </thead>\n",
       "  <tbody>\n",
       "    <tr>\n",
       "      <th>92</th>\n",
       "      <th>Final Critic</th>\n",
       "      <td>2</td>\n",
       "    </tr>\n",
       "    <tr>\n",
       "      <th>1</th>\n",
       "      <th>Crucifer</th>\n",
       "      <td>2</td>\n",
       "    </tr>\n",
       "    <tr>\n",
       "      <th>132</th>\n",
       "      <th>Persuasion</th>\n",
       "      <td>2</td>\n",
       "    </tr>\n",
       "    <tr>\n",
       "      <th>30</th>\n",
       "      <th>Stormcaller</th>\n",
       "      <td>2</td>\n",
       "    </tr>\n",
       "    <tr>\n",
       "      <th>125</th>\n",
       "      <th>Whistling Mithril Warblade</th>\n",
       "      <td>1</td>\n",
       "    </tr>\n",
       "    <tr>\n",
       "      <th>...</th>\n",
       "      <th>...</th>\n",
       "      <td>...</td>\n",
       "    </tr>\n",
       "    <tr>\n",
       "      <th>63</th>\n",
       "      <th>Stormfury Mace</th>\n",
       "      <td>1</td>\n",
       "    </tr>\n",
       "    <tr>\n",
       "      <th>64</th>\n",
       "      <th>Fusion Pummel</th>\n",
       "      <td>1</td>\n",
       "    </tr>\n",
       "    <tr>\n",
       "      <th>65</th>\n",
       "      <th>Conqueror Adamantite Mace</th>\n",
       "      <td>1</td>\n",
       "    </tr>\n",
       "    <tr>\n",
       "      <th>66</th>\n",
       "      <th>Victor Iron Spikes</th>\n",
       "      <td>1</td>\n",
       "    </tr>\n",
       "    <tr>\n",
       "      <th>183</th>\n",
       "      <th>Dragon's Greatsword</th>\n",
       "      <td>1</td>\n",
       "    </tr>\n",
       "  </tbody>\n",
       "</table>\n",
       "<p>179 rows × 1 columns</p>\n",
       "</div>"
      ],
      "text/plain": [
       "                                    Price Points\n",
       "Item ID Item Name                               \n",
       "92      Final Critic                           2\n",
       "1       Crucifer                               2\n",
       "132     Persuasion                             2\n",
       "30      Stormcaller                            2\n",
       "125     Whistling Mithril Warblade             1\n",
       "...                                          ...\n",
       "63      Stormfury Mace                         1\n",
       "64      Fusion Pummel                          1\n",
       "65      Conqueror Adamantite Mace              1\n",
       "66      Victor Iron Spikes                     1\n",
       "183     Dragon's Greatsword                    1\n",
       "\n",
       "[179 rows x 1 columns]"
      ]
     },
     "metadata": {},
     "output_type": "display_data"
    }
   ],
   "source": [
    "pricingdata = (rawdata.copy().groupby([\"Item ID\",\"Item Name\"]).agg({'Price':'nunique'})\n",
    "               .rename(columns = {\"Price\":\"Price Points\"}).sort_values(\"Price Points\",ascending =False))\n",
    "display(pricingdata)"
   ]
  },
  {
   "cell_type": "markdown",
   "id": "dc60e2b3",
   "metadata": {},
   "source": [
    "Filter the data for items that have sold at more than once price point"
   ]
  },
  {
   "cell_type": "code",
   "execution_count": 294,
   "id": "568602c2",
   "metadata": {},
   "outputs": [],
   "source": [
    "pricechanges = rawdata.copy().loc[(rawdata[\"Item ID\"] == 92)  |(rawdata[\"Item ID\"] == 1)\n",
    "                                  | (rawdata[\"Item ID\"] == 132) | (rawdata[\"Item ID\"] == 30) ]"
   ]
  },
  {
   "cell_type": "markdown",
   "id": "92cf8f0a",
   "metadata": {},
   "source": [
    "Determine how many sales have occured at each price point"
   ]
  },
  {
   "cell_type": "code",
   "execution_count": 295,
   "id": "e58b3994",
   "metadata": {},
   "outputs": [
    {
     "data": {
      "text/html": [
       "<div>\n",
       "<style scoped>\n",
       "    .dataframe tbody tr th:only-of-type {\n",
       "        vertical-align: middle;\n",
       "    }\n",
       "\n",
       "    .dataframe tbody tr th {\n",
       "        vertical-align: top;\n",
       "    }\n",
       "\n",
       "    .dataframe thead th {\n",
       "        text-align: right;\n",
       "    }\n",
       "</style>\n",
       "<table border=\"1\" class=\"dataframe\">\n",
       "  <thead>\n",
       "    <tr style=\"text-align: right;\">\n",
       "      <th></th>\n",
       "      <th></th>\n",
       "      <th>Number of Sales</th>\n",
       "    </tr>\n",
       "    <tr>\n",
       "      <th>Item Name</th>\n",
       "      <th>Price</th>\n",
       "      <th></th>\n",
       "    </tr>\n",
       "  </thead>\n",
       "  <tbody>\n",
       "    <tr>\n",
       "      <th rowspan=\"2\" valign=\"top\">Crucifer</th>\n",
       "      <th>1.99</th>\n",
       "      <td>1</td>\n",
       "    </tr>\n",
       "    <tr>\n",
       "      <th>3.26</th>\n",
       "      <td>3</td>\n",
       "    </tr>\n",
       "    <tr>\n",
       "      <th rowspan=\"2\" valign=\"top\">Final Critic</th>\n",
       "      <th>4.19</th>\n",
       "      <td>5</td>\n",
       "    </tr>\n",
       "    <tr>\n",
       "      <th>4.88</th>\n",
       "      <td>8</td>\n",
       "    </tr>\n",
       "    <tr>\n",
       "      <th rowspan=\"2\" valign=\"top\">Persuasion</th>\n",
       "      <th>3.19</th>\n",
       "      <td>7</td>\n",
       "    </tr>\n",
       "    <tr>\n",
       "      <th>3.33</th>\n",
       "      <td>2</td>\n",
       "    </tr>\n",
       "    <tr>\n",
       "      <th rowspan=\"2\" valign=\"top\">Stormcaller</th>\n",
       "      <th>2.21</th>\n",
       "      <td>2</td>\n",
       "    </tr>\n",
       "    <tr>\n",
       "      <th>3.36</th>\n",
       "      <td>1</td>\n",
       "    </tr>\n",
       "  </tbody>\n",
       "</table>\n",
       "</div>"
      ],
      "text/plain": [
       "                    Number of Sales\n",
       "Item Name    Price                 \n",
       "Crucifer     1.99                 1\n",
       "             3.26                 3\n",
       "Final Critic 4.19                 5\n",
       "             4.88                 8\n",
       "Persuasion   3.19                 7\n",
       "             3.33                 2\n",
       "Stormcaller  2.21                 2\n",
       "             3.36                 1"
      ]
     },
     "metadata": {},
     "output_type": "display_data"
    }
   ],
   "source": [
    "salesinfo = pricechanges.groupby([\"Item Name\",\"Price\"]).agg({\"Price\":'count'}).rename(columns ={\"Price\":\"Number of Sales\"})\n",
    "display(salesinfo)"
   ]
  }
 ],
 "metadata": {
  "kernelspec": {
   "display_name": "Python 3",
   "language": "python",
   "name": "python3"
  },
  "language_info": {
   "codemirror_mode": {
    "name": "ipython",
    "version": 3
   },
   "file_extension": ".py",
   "mimetype": "text/x-python",
   "name": "python",
   "nbconvert_exporter": "python",
   "pygments_lexer": "ipython3",
   "version": "3.8.8"
  }
 },
 "nbformat": 4,
 "nbformat_minor": 5
}
