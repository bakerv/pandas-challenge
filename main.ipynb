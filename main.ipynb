{
 "cells": [
  {
   "cell_type": "code",
   "execution_count": 1,
   "id": "043bc92c",
   "metadata": {},
   "outputs": [],
   "source": [
    "#Import dependencies\n",
    "import pandas as pd\n",
    "\n",
    "#Read in the csv file\n",
    "datapath = \"Resources/purchase_data.csv\"\n",
    "rawdata = pd.read_csv(datapath)\n",
    "\n"
   ]
  },
  {
   "cell_type": "markdown",
   "id": "eb71ae91",
   "metadata": {},
   "source": [
    "### purchase_data.CSV Data Sample"
   ]
  },
  {
   "cell_type": "code",
   "execution_count": 2,
   "id": "09b5964a",
   "metadata": {},
   "outputs": [
    {
     "data": {
      "text/html": [
       "<div>\n",
       "<style scoped>\n",
       "    .dataframe tbody tr th:only-of-type {\n",
       "        vertical-align: middle;\n",
       "    }\n",
       "\n",
       "    .dataframe tbody tr th {\n",
       "        vertical-align: top;\n",
       "    }\n",
       "\n",
       "    .dataframe thead th {\n",
       "        text-align: right;\n",
       "    }\n",
       "</style>\n",
       "<table border=\"1\" class=\"dataframe\">\n",
       "  <thead>\n",
       "    <tr style=\"text-align: right;\">\n",
       "      <th></th>\n",
       "      <th>Purchase ID</th>\n",
       "      <th>SN</th>\n",
       "      <th>Age</th>\n",
       "      <th>Gender</th>\n",
       "      <th>Item ID</th>\n",
       "      <th>Item Name</th>\n",
       "      <th>Price</th>\n",
       "    </tr>\n",
       "  </thead>\n",
       "  <tbody>\n",
       "    <tr>\n",
       "      <th>0</th>\n",
       "      <td>0</td>\n",
       "      <td>Lisim78</td>\n",
       "      <td>20</td>\n",
       "      <td>Male</td>\n",
       "      <td>108</td>\n",
       "      <td>Extraction, Quickblade Of Trembling Hands</td>\n",
       "      <td>3.53</td>\n",
       "    </tr>\n",
       "    <tr>\n",
       "      <th>1</th>\n",
       "      <td>1</td>\n",
       "      <td>Lisovynya38</td>\n",
       "      <td>40</td>\n",
       "      <td>Male</td>\n",
       "      <td>143</td>\n",
       "      <td>Frenzied Scimitar</td>\n",
       "      <td>1.56</td>\n",
       "    </tr>\n",
       "    <tr>\n",
       "      <th>2</th>\n",
       "      <td>2</td>\n",
       "      <td>Ithergue48</td>\n",
       "      <td>24</td>\n",
       "      <td>Male</td>\n",
       "      <td>92</td>\n",
       "      <td>Final Critic</td>\n",
       "      <td>4.88</td>\n",
       "    </tr>\n",
       "    <tr>\n",
       "      <th>3</th>\n",
       "      <td>3</td>\n",
       "      <td>Chamassasya86</td>\n",
       "      <td>24</td>\n",
       "      <td>Male</td>\n",
       "      <td>100</td>\n",
       "      <td>Blindscythe</td>\n",
       "      <td>3.27</td>\n",
       "    </tr>\n",
       "    <tr>\n",
       "      <th>4</th>\n",
       "      <td>4</td>\n",
       "      <td>Iskosia90</td>\n",
       "      <td>23</td>\n",
       "      <td>Male</td>\n",
       "      <td>131</td>\n",
       "      <td>Fury</td>\n",
       "      <td>1.44</td>\n",
       "    </tr>\n",
       "  </tbody>\n",
       "</table>\n",
       "</div>"
      ],
      "text/plain": [
       "   Purchase ID             SN  Age Gender  Item ID  \\\n",
       "0            0        Lisim78   20   Male      108   \n",
       "1            1    Lisovynya38   40   Male      143   \n",
       "2            2     Ithergue48   24   Male       92   \n",
       "3            3  Chamassasya86   24   Male      100   \n",
       "4            4      Iskosia90   23   Male      131   \n",
       "\n",
       "                                   Item Name  Price  \n",
       "0  Extraction, Quickblade Of Trembling Hands   3.53  \n",
       "1                          Frenzied Scimitar   1.56  \n",
       "2                               Final Critic   4.88  \n",
       "3                                Blindscythe   3.27  \n",
       "4                                       Fury   1.44  "
      ]
     },
     "execution_count": 2,
     "metadata": {},
     "output_type": "execute_result"
    }
   ],
   "source": [
    "#Display data sample\n",
    "rawdata.head()"
   ]
  },
  {
   "cell_type": "markdown",
   "id": "8f3545f6",
   "metadata": {},
   "source": [
    "---\n",
    "\n",
    "# Player Count\n",
    "Return the number of unique entries in the SN column of the dataframe"
   ]
  },
  {
   "cell_type": "code",
   "execution_count": 3,
   "id": "e2bcc7e4",
   "metadata": {},
   "outputs": [],
   "source": [
    "playercount = (\n",
    "    rawdata.copy().agg({'SN':'nunique'})\n",
    "    .to_frame().rename({'SN': 'Total Players'}).T # Improve the format of the output\n",
    ")"
   ]
  },
  {
   "cell_type": "markdown",
   "id": "a2864598",
   "metadata": {},
   "source": [
    "Display the data"
   ]
  },
  {
   "cell_type": "code",
   "execution_count": 4,
   "id": "6a9739b2",
   "metadata": {},
   "outputs": [
    {
     "data": {
      "text/html": [
       "<div>\n",
       "<style scoped>\n",
       "    .dataframe tbody tr th:only-of-type {\n",
       "        vertical-align: middle;\n",
       "    }\n",
       "\n",
       "    .dataframe tbody tr th {\n",
       "        vertical-align: top;\n",
       "    }\n",
       "\n",
       "    .dataframe thead th {\n",
       "        text-align: right;\n",
       "    }\n",
       "</style>\n",
       "<table border=\"1\" class=\"dataframe\">\n",
       "  <thead>\n",
       "    <tr style=\"text-align: right;\">\n",
       "      <th></th>\n",
       "      <th>Total Players</th>\n",
       "    </tr>\n",
       "  </thead>\n",
       "  <tbody>\n",
       "    <tr>\n",
       "      <th>0</th>\n",
       "      <td>576</td>\n",
       "    </tr>\n",
       "  </tbody>\n",
       "</table>\n",
       "</div>"
      ],
      "text/plain": [
       "   Total Players\n",
       "0            576"
      ]
     },
     "metadata": {},
     "output_type": "display_data"
    }
   ],
   "source": [
    "display(playercount)"
   ]
  },
  {
   "cell_type": "markdown",
   "id": "6fd369d6",
   "metadata": {},
   "source": [
    "---\n",
    "\n",
    "# Purchasing Analysis (Total)"
   ]
  },
  {
   "cell_type": "markdown",
   "id": "95c1c30c",
   "metadata": {},
   "source": [
    "Obtain a fresh copy of the data with entries for all transactions"
   ]
  },
  {
   "cell_type": "code",
   "execution_count": 5,
   "id": "c832e1aa",
   "metadata": {},
   "outputs": [],
   "source": [
    "purchasing_analysis = rawdata.copy()\n",
    "purchasing_analysis[\"Total Revenue\"] = purchasing_analysis[\"Price\"]"
   ]
  },
  {
   "cell_type": "markdown",
   "id": "6e052287",
   "metadata": {},
   "source": [
    "Get aggregate statistical measures from all transactions"
   ]
  },
  {
   "cell_type": "code",
   "execution_count": 6,
   "id": "73cdb180",
   "metadata": {},
   "outputs": [],
   "source": [
    "purchasing_analysis = (\n",
    "    purchasing_analysis\n",
    "    .agg({\"Purchase ID\":'count',\"Price\":'mean',\n",
    "          \"Item ID\":'nunique',\"Total Revenue\":'sum'})\n",
    "    .rename({\"Purchase ID\":\"Number of Purchases\",\"Price\":\"Average Price\", # Improve the format of the output\n",
    "             \"Item ID\":\"Number of Unique Items\"}).to_frame().T\n",
    " )"
   ]
  },
  {
   "cell_type": "markdown",
   "id": "c1ae25bb",
   "metadata": {},
   "source": [
    "Format and display the data"
   ]
  },
  {
   "cell_type": "code",
   "execution_count": 7,
   "id": "4a7ef671",
   "metadata": {},
   "outputs": [
    {
     "data": {
      "text/html": [
       "<div>\n",
       "<style scoped>\n",
       "    .dataframe tbody tr th:only-of-type {\n",
       "        vertical-align: middle;\n",
       "    }\n",
       "\n",
       "    .dataframe tbody tr th {\n",
       "        vertical-align: top;\n",
       "    }\n",
       "\n",
       "    .dataframe thead th {\n",
       "        text-align: right;\n",
       "    }\n",
       "</style>\n",
       "<table border=\"1\" class=\"dataframe\">\n",
       "  <thead>\n",
       "    <tr style=\"text-align: right;\">\n",
       "      <th></th>\n",
       "      <th>Number of Purchases</th>\n",
       "      <th>Average Price</th>\n",
       "      <th>Number of Unique Items</th>\n",
       "      <th>Total Revenue</th>\n",
       "    </tr>\n",
       "  </thead>\n",
       "  <tbody>\n",
       "    <tr>\n",
       "      <th>0</th>\n",
       "      <td>780</td>\n",
       "      <td>$3.05</td>\n",
       "      <td>179</td>\n",
       "      <td>$2379.77</td>\n",
       "    </tr>\n",
       "  </tbody>\n",
       "</table>\n",
       "</div>"
      ],
      "text/plain": [
       "   Number of Purchases Average Price  Number of Unique Items Total Revenue\n",
       "0                  780         $3.05                     179      $2379.77"
      ]
     },
     "execution_count": 7,
     "metadata": {},
     "output_type": "execute_result"
    }
   ],
   "source": [
    "pa_output = purchasing_analysis.copy()\n",
    "pa_output[\"Number of Purchases\"] = purchasing_analysis[\"Number of Purchases\"].astype(int)\n",
    "pa_output[\"Average Price\"] = purchasing_analysis[\"Average Price\"].map(\"${:.2f}\".format)\n",
    "pa_output[\"Number of Unique Items\"] = purchasing_analysis[\"Number of Unique Items\"].astype(int)\n",
    "pa_output[\"Total Revenue\"] = purchasing_analysis[\"Total Revenue\"].map(\"${:.2f}\".format)\n",
    "pa_output"
   ]
  },
  {
   "cell_type": "markdown",
   "id": "c46c09f0",
   "metadata": {},
   "source": [
    "---\n",
    "\n",
    "# Gender Demographics"
   ]
  },
  {
   "cell_type": "markdown",
   "id": "bacc3e7c",
   "metadata": {},
   "source": [
    "Obtain a fresh copy of the data with a single entry for each player"
   ]
  },
  {
   "cell_type": "code",
   "execution_count": 8,
   "id": "aa11bef3",
   "metadata": {},
   "outputs": [],
   "source": [
    "genderdata = rawdata.copy().drop_duplicates(subset = \"SN\",ignore_index =True)"
   ]
  },
  {
   "cell_type": "markdown",
   "id": "17645e8c",
   "metadata": {},
   "source": [
    "Group the entries by gender, and count the results"
   ]
  },
  {
   "cell_type": "code",
   "execution_count": 9,
   "id": "8920efc4",
   "metadata": {},
   "outputs": [],
   "source": [
    "genderdemos = (genderdata[\"Gender\"].value_counts().to_frame()\n",
    "               .rename(columns = {\"Gender\":\"Number of Players\"})) # Column name changed to reflect new meaning\n",
    "genderdemos[\"Percentage of Players\"] = genderdemos[\"Number of Players\"]/sum(genderdemos[\"Number of Players\"])\n"
   ]
  },
  {
   "cell_type": "markdown",
   "id": "a5cec35d",
   "metadata": {},
   "source": [
    "Format and display the data"
   ]
  },
  {
   "cell_type": "code",
   "execution_count": 10,
   "id": "5079b48c",
   "metadata": {},
   "outputs": [
    {
     "data": {
      "text/html": [
       "<div>\n",
       "<style scoped>\n",
       "    .dataframe tbody tr th:only-of-type {\n",
       "        vertical-align: middle;\n",
       "    }\n",
       "\n",
       "    .dataframe tbody tr th {\n",
       "        vertical-align: top;\n",
       "    }\n",
       "\n",
       "    .dataframe thead th {\n",
       "        text-align: right;\n",
       "    }\n",
       "</style>\n",
       "<table border=\"1\" class=\"dataframe\">\n",
       "  <thead>\n",
       "    <tr style=\"text-align: right;\">\n",
       "      <th></th>\n",
       "      <th>Number of Players</th>\n",
       "      <th>Percentage of Players</th>\n",
       "    </tr>\n",
       "  </thead>\n",
       "  <tbody>\n",
       "    <tr>\n",
       "      <th>Male</th>\n",
       "      <td>484</td>\n",
       "      <td>84.03%</td>\n",
       "    </tr>\n",
       "    <tr>\n",
       "      <th>Female</th>\n",
       "      <td>81</td>\n",
       "      <td>14.06%</td>\n",
       "    </tr>\n",
       "    <tr>\n",
       "      <th>Other / Non-Disclosed</th>\n",
       "      <td>11</td>\n",
       "      <td>1.91%</td>\n",
       "    </tr>\n",
       "  </tbody>\n",
       "</table>\n",
       "</div>"
      ],
      "text/plain": [
       "                       Number of Players Percentage of Players\n",
       "Male                                 484                84.03%\n",
       "Female                                81                14.06%\n",
       "Other / Non-Disclosed                 11                 1.91%"
      ]
     },
     "execution_count": 10,
     "metadata": {},
     "output_type": "execute_result"
    }
   ],
   "source": [
    "gd_output = genderdemos.copy()\n",
    "gd_output[\"Percentage of Players\"] = gd_output[\"Percentage of Players\"].map(\"{:.2%}\".format)\n",
    "gd_output"
   ]
  },
  {
   "cell_type": "markdown",
   "id": "a8bd0d57",
   "metadata": {},
   "source": [
    " ---\n",
    " \n",
    " # Purchasing Analysis (Gender)"
   ]
  },
  {
   "cell_type": "markdown",
   "id": "ee80622e",
   "metadata": {},
   "source": [
    "Get aggregate statistical measures from data containing all transactions"
   ]
  },
  {
   "cell_type": "code",
   "execution_count": 11,
   "id": "f8b258ac",
   "metadata": {},
   "outputs": [],
   "source": [
    "genderpurchasing =(\n",
    "    rawdata.copy().groupby(\"Gender\").agg({\"Purchase ID\":\"count\",\"Price\":[\"mean\",\"sum\"]})\n",
    "    .droplevel(0,1)\n",
    "    .rename(columns ={\"count\":\"Total Purchases\",\"mean\":\"Average Price\",\"sum\":\"Total Revenue\"})\n",
    ")"
   ]
  },
  {
   "cell_type": "markdown",
   "id": "21505e6b",
   "metadata": {},
   "source": [
    "Group the data to get total sales for each player, then return the mean total purchase for each gender"
   ]
  },
  {
   "cell_type": "code",
   "execution_count": 12,
   "id": "16c21e02",
   "metadata": {},
   "outputs": [],
   "source": [
    "genderpurchasing[\"Average Per Person\"] = (rawdata.groupby(\"SN\").agg({\"Gender\":'first','Price': 'sum'})\n",
    "                                          .groupby(\"Gender\").mean())"
   ]
  },
  {
   "cell_type": "markdown",
   "id": "6f1ace8c",
   "metadata": {},
   "source": [
    "Format and display the data"
   ]
  },
  {
   "cell_type": "code",
   "execution_count": 13,
   "id": "b933468b",
   "metadata": {},
   "outputs": [
    {
     "data": {
      "text/html": [
       "<div>\n",
       "<style scoped>\n",
       "    .dataframe tbody tr th:only-of-type {\n",
       "        vertical-align: middle;\n",
       "    }\n",
       "\n",
       "    .dataframe tbody tr th {\n",
       "        vertical-align: top;\n",
       "    }\n",
       "\n",
       "    .dataframe thead th {\n",
       "        text-align: right;\n",
       "    }\n",
       "</style>\n",
       "<table border=\"1\" class=\"dataframe\">\n",
       "  <thead>\n",
       "    <tr style=\"text-align: right;\">\n",
       "      <th></th>\n",
       "      <th>Total Purchases</th>\n",
       "      <th>Average Price</th>\n",
       "      <th>Total Revenue</th>\n",
       "      <th>Average Per Person</th>\n",
       "    </tr>\n",
       "    <tr>\n",
       "      <th>Gender</th>\n",
       "      <th></th>\n",
       "      <th></th>\n",
       "      <th></th>\n",
       "      <th></th>\n",
       "    </tr>\n",
       "  </thead>\n",
       "  <tbody>\n",
       "    <tr>\n",
       "      <th>Female</th>\n",
       "      <td>113</td>\n",
       "      <td>$3.20</td>\n",
       "      <td>$361.94</td>\n",
       "      <td>$4.47</td>\n",
       "    </tr>\n",
       "    <tr>\n",
       "      <th>Male</th>\n",
       "      <td>652</td>\n",
       "      <td>$3.02</td>\n",
       "      <td>$1967.64</td>\n",
       "      <td>$4.07</td>\n",
       "    </tr>\n",
       "    <tr>\n",
       "      <th>Other / Non-Disclosed</th>\n",
       "      <td>15</td>\n",
       "      <td>$3.35</td>\n",
       "      <td>$50.19</td>\n",
       "      <td>$4.56</td>\n",
       "    </tr>\n",
       "  </tbody>\n",
       "</table>\n",
       "</div>"
      ],
      "text/plain": [
       "                       Total Purchases Average Price Total Revenue  \\\n",
       "Gender                                                               \n",
       "Female                             113         $3.20       $361.94   \n",
       "Male                               652         $3.02      $1967.64   \n",
       "Other / Non-Disclosed               15         $3.35        $50.19   \n",
       "\n",
       "                      Average Per Person  \n",
       "Gender                                    \n",
       "Female                             $4.47  \n",
       "Male                               $4.07  \n",
       "Other / Non-Disclosed              $4.56  "
      ]
     },
     "execution_count": 13,
     "metadata": {},
     "output_type": "execute_result"
    }
   ],
   "source": [
    "gp_output = genderpurchasing.copy()\n",
    "gp_output[\"Average Price\"] = gp_output[\"Average Price\"].map(\"${:.2f}\".format)\n",
    "gp_output[\"Total Revenue\"] = gp_output[\"Total Revenue\"].map(\"${:.2f}\".format)\n",
    "gp_output[\"Average Per Person\"]= gp_output[\"Average Per Person\"].map(\"${:.2f}\".format)\n",
    "gp_output"
   ]
  },
  {
   "cell_type": "markdown",
   "id": "268bc4e6",
   "metadata": {},
   "source": [
    "---\n",
    "\n",
    "# Age Demographics "
   ]
  },
  {
   "cell_type": "markdown",
   "id": "557b071e",
   "metadata": {},
   "source": [
    "Set up bins and labels for pd.cut(), these will be used for Purchasing Analysis (Age) as well"
   ]
  },
  {
   "cell_type": "code",
   "execution_count": 14,
   "id": "c0ac2d31",
   "metadata": {},
   "outputs": [],
   "source": [
    "agebins = [0,10,15,20,25,30,35,40,125]\n",
    "agebins_names = [\"<10\",\"10-14\",\"15-19\",\"20-24\",\"25-29\",\"30-34\",\"35-39\",\">40\"]"
   ]
  },
  {
   "cell_type": "markdown",
   "id": "4d363b09",
   "metadata": {},
   "source": [
    "Get a fresh data copy with a single age entry for each player, then bin the ages into groups"
   ]
  },
  {
   "cell_type": "code",
   "execution_count": 17,
   "id": "d49e213f",
   "metadata": {},
   "outputs": [],
   "source": [
    "agedata = rawdata.copy().drop_duplicates(subset = \"SN\",ignore_index =True)\n",
    "binned_ages_df = pd.cut(agedata[\"Age\"],agebins,labels = agebins_names, right =False)"
   ]
  },
  {
   "cell_type": "markdown",
   "id": "550108a6",
   "metadata": {},
   "source": [
    "Count the results"
   ]
  },
  {
   "cell_type": "code",
   "execution_count": 18,
   "id": "ad5e3d3b",
   "metadata": {},
   "outputs": [],
   "source": [
    "agedemographics = (binned_ages_df.value_counts().to_frame().reindex(agebins_names)\n",
    "                   .rename(columns={\"Age\": \"Number of Players\"})) # Change column names to reflect new meaning\n",
    "agedemographics[\"Percent of Players\"] = agedemographics[\"Number of Players\"]/sum(agedemographics[\"Number of Players\"])"
   ]
  },
  {
   "cell_type": "markdown",
   "id": "a997e1f5",
   "metadata": {},
   "source": [
    "Format and display the data"
   ]
  },
  {
   "cell_type": "code",
   "execution_count": 19,
   "id": "503c9aa1",
   "metadata": {},
   "outputs": [
    {
     "data": {
      "text/html": [
       "<div>\n",
       "<style scoped>\n",
       "    .dataframe tbody tr th:only-of-type {\n",
       "        vertical-align: middle;\n",
       "    }\n",
       "\n",
       "    .dataframe tbody tr th {\n",
       "        vertical-align: top;\n",
       "    }\n",
       "\n",
       "    .dataframe thead th {\n",
       "        text-align: right;\n",
       "    }\n",
       "</style>\n",
       "<table border=\"1\" class=\"dataframe\">\n",
       "  <thead>\n",
       "    <tr style=\"text-align: right;\">\n",
       "      <th></th>\n",
       "      <th>Number of Players</th>\n",
       "      <th>Percent of Players</th>\n",
       "    </tr>\n",
       "  </thead>\n",
       "  <tbody>\n",
       "    <tr>\n",
       "      <th>&lt;10</th>\n",
       "      <td>17</td>\n",
       "      <td>2.95%</td>\n",
       "    </tr>\n",
       "    <tr>\n",
       "      <th>10-14</th>\n",
       "      <td>22</td>\n",
       "      <td>3.82%</td>\n",
       "    </tr>\n",
       "    <tr>\n",
       "      <th>15-19</th>\n",
       "      <td>107</td>\n",
       "      <td>18.58%</td>\n",
       "    </tr>\n",
       "    <tr>\n",
       "      <th>20-24</th>\n",
       "      <td>258</td>\n",
       "      <td>44.79%</td>\n",
       "    </tr>\n",
       "    <tr>\n",
       "      <th>25-29</th>\n",
       "      <td>77</td>\n",
       "      <td>13.37%</td>\n",
       "    </tr>\n",
       "    <tr>\n",
       "      <th>30-34</th>\n",
       "      <td>52</td>\n",
       "      <td>9.03%</td>\n",
       "    </tr>\n",
       "    <tr>\n",
       "      <th>35-39</th>\n",
       "      <td>31</td>\n",
       "      <td>5.38%</td>\n",
       "    </tr>\n",
       "    <tr>\n",
       "      <th>&gt;40</th>\n",
       "      <td>12</td>\n",
       "      <td>2.08%</td>\n",
       "    </tr>\n",
       "  </tbody>\n",
       "</table>\n",
       "</div>"
      ],
      "text/plain": [
       "       Number of Players Percent of Players\n",
       "<10                   17              2.95%\n",
       "10-14                 22              3.82%\n",
       "15-19                107             18.58%\n",
       "20-24                258             44.79%\n",
       "25-29                 77             13.37%\n",
       "30-34                 52              9.03%\n",
       "35-39                 31              5.38%\n",
       ">40                   12              2.08%"
      ]
     },
     "execution_count": 19,
     "metadata": {},
     "output_type": "execute_result"
    }
   ],
   "source": [
    "ad_output = agedemographics.copy()\n",
    "ad_output[\"Percent of Players\"] = ad_output[\"Percent of Players\"].map(\"{:.2%}\".format)\n",
    "ad_output"
   ]
  },
  {
   "cell_type": "markdown",
   "id": "5a959a09",
   "metadata": {
    "tags": []
   },
   "source": [
    "---\n",
    "\n",
    "# Purchasing Analysis (Age) "
   ]
  },
  {
   "cell_type": "markdown",
   "id": "d73b8724",
   "metadata": {
    "tags": []
   },
   "source": [
    "Get a fresh copy of the data that has entries for all transactions, then bin the ages into groups"
   ]
  },
  {
   "cell_type": "code",
   "execution_count": 20,
   "id": "6bea6614",
   "metadata": {
    "tags": []
   },
   "outputs": [],
   "source": [
    "agegroups = rawdata.copy()\n",
    "agegroups[\"Age Range\"]= pd.cut(rawdata[\"Age\"],agebins,labels = agebins_names,ordered = True,right= False) "
   ]
  },
  {
   "cell_type": "markdown",
   "id": "e40c7d68",
   "metadata": {
    "tags": []
   },
   "source": [
    "Get aggregate statistical measures for each age group"
   ]
  },
  {
   "cell_type": "code",
   "execution_count": 21,
   "id": "920bd6d5",
   "metadata": {
    "tags": []
   },
   "outputs": [],
   "source": [
    "ageanalysis = (\n",
    "    agegroups.groupby(\"Age Range\").agg({\"Purchase ID\":'count',\"Price\":['mean','sum']})\n",
    "    .droplevel(0,1).rename(columns ={\"count\":\"Total Purchases\",\"mean\": \n",
    "                                     \"Average Price\", \"sum\":\"Total Revenue\"}) #Improve the column headers\n",
    ")\n",
    "ageanalysis[\"Average Per Person\"] = (\n",
    "    agegroups.copy().groupby(\"SN\").agg({\"Age Range\":'first','Price': 'sum'})\n",
    "    .groupby(\"Age Range\").agg({\"Price\":'mean'})\n",
    ")"
   ]
  },
  {
   "cell_type": "markdown",
   "id": "cefce838",
   "metadata": {
    "tags": []
   },
   "source": [
    "Format and display the data"
   ]
  },
  {
   "cell_type": "code",
   "execution_count": 22,
   "id": "8c2f3139",
   "metadata": {
    "tags": []
   },
   "outputs": [
    {
     "data": {
      "text/html": [
       "<div>\n",
       "<style scoped>\n",
       "    .dataframe tbody tr th:only-of-type {\n",
       "        vertical-align: middle;\n",
       "    }\n",
       "\n",
       "    .dataframe tbody tr th {\n",
       "        vertical-align: top;\n",
       "    }\n",
       "\n",
       "    .dataframe thead th {\n",
       "        text-align: right;\n",
       "    }\n",
       "</style>\n",
       "<table border=\"1\" class=\"dataframe\">\n",
       "  <thead>\n",
       "    <tr style=\"text-align: right;\">\n",
       "      <th></th>\n",
       "      <th>Total Purchases</th>\n",
       "      <th>Average Price</th>\n",
       "      <th>Total Revenue</th>\n",
       "      <th>Average Per Person</th>\n",
       "    </tr>\n",
       "    <tr>\n",
       "      <th>Age Range</th>\n",
       "      <th></th>\n",
       "      <th></th>\n",
       "      <th></th>\n",
       "      <th></th>\n",
       "    </tr>\n",
       "  </thead>\n",
       "  <tbody>\n",
       "    <tr>\n",
       "      <th>&lt;10</th>\n",
       "      <td>23</td>\n",
       "      <td>$3.35</td>\n",
       "      <td>$77.13</td>\n",
       "      <td>$4.54</td>\n",
       "    </tr>\n",
       "    <tr>\n",
       "      <th>10-14</th>\n",
       "      <td>28</td>\n",
       "      <td>$2.96</td>\n",
       "      <td>$82.78</td>\n",
       "      <td>$3.76</td>\n",
       "    </tr>\n",
       "    <tr>\n",
       "      <th>15-19</th>\n",
       "      <td>136</td>\n",
       "      <td>$3.04</td>\n",
       "      <td>$412.89</td>\n",
       "      <td>$3.86</td>\n",
       "    </tr>\n",
       "    <tr>\n",
       "      <th>20-24</th>\n",
       "      <td>365</td>\n",
       "      <td>$3.05</td>\n",
       "      <td>$1114.06</td>\n",
       "      <td>$4.32</td>\n",
       "    </tr>\n",
       "    <tr>\n",
       "      <th>25-29</th>\n",
       "      <td>101</td>\n",
       "      <td>$2.90</td>\n",
       "      <td>$293.00</td>\n",
       "      <td>$3.81</td>\n",
       "    </tr>\n",
       "    <tr>\n",
       "      <th>30-34</th>\n",
       "      <td>73</td>\n",
       "      <td>$2.93</td>\n",
       "      <td>$214.00</td>\n",
       "      <td>$4.12</td>\n",
       "    </tr>\n",
       "    <tr>\n",
       "      <th>35-39</th>\n",
       "      <td>41</td>\n",
       "      <td>$3.60</td>\n",
       "      <td>$147.67</td>\n",
       "      <td>$4.76</td>\n",
       "    </tr>\n",
       "    <tr>\n",
       "      <th>&gt;40</th>\n",
       "      <td>13</td>\n",
       "      <td>$2.94</td>\n",
       "      <td>$38.24</td>\n",
       "      <td>$3.19</td>\n",
       "    </tr>\n",
       "  </tbody>\n",
       "</table>\n",
       "</div>"
      ],
      "text/plain": [
       "           Total Purchases Average Price Total Revenue Average Per Person\n",
       "Age Range                                                                \n",
       "<10                     23         $3.35        $77.13              $4.54\n",
       "10-14                   28         $2.96        $82.78              $3.76\n",
       "15-19                  136         $3.04       $412.89              $3.86\n",
       "20-24                  365         $3.05      $1114.06              $4.32\n",
       "25-29                  101         $2.90       $293.00              $3.81\n",
       "30-34                   73         $2.93       $214.00              $4.12\n",
       "35-39                   41         $3.60       $147.67              $4.76\n",
       ">40                     13         $2.94        $38.24              $3.19"
      ]
     },
     "execution_count": 22,
     "metadata": {},
     "output_type": "execute_result"
    }
   ],
   "source": [
    "aa_output = ageanalysis.copy()\n",
    "aa_output[\"Average Price\"] = aa_output[\"Average Price\"].map(\"${:.2f}\".format)\n",
    "aa_output[\"Total Revenue\"] = aa_output[\"Total Revenue\"].map(\"${:.2f}\".format)\n",
    "aa_output[\"Average Per Person\"] = aa_output[\"Average Per Person\"].map(\"${:.2f}\".format)\n",
    "aa_output\n"
   ]
  },
  {
   "cell_type": "markdown",
   "id": "20606796",
   "metadata": {
    "tags": []
   },
   "source": [
    "---\n",
    "\n",
    "# Top Spenders\n",
    "Obtain a fresh copy of the data with unique entries for each player, return aggregate statistical measures"
   ]
  },
  {
   "cell_type": "code",
   "execution_count": 23,
   "id": "eea992ad",
   "metadata": {
    "tags": []
   },
   "outputs": [],
   "source": [
    "topspenders = (\n",
    "    rawdata.copy().groupby(\"SN\").agg({\"Purchase ID\":'count',\"Price\":['mean','sum']})\n",
    "    .droplevel(0,1).rename(columns = {\"count\":\"Purchase Count\",\"mean\":\"Price\",\"sum\":\"Total Revenue\"}) # Improve the column headers\n",
    "    .sort_values(\"Total Revenue\",ascending = False)\n",
    ")"
   ]
  },
  {
   "cell_type": "markdown",
   "id": "89c7d1b7",
   "metadata": {},
   "source": [
    "Format and display the data"
   ]
  },
  {
   "cell_type": "code",
   "execution_count": 24,
   "id": "3352ac94",
   "metadata": {
    "tags": []
   },
   "outputs": [
    {
     "data": {
      "text/html": [
       "<div>\n",
       "<style scoped>\n",
       "    .dataframe tbody tr th:only-of-type {\n",
       "        vertical-align: middle;\n",
       "    }\n",
       "\n",
       "    .dataframe tbody tr th {\n",
       "        vertical-align: top;\n",
       "    }\n",
       "\n",
       "    .dataframe thead th {\n",
       "        text-align: right;\n",
       "    }\n",
       "</style>\n",
       "<table border=\"1\" class=\"dataframe\">\n",
       "  <thead>\n",
       "    <tr style=\"text-align: right;\">\n",
       "      <th></th>\n",
       "      <th>Purchase Count</th>\n",
       "      <th>Price</th>\n",
       "      <th>Total Revenue</th>\n",
       "    </tr>\n",
       "    <tr>\n",
       "      <th>SN</th>\n",
       "      <th></th>\n",
       "      <th></th>\n",
       "      <th></th>\n",
       "    </tr>\n",
       "  </thead>\n",
       "  <tbody>\n",
       "    <tr>\n",
       "      <th>Lisosia93</th>\n",
       "      <td>5</td>\n",
       "      <td>$3.79</td>\n",
       "      <td>$18.96</td>\n",
       "    </tr>\n",
       "    <tr>\n",
       "      <th>Idastidru52</th>\n",
       "      <td>4</td>\n",
       "      <td>$3.86</td>\n",
       "      <td>$15.45</td>\n",
       "    </tr>\n",
       "    <tr>\n",
       "      <th>Chamjask73</th>\n",
       "      <td>3</td>\n",
       "      <td>$4.61</td>\n",
       "      <td>$13.83</td>\n",
       "    </tr>\n",
       "    <tr>\n",
       "      <th>Iral74</th>\n",
       "      <td>4</td>\n",
       "      <td>$3.40</td>\n",
       "      <td>$13.62</td>\n",
       "    </tr>\n",
       "    <tr>\n",
       "      <th>Iskadarya95</th>\n",
       "      <td>3</td>\n",
       "      <td>$4.37</td>\n",
       "      <td>$13.10</td>\n",
       "    </tr>\n",
       "    <tr>\n",
       "      <th>...</th>\n",
       "      <td>...</td>\n",
       "      <td>...</td>\n",
       "      <td>...</td>\n",
       "    </tr>\n",
       "    <tr>\n",
       "      <th>Ililsasya43</th>\n",
       "      <td>1</td>\n",
       "      <td>$1.02</td>\n",
       "      <td>$1.02</td>\n",
       "    </tr>\n",
       "    <tr>\n",
       "      <th>Irilis75</th>\n",
       "      <td>1</td>\n",
       "      <td>$1.02</td>\n",
       "      <td>$1.02</td>\n",
       "    </tr>\n",
       "    <tr>\n",
       "      <th>Aidai61</th>\n",
       "      <td>1</td>\n",
       "      <td>$1.01</td>\n",
       "      <td>$1.01</td>\n",
       "    </tr>\n",
       "    <tr>\n",
       "      <th>Chanirra79</th>\n",
       "      <td>1</td>\n",
       "      <td>$1.01</td>\n",
       "      <td>$1.01</td>\n",
       "    </tr>\n",
       "    <tr>\n",
       "      <th>Alo38</th>\n",
       "      <td>1</td>\n",
       "      <td>$1.00</td>\n",
       "      <td>$1.00</td>\n",
       "    </tr>\n",
       "  </tbody>\n",
       "</table>\n",
       "<p>576 rows × 3 columns</p>\n",
       "</div>"
      ],
      "text/plain": [
       "             Purchase Count  Price Total Revenue\n",
       "SN                                              \n",
       "Lisosia93                 5  $3.79        $18.96\n",
       "Idastidru52               4  $3.86        $15.45\n",
       "Chamjask73                3  $4.61        $13.83\n",
       "Iral74                    4  $3.40        $13.62\n",
       "Iskadarya95               3  $4.37        $13.10\n",
       "...                     ...    ...           ...\n",
       "Ililsasya43               1  $1.02         $1.02\n",
       "Irilis75                  1  $1.02         $1.02\n",
       "Aidai61                   1  $1.01         $1.01\n",
       "Chanirra79                1  $1.01         $1.01\n",
       "Alo38                     1  $1.00         $1.00\n",
       "\n",
       "[576 rows x 3 columns]"
      ]
     },
     "execution_count": 24,
     "metadata": {},
     "output_type": "execute_result"
    }
   ],
   "source": [
    "ts_output = topspenders.copy()\n",
    "ts_output[\"Price\"]= ts_output[\"Price\"].map(\"${:.2f}\".format)\n",
    "ts_output[\"Total Revenue\"] = ts_output[\"Total Revenue\"].map(\"${:.2f}\".format)\n",
    "ts_output\n"
   ]
  },
  {
   "cell_type": "markdown",
   "id": "b3a99800",
   "metadata": {},
   "source": [
    "---\n",
    "\n",
    "# Most Popular Items\n",
    "Obtain a fresh copy of the data with unique entries for each item, return aggregate statistical measures"
   ]
  },
  {
   "cell_type": "code",
   "execution_count": 25,
   "id": "77d7252b",
   "metadata": {},
   "outputs": [],
   "source": [
    "popularitems = (\n",
    "    rawdata.copy().groupby([\"Item ID\",\"Item Name\"]).agg({\"Purchase ID\":'count',\"Price\":['mean','sum']})\n",
    "    .droplevel(0,1)\n",
    "    .rename(columns = {\"count\":\"Purchase Count\",\"mean\":\"Price\",\"sum\":\"Total Revenue\"})\n",
    "    .sort_values(\"Purchase Count\",ascending = False)\n",
    ")"
   ]
  },
  {
   "cell_type": "markdown",
   "id": "cccb60bc",
   "metadata": {},
   "source": [
    "Format and display the data"
   ]
  },
  {
   "cell_type": "code",
   "execution_count": 26,
   "id": "79a02280",
   "metadata": {},
   "outputs": [
    {
     "data": {
      "text/html": [
       "<div>\n",
       "<style scoped>\n",
       "    .dataframe tbody tr th:only-of-type {\n",
       "        vertical-align: middle;\n",
       "    }\n",
       "\n",
       "    .dataframe tbody tr th {\n",
       "        vertical-align: top;\n",
       "    }\n",
       "\n",
       "    .dataframe thead th {\n",
       "        text-align: right;\n",
       "    }\n",
       "</style>\n",
       "<table border=\"1\" class=\"dataframe\">\n",
       "  <thead>\n",
       "    <tr style=\"text-align: right;\">\n",
       "      <th></th>\n",
       "      <th></th>\n",
       "      <th>Purchase Count</th>\n",
       "      <th>Price</th>\n",
       "      <th>Total Revenue</th>\n",
       "    </tr>\n",
       "    <tr>\n",
       "      <th>Item ID</th>\n",
       "      <th>Item Name</th>\n",
       "      <th></th>\n",
       "      <th></th>\n",
       "      <th></th>\n",
       "    </tr>\n",
       "  </thead>\n",
       "  <tbody>\n",
       "    <tr>\n",
       "      <th>92</th>\n",
       "      <th>Final Critic</th>\n",
       "      <td>13</td>\n",
       "      <td>$4.61</td>\n",
       "      <td>$59.99</td>\n",
       "    </tr>\n",
       "    <tr>\n",
       "      <th>178</th>\n",
       "      <th>Oathbreaker, Last Hope of the Breaking Storm</th>\n",
       "      <td>12</td>\n",
       "      <td>$4.23</td>\n",
       "      <td>$50.76</td>\n",
       "    </tr>\n",
       "    <tr>\n",
       "      <th>145</th>\n",
       "      <th>Fiery Glass Crusader</th>\n",
       "      <td>9</td>\n",
       "      <td>$4.58</td>\n",
       "      <td>$41.22</td>\n",
       "    </tr>\n",
       "    <tr>\n",
       "      <th>132</th>\n",
       "      <th>Persuasion</th>\n",
       "      <td>9</td>\n",
       "      <td>$3.22</td>\n",
       "      <td>$28.99</td>\n",
       "    </tr>\n",
       "    <tr>\n",
       "      <th>108</th>\n",
       "      <th>Extraction, Quickblade Of Trembling Hands</th>\n",
       "      <td>9</td>\n",
       "      <td>$3.53</td>\n",
       "      <td>$31.77</td>\n",
       "    </tr>\n",
       "    <tr>\n",
       "      <th>...</th>\n",
       "      <th>...</th>\n",
       "      <td>...</td>\n",
       "      <td>...</td>\n",
       "      <td>...</td>\n",
       "    </tr>\n",
       "    <tr>\n",
       "      <th>42</th>\n",
       "      <th>The Decapitator</th>\n",
       "      <td>1</td>\n",
       "      <td>$1.75</td>\n",
       "      <td>$1.75</td>\n",
       "    </tr>\n",
       "    <tr>\n",
       "      <th>51</th>\n",
       "      <th>Endbringer</th>\n",
       "      <td>1</td>\n",
       "      <td>$4.66</td>\n",
       "      <td>$4.66</td>\n",
       "    </tr>\n",
       "    <tr>\n",
       "      <th>118</th>\n",
       "      <th>Ghost Reaver, Longsword of Magic</th>\n",
       "      <td>1</td>\n",
       "      <td>$2.17</td>\n",
       "      <td>$2.17</td>\n",
       "    </tr>\n",
       "    <tr>\n",
       "      <th>104</th>\n",
       "      <th>Gladiator's Glaive</th>\n",
       "      <td>1</td>\n",
       "      <td>$1.93</td>\n",
       "      <td>$1.93</td>\n",
       "    </tr>\n",
       "    <tr>\n",
       "      <th>91</th>\n",
       "      <th>Celeste</th>\n",
       "      <td>1</td>\n",
       "      <td>$4.17</td>\n",
       "      <td>$4.17</td>\n",
       "    </tr>\n",
       "  </tbody>\n",
       "</table>\n",
       "<p>179 rows × 3 columns</p>\n",
       "</div>"
      ],
      "text/plain": [
       "                                                      Purchase Count  Price  \\\n",
       "Item ID Item Name                                                             \n",
       "92      Final Critic                                              13  $4.61   \n",
       "178     Oathbreaker, Last Hope of the Breaking Storm              12  $4.23   \n",
       "145     Fiery Glass Crusader                                       9  $4.58   \n",
       "132     Persuasion                                                 9  $3.22   \n",
       "108     Extraction, Quickblade Of Trembling Hands                  9  $3.53   \n",
       "...                                                              ...    ...   \n",
       "42      The Decapitator                                            1  $1.75   \n",
       "51      Endbringer                                                 1  $4.66   \n",
       "118     Ghost Reaver, Longsword of Magic                           1  $2.17   \n",
       "104     Gladiator's Glaive                                         1  $1.93   \n",
       "91      Celeste                                                    1  $4.17   \n",
       "\n",
       "                                                     Total Revenue  \n",
       "Item ID Item Name                                                   \n",
       "92      Final Critic                                        $59.99  \n",
       "178     Oathbreaker, Last Hope of the Breaking Storm        $50.76  \n",
       "145     Fiery Glass Crusader                                $41.22  \n",
       "132     Persuasion                                          $28.99  \n",
       "108     Extraction, Quickblade Of Trembling Hands           $31.77  \n",
       "...                                                            ...  \n",
       "42      The Decapitator                                      $1.75  \n",
       "51      Endbringer                                           $4.66  \n",
       "118     Ghost Reaver, Longsword of Magic                     $2.17  \n",
       "104     Gladiator's Glaive                                   $1.93  \n",
       "91      Celeste                                              $4.17  \n",
       "\n",
       "[179 rows x 3 columns]"
      ]
     },
     "execution_count": 26,
     "metadata": {},
     "output_type": "execute_result"
    }
   ],
   "source": [
    "pi_output = popularitems.copy()\n",
    "pi_output[\"Price\"] = pi_output[\"Price\"].map(\"${:.2f}\".format)\n",
    "pi_output[\"Total Revenue\"]= pi_output[\"Total Revenue\"].map(\"${:.2f}\".format)\n",
    "pi_output"
   ]
  },
  {
   "cell_type": "markdown",
   "id": "f16d6f78",
   "metadata": {},
   "source": [
    "---\n",
    "\n",
    "# Most Profitable Items "
   ]
  },
  {
   "cell_type": "markdown",
   "id": "bb53e79c",
   "metadata": {},
   "source": [
    "Sort the most popular items table to determine te most profitable items"
   ]
  },
  {
   "cell_type": "code",
   "execution_count": 27,
   "id": "0f1679a7",
   "metadata": {},
   "outputs": [],
   "source": [
    "profitable_items = popularitems.sort_values(\"Total Revenue\",ascending = False)"
   ]
  },
  {
   "cell_type": "markdown",
   "id": "96851478",
   "metadata": {},
   "source": [
    "Format and display the data"
   ]
  },
  {
   "cell_type": "code",
   "execution_count": 37,
   "id": "ae0d1ba5",
   "metadata": {},
   "outputs": [
    {
     "data": {
      "text/html": [
       "<div>\n",
       "<style scoped>\n",
       "    .dataframe tbody tr th:only-of-type {\n",
       "        vertical-align: middle;\n",
       "    }\n",
       "\n",
       "    .dataframe tbody tr th {\n",
       "        vertical-align: top;\n",
       "    }\n",
       "\n",
       "    .dataframe thead th {\n",
       "        text-align: right;\n",
       "    }\n",
       "</style>\n",
       "<table border=\"1\" class=\"dataframe\">\n",
       "  <thead>\n",
       "    <tr style=\"text-align: right;\">\n",
       "      <th></th>\n",
       "      <th></th>\n",
       "      <th>Purchase Count</th>\n",
       "      <th>Price</th>\n",
       "      <th>Total Revenue</th>\n",
       "    </tr>\n",
       "    <tr>\n",
       "      <th>Item ID</th>\n",
       "      <th>Item Name</th>\n",
       "      <th></th>\n",
       "      <th></th>\n",
       "      <th></th>\n",
       "    </tr>\n",
       "  </thead>\n",
       "  <tbody>\n",
       "    <tr>\n",
       "      <th>92</th>\n",
       "      <th>Final Critic</th>\n",
       "      <td>13</td>\n",
       "      <td>$4.61</td>\n",
       "      <td>$59.99</td>\n",
       "    </tr>\n",
       "    <tr>\n",
       "      <th>178</th>\n",
       "      <th>Oathbreaker, Last Hope of the Breaking Storm</th>\n",
       "      <td>12</td>\n",
       "      <td>$4.23</td>\n",
       "      <td>$50.76</td>\n",
       "    </tr>\n",
       "    <tr>\n",
       "      <th>82</th>\n",
       "      <th>Nirvana</th>\n",
       "      <td>9</td>\n",
       "      <td>$4.90</td>\n",
       "      <td>$44.10</td>\n",
       "    </tr>\n",
       "    <tr>\n",
       "      <th>145</th>\n",
       "      <th>Fiery Glass Crusader</th>\n",
       "      <td>9</td>\n",
       "      <td>$4.58</td>\n",
       "      <td>$41.22</td>\n",
       "    </tr>\n",
       "    <tr>\n",
       "      <th>103</th>\n",
       "      <th>Singed Scalpel</th>\n",
       "      <td>8</td>\n",
       "      <td>$4.35</td>\n",
       "      <td>$34.80</td>\n",
       "    </tr>\n",
       "    <tr>\n",
       "      <th>59</th>\n",
       "      <th>Lightning, Etcher of the King</th>\n",
       "      <td>8</td>\n",
       "      <td>$4.23</td>\n",
       "      <td>$33.84</td>\n",
       "    </tr>\n",
       "    <tr>\n",
       "      <th>108</th>\n",
       "      <th>Extraction, Quickblade Of Trembling Hands</th>\n",
       "      <td>9</td>\n",
       "      <td>$3.53</td>\n",
       "      <td>$31.77</td>\n",
       "    </tr>\n",
       "    <tr>\n",
       "      <th>78</th>\n",
       "      <th>Glimmer, Ender of the Moon</th>\n",
       "      <td>7</td>\n",
       "      <td>$4.40</td>\n",
       "      <td>$30.80</td>\n",
       "    </tr>\n",
       "    <tr>\n",
       "      <th>72</th>\n",
       "      <th>Winter's Bite</th>\n",
       "      <td>8</td>\n",
       "      <td>$3.77</td>\n",
       "      <td>$30.16</td>\n",
       "    </tr>\n",
       "    <tr>\n",
       "      <th>132</th>\n",
       "      <th>Persuasion</th>\n",
       "      <td>9</td>\n",
       "      <td>$3.22</td>\n",
       "      <td>$28.99</td>\n",
       "    </tr>\n",
       "  </tbody>\n",
       "</table>\n",
       "</div>"
      ],
      "text/plain": [
       "                                                      Purchase Count  Price  \\\n",
       "Item ID Item Name                                                             \n",
       "92      Final Critic                                              13  $4.61   \n",
       "178     Oathbreaker, Last Hope of the Breaking Storm              12  $4.23   \n",
       "82      Nirvana                                                    9  $4.90   \n",
       "145     Fiery Glass Crusader                                       9  $4.58   \n",
       "103     Singed Scalpel                                             8  $4.35   \n",
       "59      Lightning, Etcher of the King                              8  $4.23   \n",
       "108     Extraction, Quickblade Of Trembling Hands                  9  $3.53   \n",
       "78      Glimmer, Ender of the Moon                                 7  $4.40   \n",
       "72      Winter's Bite                                              8  $3.77   \n",
       "132     Persuasion                                                 9  $3.22   \n",
       "\n",
       "                                                     Total Revenue  \n",
       "Item ID Item Name                                                   \n",
       "92      Final Critic                                        $59.99  \n",
       "178     Oathbreaker, Last Hope of the Breaking Storm        $50.76  \n",
       "82      Nirvana                                             $44.10  \n",
       "145     Fiery Glass Crusader                                $41.22  \n",
       "103     Singed Scalpel                                      $34.80  \n",
       "59      Lightning, Etcher of the King                       $33.84  \n",
       "108     Extraction, Quickblade Of Trembling Hands           $31.77  \n",
       "78      Glimmer, Ender of the Moon                          $30.80  \n",
       "72      Winter's Bite                                       $30.16  \n",
       "132     Persuasion                                          $28.99  "
      ]
     },
     "execution_count": 37,
     "metadata": {},
     "output_type": "execute_result"
    }
   ],
   "source": [
    "pfti_output = profitable_items.copy()\n",
    "pfti_output[\"Price\"]= pfti_output[\"Price\"].map(\"${:.2f}\".format)\n",
    "pfti_output[\"Total Revenue\"] = pfti_output[\"Total Revenue\"].map(\"${:.2f}\".format)\n",
    "pfti_output.head(10)"
   ]
  },
  {
   "cell_type": "markdown",
   "id": "3b40509a",
   "metadata": {},
   "source": [
    "# Price Changes\n",
    "Obtain a fresh copy of the data, determine which items have sold at more than one price point"
   ]
  },
  {
   "cell_type": "code",
   "execution_count": 29,
   "id": "8fdec27b",
   "metadata": {},
   "outputs": [
    {
     "data": {
      "text/html": [
       "<div>\n",
       "<style scoped>\n",
       "    .dataframe tbody tr th:only-of-type {\n",
       "        vertical-align: middle;\n",
       "    }\n",
       "\n",
       "    .dataframe tbody tr th {\n",
       "        vertical-align: top;\n",
       "    }\n",
       "\n",
       "    .dataframe thead th {\n",
       "        text-align: right;\n",
       "    }\n",
       "</style>\n",
       "<table border=\"1\" class=\"dataframe\">\n",
       "  <thead>\n",
       "    <tr style=\"text-align: right;\">\n",
       "      <th></th>\n",
       "      <th></th>\n",
       "      <th>Price Points</th>\n",
       "    </tr>\n",
       "    <tr>\n",
       "      <th>Item ID</th>\n",
       "      <th>Item Name</th>\n",
       "      <th></th>\n",
       "    </tr>\n",
       "  </thead>\n",
       "  <tbody>\n",
       "    <tr>\n",
       "      <th>92</th>\n",
       "      <th>Final Critic</th>\n",
       "      <td>2</td>\n",
       "    </tr>\n",
       "    <tr>\n",
       "      <th>1</th>\n",
       "      <th>Crucifer</th>\n",
       "      <td>2</td>\n",
       "    </tr>\n",
       "    <tr>\n",
       "      <th>132</th>\n",
       "      <th>Persuasion</th>\n",
       "      <td>2</td>\n",
       "    </tr>\n",
       "    <tr>\n",
       "      <th>30</th>\n",
       "      <th>Stormcaller</th>\n",
       "      <td>2</td>\n",
       "    </tr>\n",
       "    <tr>\n",
       "      <th>125</th>\n",
       "      <th>Whistling Mithril Warblade</th>\n",
       "      <td>1</td>\n",
       "    </tr>\n",
       "    <tr>\n",
       "      <th>...</th>\n",
       "      <th>...</th>\n",
       "      <td>...</td>\n",
       "    </tr>\n",
       "    <tr>\n",
       "      <th>63</th>\n",
       "      <th>Stormfury Mace</th>\n",
       "      <td>1</td>\n",
       "    </tr>\n",
       "    <tr>\n",
       "      <th>64</th>\n",
       "      <th>Fusion Pummel</th>\n",
       "      <td>1</td>\n",
       "    </tr>\n",
       "    <tr>\n",
       "      <th>65</th>\n",
       "      <th>Conqueror Adamantite Mace</th>\n",
       "      <td>1</td>\n",
       "    </tr>\n",
       "    <tr>\n",
       "      <th>66</th>\n",
       "      <th>Victor Iron Spikes</th>\n",
       "      <td>1</td>\n",
       "    </tr>\n",
       "    <tr>\n",
       "      <th>183</th>\n",
       "      <th>Dragon's Greatsword</th>\n",
       "      <td>1</td>\n",
       "    </tr>\n",
       "  </tbody>\n",
       "</table>\n",
       "<p>179 rows × 1 columns</p>\n",
       "</div>"
      ],
      "text/plain": [
       "                                    Price Points\n",
       "Item ID Item Name                               \n",
       "92      Final Critic                           2\n",
       "1       Crucifer                               2\n",
       "132     Persuasion                             2\n",
       "30      Stormcaller                            2\n",
       "125     Whistling Mithril Warblade             1\n",
       "...                                          ...\n",
       "63      Stormfury Mace                         1\n",
       "64      Fusion Pummel                          1\n",
       "65      Conqueror Adamantite Mace              1\n",
       "66      Victor Iron Spikes                     1\n",
       "183     Dragon's Greatsword                    1\n",
       "\n",
       "[179 rows x 1 columns]"
      ]
     },
     "execution_count": 29,
     "metadata": {},
     "output_type": "execute_result"
    }
   ],
   "source": [
    "pricingdata = (rawdata.copy().groupby([\"Item ID\",\"Item Name\"]).agg({'Price':'nunique'})\n",
    "               .rename(columns = {\"Price\":\"Price Points\"}).sort_values(\"Price Points\",ascending =False))\n",
    "pricingdata"
   ]
  },
  {
   "cell_type": "markdown",
   "id": "cf241250",
   "metadata": {},
   "source": [
    "Filter the data for items that have sold at more than once price point"
   ]
  },
  {
   "cell_type": "code",
   "execution_count": 30,
   "id": "2f36b87b",
   "metadata": {},
   "outputs": [],
   "source": [
    "pricechanges = rawdata.copy().loc[(rawdata[\"Item ID\"] == 92)  |(rawdata[\"Item ID\"] == 1)\n",
    "                                  | (rawdata[\"Item ID\"] == 132) | (rawdata[\"Item ID\"] == 30) ]"
   ]
  },
  {
   "cell_type": "markdown",
   "id": "9e5f23c9",
   "metadata": {},
   "source": [
    "Determine how many sales have occured at each price point"
   ]
  },
  {
   "cell_type": "code",
   "execution_count": 31,
   "id": "b2f128ae",
   "metadata": {},
   "outputs": [
    {
     "data": {
      "text/html": [
       "<div>\n",
       "<style scoped>\n",
       "    .dataframe tbody tr th:only-of-type {\n",
       "        vertical-align: middle;\n",
       "    }\n",
       "\n",
       "    .dataframe tbody tr th {\n",
       "        vertical-align: top;\n",
       "    }\n",
       "\n",
       "    .dataframe thead th {\n",
       "        text-align: right;\n",
       "    }\n",
       "</style>\n",
       "<table border=\"1\" class=\"dataframe\">\n",
       "  <thead>\n",
       "    <tr style=\"text-align: right;\">\n",
       "      <th></th>\n",
       "      <th></th>\n",
       "      <th>Number of Sales</th>\n",
       "    </tr>\n",
       "    <tr>\n",
       "      <th>Item Name</th>\n",
       "      <th>Price</th>\n",
       "      <th></th>\n",
       "    </tr>\n",
       "  </thead>\n",
       "  <tbody>\n",
       "    <tr>\n",
       "      <th rowspan=\"2\" valign=\"top\">Crucifer</th>\n",
       "      <th>1.99</th>\n",
       "      <td>1</td>\n",
       "    </tr>\n",
       "    <tr>\n",
       "      <th>3.26</th>\n",
       "      <td>3</td>\n",
       "    </tr>\n",
       "    <tr>\n",
       "      <th rowspan=\"2\" valign=\"top\">Final Critic</th>\n",
       "      <th>4.19</th>\n",
       "      <td>5</td>\n",
       "    </tr>\n",
       "    <tr>\n",
       "      <th>4.88</th>\n",
       "      <td>8</td>\n",
       "    </tr>\n",
       "    <tr>\n",
       "      <th rowspan=\"2\" valign=\"top\">Persuasion</th>\n",
       "      <th>3.19</th>\n",
       "      <td>7</td>\n",
       "    </tr>\n",
       "    <tr>\n",
       "      <th>3.33</th>\n",
       "      <td>2</td>\n",
       "    </tr>\n",
       "    <tr>\n",
       "      <th rowspan=\"2\" valign=\"top\">Stormcaller</th>\n",
       "      <th>2.21</th>\n",
       "      <td>2</td>\n",
       "    </tr>\n",
       "    <tr>\n",
       "      <th>3.36</th>\n",
       "      <td>1</td>\n",
       "    </tr>\n",
       "  </tbody>\n",
       "</table>\n",
       "</div>"
      ],
      "text/plain": [
       "                    Number of Sales\n",
       "Item Name    Price                 \n",
       "Crucifer     1.99                 1\n",
       "             3.26                 3\n",
       "Final Critic 4.19                 5\n",
       "             4.88                 8\n",
       "Persuasion   3.19                 7\n",
       "             3.33                 2\n",
       "Stormcaller  2.21                 2\n",
       "             3.36                 1"
      ]
     },
     "execution_count": 31,
     "metadata": {},
     "output_type": "execute_result"
    }
   ],
   "source": [
    "salesinfo = pricechanges.groupby([\"Item Name\",\"Price\"]).agg({\"Price\":'count'}).rename(columns ={\"Price\":\"Number of Sales\"})\n",
    "salesinfo"
   ]
  },
  {
   "cell_type": "code",
   "execution_count": null,
   "id": "a5d48c5b",
   "metadata": {},
   "outputs": [],
   "source": []
  }
 ],
 "metadata": {
  "kernelspec": {
   "display_name": "Python 3",
   "language": "python",
   "name": "python3"
  },
  "language_info": {
   "codemirror_mode": {
    "name": "ipython",
    "version": 3
   },
   "file_extension": ".py",
   "mimetype": "text/x-python",
   "name": "python",
   "nbconvert_exporter": "python",
   "pygments_lexer": "ipython3",
   "version": "3.8.8"
  }
 },
 "nbformat": 4,
 "nbformat_minor": 5
}
