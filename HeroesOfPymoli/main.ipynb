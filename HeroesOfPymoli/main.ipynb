{
 "cells": [
  {
   "cell_type": "code",
   "execution_count": 158,
   "id": "5a28d936",
   "metadata": {},
   "outputs": [],
   "source": [
    "#Import dependencies\n",
    "import pandas as pd\n",
    "\n",
    "#Read in the csv file\n",
    "datapath = \"Resources/purchase_data.csv\"\n",
    "rawdata = pd.read_csv(datapath)\n",
    "\n"
   ]
  },
  {
   "cell_type": "markdown",
   "id": "3b36dc30",
   "metadata": {},
   "source": [
    "### CSV Data Format"
   ]
  },
  {
   "cell_type": "code",
   "execution_count": 172,
   "id": "1ff5246c",
   "metadata": {},
   "outputs": [
    {
     "data": {
      "text/html": [
       "<div>\n",
       "<style scoped>\n",
       "    .dataframe tbody tr th:only-of-type {\n",
       "        vertical-align: middle;\n",
       "    }\n",
       "\n",
       "    .dataframe tbody tr th {\n",
       "        vertical-align: top;\n",
       "    }\n",
       "\n",
       "    .dataframe thead th {\n",
       "        text-align: right;\n",
       "    }\n",
       "</style>\n",
       "<table border=\"1\" class=\"dataframe\">\n",
       "  <thead>\n",
       "    <tr style=\"text-align: right;\">\n",
       "      <th></th>\n",
       "      <th>Purchase ID</th>\n",
       "      <th>SN</th>\n",
       "      <th>Age</th>\n",
       "      <th>Gender</th>\n",
       "      <th>Item ID</th>\n",
       "      <th>Item Name</th>\n",
       "      <th>Price</th>\n",
       "    </tr>\n",
       "  </thead>\n",
       "  <tbody>\n",
       "    <tr>\n",
       "      <th>0</th>\n",
       "      <td>0</td>\n",
       "      <td>Lisim78</td>\n",
       "      <td>20</td>\n",
       "      <td>Male</td>\n",
       "      <td>108</td>\n",
       "      <td>Extraction, Quickblade Of Trembling Hands</td>\n",
       "      <td>3.53</td>\n",
       "    </tr>\n",
       "    <tr>\n",
       "      <th>1</th>\n",
       "      <td>1</td>\n",
       "      <td>Lisovynya38</td>\n",
       "      <td>40</td>\n",
       "      <td>Male</td>\n",
       "      <td>143</td>\n",
       "      <td>Frenzied Scimitar</td>\n",
       "      <td>1.56</td>\n",
       "    </tr>\n",
       "    <tr>\n",
       "      <th>2</th>\n",
       "      <td>2</td>\n",
       "      <td>Ithergue48</td>\n",
       "      <td>24</td>\n",
       "      <td>Male</td>\n",
       "      <td>92</td>\n",
       "      <td>Final Critic</td>\n",
       "      <td>4.88</td>\n",
       "    </tr>\n",
       "    <tr>\n",
       "      <th>3</th>\n",
       "      <td>3</td>\n",
       "      <td>Chamassasya86</td>\n",
       "      <td>24</td>\n",
       "      <td>Male</td>\n",
       "      <td>100</td>\n",
       "      <td>Blindscythe</td>\n",
       "      <td>3.27</td>\n",
       "    </tr>\n",
       "    <tr>\n",
       "      <th>4</th>\n",
       "      <td>4</td>\n",
       "      <td>Iskosia90</td>\n",
       "      <td>23</td>\n",
       "      <td>Male</td>\n",
       "      <td>131</td>\n",
       "      <td>Fury</td>\n",
       "      <td>1.44</td>\n",
       "    </tr>\n",
       "  </tbody>\n",
       "</table>\n",
       "</div>"
      ],
      "text/plain": [
       "   Purchase ID             SN  Age Gender  Item ID  \\\n",
       "0            0        Lisim78   20   Male      108   \n",
       "1            1    Lisovynya38   40   Male      143   \n",
       "2            2     Ithergue48   24   Male       92   \n",
       "3            3  Chamassasya86   24   Male      100   \n",
       "4            4      Iskosia90   23   Male      131   \n",
       "\n",
       "                                   Item Name  Price  \n",
       "0  Extraction, Quickblade Of Trembling Hands   3.53  \n",
       "1                          Frenzied Scimitar   1.56  \n",
       "2                               Final Critic   4.88  \n",
       "3                                Blindscythe   3.27  \n",
       "4                                       Fury   1.44  "
      ]
     },
     "execution_count": 172,
     "metadata": {},
     "output_type": "execute_result"
    }
   ],
   "source": [
    "#Display data sample\n",
    "rawdata.head()"
   ]
  },
  {
   "cell_type": "markdown",
   "id": "dde26e7d",
   "metadata": {},
   "source": [
    "# Player Count\n",
    "This cell uses the .agg() function to return the number of unique values from a single column of the data set"
   ]
  },
  {
   "cell_type": "code",
   "execution_count": 159,
   "id": "8f578936",
   "metadata": {},
   "outputs": [
    {
     "data": {
      "text/html": [
       "<div>\n",
       "<style scoped>\n",
       "    .dataframe tbody tr th:only-of-type {\n",
       "        vertical-align: middle;\n",
       "    }\n",
       "\n",
       "    .dataframe tbody tr th {\n",
       "        vertical-align: top;\n",
       "    }\n",
       "\n",
       "    .dataframe thead th {\n",
       "        text-align: right;\n",
       "    }\n",
       "</style>\n",
       "<table border=\"1\" class=\"dataframe\">\n",
       "  <thead>\n",
       "    <tr style=\"text-align: right;\">\n",
       "      <th></th>\n",
       "      <th>Total Players</th>\n",
       "    </tr>\n",
       "  </thead>\n",
       "  <tbody>\n",
       "    <tr>\n",
       "      <th>0</th>\n",
       "      <td>576</td>\n",
       "    </tr>\n",
       "  </tbody>\n",
       "</table>\n",
       "</div>"
      ],
      "text/plain": [
       "   Total Players\n",
       "0            576"
      ]
     },
     "metadata": {},
     "output_type": "display_data"
    }
   ],
   "source": [
    "playercount = (\n",
    "    rawdata.agg({'SN':'nunique'}) # Select columns from the data set, and apply aggregate functions\n",
    "    .to_frame().rename({'SN': 'Total Players'}).T # Improve the format of the output\n",
    ")\n",
    "display(playercount)"
   ]
  },
  {
   "cell_type": "markdown",
   "id": "b02234df",
   "metadata": {},
   "source": [
    "# Purchasing Analysis (Total)"
   ]
  },
  {
   "cell_type": "code",
   "execution_count": 160,
   "id": "66793e10",
   "metadata": {},
   "outputs": [
    {
     "data": {
      "text/html": [
       "<style  type=\"text/css\" >\n",
       "</style><table id=\"T_8a31f_\" ><thead>    <tr>        <th class=\"blank level0\" ></th>        <th class=\"col_heading level0 col0\" >Number of Purchases</th>        <th class=\"col_heading level0 col1\" >Average Price</th>        <th class=\"col_heading level0 col2\" >Number of Unique Items</th>        <th class=\"col_heading level0 col3\" >Total Revenue</th>    </tr></thead><tbody>\n",
       "                <tr>\n",
       "                        <th id=\"T_8a31f_level0_row0\" class=\"row_heading level0 row0\" >0</th>\n",
       "                        <td id=\"T_8a31f_row0_col0\" class=\"data row0 col0\" >780</td>\n",
       "                        <td id=\"T_8a31f_row0_col1\" class=\"data row0 col1\" >$3.05</td>\n",
       "                        <td id=\"T_8a31f_row0_col2\" class=\"data row0 col2\" >179</td>\n",
       "                        <td id=\"T_8a31f_row0_col3\" class=\"data row0 col3\" >$2379.77</td>\n",
       "            </tr>\n",
       "    </tbody></table>"
      ],
      "text/plain": [
       "<pandas.io.formats.style.Styler at 0x1b183d24e20>"
      ]
     },
     "metadata": {},
     "output_type": "display_data"
    }
   ],
   "source": [
    "# Needs to be formated (Purchasing Analysis (Total)), consider redoing this block. it looks wrong\n",
    "purchasing_analysis = rawdata.copy()\n",
    "purchasing_analysis[\"Total Revenue\"] = purchasing_analysis[\"Price\"]\n",
    "purchasing_analysis = (\n",
    "    #Select columns from the data set, and apply aggregate functions\n",
    "    purchasing_analysis.agg({\"Purchase ID\":'count',\"Price\":'mean',\"Item ID\":'nunique',\"Total Revenue\":'sum'})\n",
    "    \n",
    "    #improve the format of the output\n",
    "    .rename({\"Purchase ID\":\"Number of Purchases\",\"Price\":\"Average Price\",\"Item ID\":\"Number of Unique Items\"})\n",
    "    .to_frame().T\n",
    "    .style.format({\"Number of Purchases\":int,\"Average Price\":\"${:.2f}\",\"Number of Unique Items\":int,\"Total Revenue\":'${:.2f}'})\n",
    ")\n",
    "display(purchasing_analysis)"
   ]
  },
  {
   "cell_type": "markdown",
   "id": "610157a0",
   "metadata": {},
   "source": [
    "# Gender Demographics"
   ]
  },
  {
   "cell_type": "code",
   "execution_count": 171,
   "id": "5c4e8215",
   "metadata": {},
   "outputs": [
    {
     "data": {
      "text/html": [
       "<style  type=\"text/css\" >\n",
       "</style><table id=\"T_effe5_\" ><thead>    <tr>        <th class=\"blank level0\" ></th>        <th class=\"col_heading level0 col0\" >Gender</th>        <th class=\"col_heading level0 col1\" >Percentage of Players</th>    </tr></thead><tbody>\n",
       "                <tr>\n",
       "                        <th id=\"T_effe5_level0_row0\" class=\"row_heading level0 row0\" >Male</th>\n",
       "                        <td id=\"T_effe5_row0_col0\" class=\"data row0 col0\" >484</td>\n",
       "                        <td id=\"T_effe5_row0_col1\" class=\"data row0 col1\" >84.03%</td>\n",
       "            </tr>\n",
       "            <tr>\n",
       "                        <th id=\"T_effe5_level0_row1\" class=\"row_heading level0 row1\" >Female</th>\n",
       "                        <td id=\"T_effe5_row1_col0\" class=\"data row1 col0\" >81</td>\n",
       "                        <td id=\"T_effe5_row1_col1\" class=\"data row1 col1\" >14.06%</td>\n",
       "            </tr>\n",
       "            <tr>\n",
       "                        <th id=\"T_effe5_level0_row2\" class=\"row_heading level0 row2\" >Other / Non-Disclosed</th>\n",
       "                        <td id=\"T_effe5_row2_col0\" class=\"data row2 col0\" >11</td>\n",
       "                        <td id=\"T_effe5_row2_col1\" class=\"data row2 col1\" >1.91%</td>\n",
       "            </tr>\n",
       "    </tbody></table>"
      ],
      "text/plain": [
       "<pandas.io.formats.style.Styler at 0x1b182b60370>"
      ]
     },
     "metadata": {},
     "output_type": "display_data"
    }
   ],
   "source": [
    "uniqueplayerdata = rawdata.drop_duplicates(subset = \"SN\",ignore_index =True)\n",
    "genderdemos=uniqueplayerdata[\"Gender\"].value_counts().to_frame()\n",
    "genderdemos[\"Percentage of Players\"]= genderdemos[\"Gender\"]/sum(genderdemos[\"Gender\"])\n",
    "\n",
    "#Improve the format of the output\n",
    "genderdemos = genderdemos.style.format({\"Percentage of Players\": \"{:.2%}\"})\n",
    "display(genderdemos)"
   ]
  },
  {
   "cell_type": "code",
   "execution_count": 137,
   "id": "40d1e713",
   "metadata": {},
   "outputs": [
    {
     "data": {
      "text/html": [
       "<div>\n",
       "<style scoped>\n",
       "    .dataframe tbody tr th:only-of-type {\n",
       "        vertical-align: middle;\n",
       "    }\n",
       "\n",
       "    .dataframe tbody tr th {\n",
       "        vertical-align: top;\n",
       "    }\n",
       "\n",
       "    .dataframe thead th {\n",
       "        text-align: right;\n",
       "    }\n",
       "</style>\n",
       "<table border=\"1\" class=\"dataframe\">\n",
       "  <thead>\n",
       "    <tr style=\"text-align: right;\">\n",
       "      <th></th>\n",
       "      <th>Purchase ID</th>\n",
       "      <th>Average Price</th>\n",
       "      <th>Total Sales</th>\n",
       "      <th>Average Per Person</th>\n",
       "    </tr>\n",
       "    <tr>\n",
       "      <th>Gender</th>\n",
       "      <th></th>\n",
       "      <th></th>\n",
       "      <th></th>\n",
       "      <th></th>\n",
       "    </tr>\n",
       "  </thead>\n",
       "  <tbody>\n",
       "    <tr>\n",
       "      <th>Female</th>\n",
       "      <td>113</td>\n",
       "      <td>3.203009</td>\n",
       "      <td>361.94</td>\n",
       "      <td>4.468395</td>\n",
       "    </tr>\n",
       "    <tr>\n",
       "      <th>Male</th>\n",
       "      <td>652</td>\n",
       "      <td>3.017853</td>\n",
       "      <td>1967.64</td>\n",
       "      <td>4.065372</td>\n",
       "    </tr>\n",
       "    <tr>\n",
       "      <th>Other / Non-Disclosed</th>\n",
       "      <td>15</td>\n",
       "      <td>3.346000</td>\n",
       "      <td>50.19</td>\n",
       "      <td>4.562727</td>\n",
       "    </tr>\n",
       "  </tbody>\n",
       "</table>\n",
       "</div>"
      ],
      "text/plain": [
       "                       Purchase ID  Average Price  Total Sales  \\\n",
       "Gender                                                           \n",
       "Female                         113       3.203009       361.94   \n",
       "Male                           652       3.017853      1967.64   \n",
       "Other / Non-Disclosed           15       3.346000        50.19   \n",
       "\n",
       "                       Average Per Person  \n",
       "Gender                                     \n",
       "Female                           4.468395  \n",
       "Male                             4.065372  \n",
       "Other / Non-Disclosed            4.562727  "
      ]
     },
     "metadata": {},
     "output_type": "display_data"
    }
   ],
   "source": [
    " # Purchasing Analysis (Gender)\n",
    "genderpurchasing = rawdata.copy()\n",
    "groupby(\"Gender\")[\"Purchase ID\"].count().to_frame()\n",
    "genderpurchasing[\"Average Price\"] = rawdata.groupby(\"Gender\")[\"Price\"].mean().to_frame()\n",
    "genderpurchasing[\"Total Sales\"] = rawdata.groupby(\"Gender\")[\"Price\"].sum().to_frame()\n",
    "gendercustomermean = rawdata.groupby(\"SN\").agg({\"Gender\":'first','Price': 'sum'})\n",
    "genderpurchasing[\"Average Per Person\"] = gendercustomermean.groupby(\"Gender\").mean()\n",
    "\n",
    "display(genderpurchasing)"
   ]
  },
  {
   "cell_type": "code",
   "execution_count": null,
   "id": "61dcf6d0",
   "metadata": {},
   "outputs": [],
   "source": [
    "# Age Demographics (Need to introduce variable reseting at the start of the cell to prevent errors) Need to format, clear temporary dataframes"
   ]
  },
  {
   "cell_type": "code",
   "execution_count": null,
   "id": "25263c70",
   "metadata": {},
   "outputs": [],
   "source": [
    "agedata = rawdata.drop_duplicates(subset = \"SN\",ignore_index =True)\n",
    "agebins = pd.IntervalIndex.from_tuples([(0,9),(10,14),(15,19),(20,24),(25,29),(30,34),(35,39),(40,200)],closed = \"both\")\n",
    "binned_ages_df = pd.cut(agedata[\"Age\"],agebins,ordered = True).to_frame()\n",
    "agedemographics =binned_ages_df.value_counts().to_frame()\n",
    "agedemographics[\"Percent of Players\"]=agedemographics.iloc[:,0]/sum(agedemographics.iloc[:,0])\n",
    "display(agedemographics)"
   ]
  },
  {
   "cell_type": "code",
   "execution_count": null,
   "id": "461f8c28",
   "metadata": {
    "tags": []
   },
   "outputs": [],
   "source": [
    "# Purchasing Analysis (Age) Needs formatting and documentation, consider declaring variables to make the code easier to read, and spanning multiple rows with long lines\n",
    "age_group_stats = rawdata.copy()\n",
    "sliceframe = pd.cut(rawdata[\"Age\"],agebins,ordered = True)\n",
    "age_group_stats[\"Age\"] = sliceframe\n",
    "age_group_stats = age_group_stats.groupby(\"Age\").agg({\"Purchase ID\":'count',\"Price\":'mean',})\n",
    "age_group_stats[\"Total Purchase Value\"] = age_group_stats[\"Purchase ID\"] * age_group_stats[\"Price\"]\n",
    "age_group_stats[\"Average Per Person\"] = rawdata.groupby(\"SN\").agg({\"Age\":'first','Price': 'sum'}).groupby(\"Age\").mean()\n",
    "age_group_stats.head(10)\n"
   ]
  },
  {
   "cell_type": "code",
   "execution_count": null,
   "id": "21082530",
   "metadata": {
    "tags": []
   },
   "outputs": [],
   "source": [
    "#Top Spenders,need to format the output\n",
    "\n",
    "topspenders = rawdata.groupby(\"SN\").agg({\"Purchase ID\":'count',\"Price\":'mean'})\n",
    "topspenders[\"Total Purchase Value\"] = topspenders[\"Purchase ID\"]*topspenders[\"Price\"] \n",
    "topspenders_sorted = topspenders.sort_values('Total Purchase Value',ascending = False)"
   ]
  },
  {
   "cell_type": "code",
   "execution_count": null,
   "id": "cf00589b",
   "metadata": {},
   "outputs": [],
   "source": [
    "topspenders_sorted.head()"
   ]
  },
  {
   "cell_type": "code",
   "execution_count": null,
   "id": "5a4609c2",
   "metadata": {},
   "outputs": [],
   "source": [
    "# Most popular items need to format the output\n",
    "popularitems = rawdata.groupby([\"Item ID\",\"Item Name\"]).agg({\"Purchase ID\":'count',\"Price\":'mean'})\n",
    "popularitems[\"Total Purchase Value\"] = popularitems[\"Purchase ID\"] * popularitems[\"Price\"]\n",
    "popularitems_sorted = popularitems.sort_values(\"Purchase ID\",ascending = False)"
   ]
  },
  {
   "cell_type": "code",
   "execution_count": null,
   "id": "82fe6845",
   "metadata": {},
   "outputs": [],
   "source": [
    "popularitems_sorted.head()"
   ]
  },
  {
   "cell_type": "code",
   "execution_count": null,
   "id": "e8b39c0e",
   "metadata": {},
   "outputs": [],
   "source": [
    "# Most Profitable Items need to format the output and clean the code\n",
    "profitable_items =popularitems.sort_values(\"Total Purchase Value\",ascending = False)\n",
    "profitable_items.head()"
   ]
  }
 ],
 "metadata": {
  "kernelspec": {
   "display_name": "Python 3",
   "language": "python",
   "name": "python3"
  },
  "language_info": {
   "codemirror_mode": {
    "name": "ipython",
    "version": 3
   },
   "file_extension": ".py",
   "mimetype": "text/x-python",
   "name": "python",
   "nbconvert_exporter": "python",
   "pygments_lexer": "ipython3",
   "version": "3.8.8"
  }
 },
 "nbformat": 4,
 "nbformat_minor": 5
}
