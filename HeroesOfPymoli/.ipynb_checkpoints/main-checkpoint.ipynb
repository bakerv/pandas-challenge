{
 "cells": [
  {
   "cell_type": "code",
   "execution_count": 102,
   "id": "b3e5e257",
   "metadata": {},
   "outputs": [],
   "source": [
    "#Import dependencies\n",
    "import pandas as pd\n",
    "\n",
    "#Read in the csv file\n",
    "datapath = \"Resources/purchase_data.csv\"\n",
    "rawdata = pd.read_csv(datapath)\n",
    "\n"
   ]
  },
  {
   "cell_type": "markdown",
   "id": "af6a9caf",
   "metadata": {},
   "source": [
    "### purchase_data.CSV Data Sample"
   ]
  },
  {
   "cell_type": "code",
   "execution_count": 154,
   "id": "fc4f2895",
   "metadata": {},
   "outputs": [
    {
     "data": {
      "text/html": [
       "<div>\n",
       "<style scoped>\n",
       "    .dataframe tbody tr th:only-of-type {\n",
       "        vertical-align: middle;\n",
       "    }\n",
       "\n",
       "    .dataframe tbody tr th {\n",
       "        vertical-align: top;\n",
       "    }\n",
       "\n",
       "    .dataframe thead th {\n",
       "        text-align: right;\n",
       "    }\n",
       "</style>\n",
       "<table border=\"1\" class=\"dataframe\">\n",
       "  <thead>\n",
       "    <tr style=\"text-align: right;\">\n",
       "      <th></th>\n",
       "      <th>Purchase ID</th>\n",
       "      <th>SN</th>\n",
       "      <th>Age</th>\n",
       "      <th>Gender</th>\n",
       "      <th>Item ID</th>\n",
       "      <th>Item Name</th>\n",
       "      <th>Price</th>\n",
       "    </tr>\n",
       "  </thead>\n",
       "  <tbody>\n",
       "    <tr>\n",
       "      <th>0</th>\n",
       "      <td>0</td>\n",
       "      <td>Lisim78</td>\n",
       "      <td>20</td>\n",
       "      <td>Male</td>\n",
       "      <td>108</td>\n",
       "      <td>Extraction, Quickblade Of Trembling Hands</td>\n",
       "      <td>3.53</td>\n",
       "    </tr>\n",
       "    <tr>\n",
       "      <th>1</th>\n",
       "      <td>1</td>\n",
       "      <td>Lisovynya38</td>\n",
       "      <td>40</td>\n",
       "      <td>Male</td>\n",
       "      <td>143</td>\n",
       "      <td>Frenzied Scimitar</td>\n",
       "      <td>1.56</td>\n",
       "    </tr>\n",
       "    <tr>\n",
       "      <th>2</th>\n",
       "      <td>2</td>\n",
       "      <td>Ithergue48</td>\n",
       "      <td>24</td>\n",
       "      <td>Male</td>\n",
       "      <td>92</td>\n",
       "      <td>Final Critic</td>\n",
       "      <td>4.88</td>\n",
       "    </tr>\n",
       "    <tr>\n",
       "      <th>3</th>\n",
       "      <td>3</td>\n",
       "      <td>Chamassasya86</td>\n",
       "      <td>24</td>\n",
       "      <td>Male</td>\n",
       "      <td>100</td>\n",
       "      <td>Blindscythe</td>\n",
       "      <td>3.27</td>\n",
       "    </tr>\n",
       "    <tr>\n",
       "      <th>4</th>\n",
       "      <td>4</td>\n",
       "      <td>Iskosia90</td>\n",
       "      <td>23</td>\n",
       "      <td>Male</td>\n",
       "      <td>131</td>\n",
       "      <td>Fury</td>\n",
       "      <td>1.44</td>\n",
       "    </tr>\n",
       "  </tbody>\n",
       "</table>\n",
       "</div>"
      ],
      "text/plain": [
       "   Purchase ID             SN  Age Gender  Item ID  \\\n",
       "0            0        Lisim78   20   Male      108   \n",
       "1            1    Lisovynya38   40   Male      143   \n",
       "2            2     Ithergue48   24   Male       92   \n",
       "3            3  Chamassasya86   24   Male      100   \n",
       "4            4      Iskosia90   23   Male      131   \n",
       "\n",
       "                                   Item Name  Price  \n",
       "0  Extraction, Quickblade Of Trembling Hands   3.53  \n",
       "1                          Frenzied Scimitar   1.56  \n",
       "2                               Final Critic   4.88  \n",
       "3                                Blindscythe   3.27  \n",
       "4                                       Fury   1.44  "
      ]
     },
     "execution_count": 154,
     "metadata": {},
     "output_type": "execute_result"
    }
   ],
   "source": [
    "#Display data sample\n",
    "rawdata.head()"
   ]
  },
  {
   "cell_type": "markdown",
   "id": "b45bd0ac",
   "metadata": {},
   "source": [
    "---\n",
    "\n",
    "# Player Count\n",
    "Find the number of unique entries in the SN column of the data"
   ]
  },
  {
   "cell_type": "code",
   "execution_count": 155,
   "id": "6f7ccbc4",
   "metadata": {},
   "outputs": [],
   "source": [
    "playercount = (\n",
    "    rawdata.agg({'SN':'nunique'})\n",
    "    .to_frame().rename({'SN': 'Total Players'}).T # Improve the format of the output\n",
    ")"
   ]
  },
  {
   "cell_type": "markdown",
   "id": "46710e63",
   "metadata": {},
   "source": [
    "Display the data"
   ]
  },
  {
   "cell_type": "code",
   "execution_count": 104,
   "id": "37bca16e",
   "metadata": {},
   "outputs": [
    {
     "data": {
      "text/html": [
       "<div>\n",
       "<style scoped>\n",
       "    .dataframe tbody tr th:only-of-type {\n",
       "        vertical-align: middle;\n",
       "    }\n",
       "\n",
       "    .dataframe tbody tr th {\n",
       "        vertical-align: top;\n",
       "    }\n",
       "\n",
       "    .dataframe thead th {\n",
       "        text-align: right;\n",
       "    }\n",
       "</style>\n",
       "<table border=\"1\" class=\"dataframe\">\n",
       "  <thead>\n",
       "    <tr style=\"text-align: right;\">\n",
       "      <th></th>\n",
       "      <th>Total Players</th>\n",
       "    </tr>\n",
       "  </thead>\n",
       "  <tbody>\n",
       "    <tr>\n",
       "      <th>0</th>\n",
       "      <td>576</td>\n",
       "    </tr>\n",
       "  </tbody>\n",
       "</table>\n",
       "</div>"
      ],
      "text/plain": [
       "   Total Players\n",
       "0            576"
      ]
     },
     "metadata": {},
     "output_type": "display_data"
    }
   ],
   "source": [
    "display(playercount)"
   ]
  },
  {
   "cell_type": "markdown",
   "id": "28f22551",
   "metadata": {},
   "source": [
    "---\n",
    "\n",
    "# Purchasing Analysis (Total)"
   ]
  },
  {
   "cell_type": "markdown",
   "id": "6cfb6612",
   "metadata": {},
   "source": [
    "Obtain a fresh copy of the data with entries for all transactions"
   ]
  },
  {
   "cell_type": "code",
   "execution_count": 157,
   "id": "a85dc3c7",
   "metadata": {},
   "outputs": [],
   "source": [
    "purchasing_analysis = rawdata.copy()\n",
    "purchasing_analysis[\"Total Revenue\"] = purchasing_analysis[\"Price\"]"
   ]
  },
  {
   "cell_type": "markdown",
   "id": "6f8c21a1",
   "metadata": {},
   "source": [
    "Get aggregate statistical measures from all transactions"
   ]
  },
  {
   "cell_type": "code",
   "execution_count": 158,
   "id": "7bcca450",
   "metadata": {},
   "outputs": [],
   "source": [
    "purchasing_analysis = (\n",
    "    purchasing_analysis\n",
    "    .agg({\"Purchase ID\":'count',\"Price\":'mean',\n",
    "          \"Item ID\":'nunique',\"Total Revenue\":'sum'})\n",
    "    .rename({\"Purchase ID\":\"Number of Purchases\",\"Price\":\"Average Price\", # Improve the format of the output\n",
    "             \"Item ID\":\"Number of Unique Items\"}).to_frame().T\n",
    ")"
   ]
  },
  {
   "cell_type": "markdown",
   "id": "7375d7f4",
   "metadata": {},
   "source": [
    "Format and display the data"
   ]
  },
  {
   "cell_type": "code",
   "execution_count": 159,
   "id": "90e3e077",
   "metadata": {},
   "outputs": [
    {
     "data": {
      "text/html": [
       "<style  type=\"text/css\" >\n",
       "</style><table id=\"T_83d46_\" ><thead>    <tr>        <th class=\"blank level0\" ></th>        <th class=\"col_heading level0 col0\" >Number of Purchases</th>        <th class=\"col_heading level0 col1\" >Average Price</th>        <th class=\"col_heading level0 col2\" >Number of Unique Items</th>        <th class=\"col_heading level0 col3\" >Total Revenue</th>    </tr></thead><tbody>\n",
       "                <tr>\n",
       "                        <th id=\"T_83d46_level0_row0\" class=\"row_heading level0 row0\" >0</th>\n",
       "                        <td id=\"T_83d46_row0_col0\" class=\"data row0 col0\" >780</td>\n",
       "                        <td id=\"T_83d46_row0_col1\" class=\"data row0 col1\" >$3.05</td>\n",
       "                        <td id=\"T_83d46_row0_col2\" class=\"data row0 col2\" >179</td>\n",
       "                        <td id=\"T_83d46_row0_col3\" class=\"data row0 col3\" >$2379.77</td>\n",
       "            </tr>\n",
       "    </tbody></table>"
      ],
      "text/plain": [
       "<pandas.io.formats.style.Styler at 0x1db8013bd00>"
      ]
     },
     "execution_count": 159,
     "metadata": {},
     "output_type": "execute_result"
    }
   ],
   "source": [
    "purchasing_analysis.head().style.format({\"Number of Purchases\":int,\"Average Price\":\"${:.2f}\",\n",
    "                                         \"Number of Unique Items\":int,\"Total Revenue\":'${:.2f}'})"
   ]
  },
  {
   "cell_type": "markdown",
   "id": "f4accfcb",
   "metadata": {},
   "source": [
    "---\n",
    "\n",
    "# Gender Demographics"
   ]
  },
  {
   "cell_type": "markdown",
   "id": "845f3799",
   "metadata": {},
   "source": [
    "Obtain a fresh copy of the data with a single entry for each player"
   ]
  },
  {
   "cell_type": "code",
   "execution_count": 145,
   "id": "0a592dce",
   "metadata": {},
   "outputs": [],
   "source": [
    "genderdemos = rawdata.copy().drop_duplicates(subset = \"SN\",ignore_index =True)"
   ]
  },
  {
   "cell_type": "markdown",
   "id": "15e2228b",
   "metadata": {},
   "source": [
    "Group the entries by gender, and count the results"
   ]
  },
  {
   "cell_type": "code",
   "execution_count": 145,
   "id": "2ed5517a",
   "metadata": {},
   "outputs": [],
   "source": [
    "genderdemos=genderdemos[\"Gender\"].value_counts().to_frame().rename(columns = {\"Gender\":\"Number of Players\"})\n",
    "genderdemos[\"Percentage of Players\"]= genderdemos[\"Number of Players\"]/sum(genderdemos[\"Number of Players\"])"
   ]
  },
  {
   "cell_type": "markdown",
   "id": "e06981f0",
   "metadata": {},
   "source": [
    "Format and display the data"
   ]
  },
  {
   "cell_type": "code",
   "execution_count": 145,
   "id": "48758750",
   "metadata": {},
   "outputs": [
    {
     "data": {
      "text/html": [
       "<style  type=\"text/css\" >\n",
       "</style><table id=\"T_43408_\" ><thead>    <tr>        <th class=\"blank level0\" ></th>        <th class=\"col_heading level0 col0\" >Number of Players</th>        <th class=\"col_heading level0 col1\" >Percentage of Players</th>    </tr></thead><tbody>\n",
       "                <tr>\n",
       "                        <th id=\"T_43408_level0_row0\" class=\"row_heading level0 row0\" >Male</th>\n",
       "                        <td id=\"T_43408_row0_col0\" class=\"data row0 col0\" >484</td>\n",
       "                        <td id=\"T_43408_row0_col1\" class=\"data row0 col1\" >84.03%</td>\n",
       "            </tr>\n",
       "            <tr>\n",
       "                        <th id=\"T_43408_level0_row1\" class=\"row_heading level0 row1\" >Female</th>\n",
       "                        <td id=\"T_43408_row1_col0\" class=\"data row1 col0\" >81</td>\n",
       "                        <td id=\"T_43408_row1_col1\" class=\"data row1 col1\" >14.06%</td>\n",
       "            </tr>\n",
       "            <tr>\n",
       "                        <th id=\"T_43408_level0_row2\" class=\"row_heading level0 row2\" >Other / Non-Disclosed</th>\n",
       "                        <td id=\"T_43408_row2_col0\" class=\"data row2 col0\" >11</td>\n",
       "                        <td id=\"T_43408_row2_col1\" class=\"data row2 col1\" >1.91%</td>\n",
       "            </tr>\n",
       "    </tbody></table>"
      ],
      "text/plain": [
       "<pandas.io.formats.style.Styler at 0x1dbffd67d30>"
      ]
     },
     "execution_count": 145,
     "metadata": {},
     "output_type": "execute_result"
    }
   ],
   "source": [
    "genderdemos.head().style.format({\"Percentage of Players\": \"{:.2%}\"})"
   ]
  },
  {
   "cell_type": "markdown",
   "id": "b36e8633",
   "metadata": {},
   "source": [
    " ---\n",
    " \n",
    " # Purchasing Analysis (Gender)"
   ]
  },
  {
   "cell_type": "markdown",
   "id": "bda62f5a",
   "metadata": {},
   "source": [
    "Get aggregate statistical measures from data containing all transactions"
   ]
  },
  {
   "cell_type": "code",
   "execution_count": 107,
   "id": "2b58a558",
   "metadata": {},
   "outputs": [],
   "source": [
    "genderpurchasing =(\n",
    "    rawdata.groupby(\"Gender\").agg({\"Purchase ID\":\"count\",\"Price\":[\"mean\",\"sum\"]})\n",
    "    .droplevel(0,1)\n",
    "    .rename(columns ={\"count\":\"Total Purchases\",\"mean\":\"Average Price\",\"sum\":\"Total Revenue\"})\n",
    ")"
   ]
  },
  {
   "cell_type": "markdown",
   "id": "4bf90e5e",
   "metadata": {},
   "source": [
    "Group the data to get total sales for each player, then return the mean total purchase for each gender"
   ]
  },
  {
   "cell_type": "code",
   "execution_count": 107,
   "id": "2ee7cc1a",
   "metadata": {},
   "outputs": [],
   "source": [
    "genderpurchasing[\"Average Per Person\"] = (rawdata.groupby(\"SN\").agg({\"Gender\":'first','Price': 'sum'})\n",
    "                                          .groupby(\"Gender\").mean())"
   ]
  },
  {
   "cell_type": "markdown",
   "id": "7aab874e",
   "metadata": {},
   "source": [
    "Format and display the data"
   ]
  },
  {
   "cell_type": "code",
   "execution_count": 146,
   "id": "1cf5f6b9",
   "metadata": {},
   "outputs": [
    {
     "data": {
      "text/html": [
       "<style  type=\"text/css\" >\n",
       "</style><table id=\"T_04d01_\" ><thead>    <tr>        <th class=\"blank level0\" ></th>        <th class=\"col_heading level0 col0\" >Total Purchases</th>        <th class=\"col_heading level0 col1\" >Average Price</th>        <th class=\"col_heading level0 col2\" >Total Revenue</th>        <th class=\"col_heading level0 col3\" >Average Per Person</th>    </tr>    <tr>        <th class=\"index_name level0\" >Gender</th>        <th class=\"blank\" ></th>        <th class=\"blank\" ></th>        <th class=\"blank\" ></th>        <th class=\"blank\" ></th>    </tr></thead><tbody>\n",
       "                <tr>\n",
       "                        <th id=\"T_04d01_level0_row0\" class=\"row_heading level0 row0\" >Female</th>\n",
       "                        <td id=\"T_04d01_row0_col0\" class=\"data row0 col0\" >113</td>\n",
       "                        <td id=\"T_04d01_row0_col1\" class=\"data row0 col1\" >$3.20</td>\n",
       "                        <td id=\"T_04d01_row0_col2\" class=\"data row0 col2\" >$361.94</td>\n",
       "                        <td id=\"T_04d01_row0_col3\" class=\"data row0 col3\" >$4.47</td>\n",
       "            </tr>\n",
       "            <tr>\n",
       "                        <th id=\"T_04d01_level0_row1\" class=\"row_heading level0 row1\" >Male</th>\n",
       "                        <td id=\"T_04d01_row1_col0\" class=\"data row1 col0\" >652</td>\n",
       "                        <td id=\"T_04d01_row1_col1\" class=\"data row1 col1\" >$3.02</td>\n",
       "                        <td id=\"T_04d01_row1_col2\" class=\"data row1 col2\" >$1967.64</td>\n",
       "                        <td id=\"T_04d01_row1_col3\" class=\"data row1 col3\" >$4.07</td>\n",
       "            </tr>\n",
       "            <tr>\n",
       "                        <th id=\"T_04d01_level0_row2\" class=\"row_heading level0 row2\" >Other / Non-Disclosed</th>\n",
       "                        <td id=\"T_04d01_row2_col0\" class=\"data row2 col0\" >15</td>\n",
       "                        <td id=\"T_04d01_row2_col1\" class=\"data row2 col1\" >$3.35</td>\n",
       "                        <td id=\"T_04d01_row2_col2\" class=\"data row2 col2\" >$50.19</td>\n",
       "                        <td id=\"T_04d01_row2_col3\" class=\"data row2 col3\" >$4.56</td>\n",
       "            </tr>\n",
       "    </tbody></table>"
      ],
      "text/plain": [
       "<pandas.io.formats.style.Styler at 0x1db8015a520>"
      ]
     },
     "execution_count": 146,
     "metadata": {},
     "output_type": "execute_result"
    }
   ],
   "source": [
    "genderpurchasing.head().style.format({\"Average Price\":'${:.2f}',\"Total Revenue\":\"${:.2f}\",\n",
    "                                      \"Average Per Person\":\"${:.2f}\"})"
   ]
  },
  {
   "cell_type": "markdown",
   "id": "73ad4458",
   "metadata": {},
   "source": [
    "---\n",
    "\n",
    "# Age Demographics "
   ]
  },
  {
   "cell_type": "markdown",
   "id": "c67ec701",
   "metadata": {},
   "source": [
    "Set up bin sizes and labels for pd.cut()"
   ]
  },
  {
   "cell_type": "code",
   "execution_count": 134,
   "id": "28a59ece",
   "metadata": {},
   "outputs": [],
   "source": [
    "agebins = [0,10,15,20,25,30,35,40,125]\n",
    "agebins_names = [\"<10\",\"10-14\",\"15-19\",\"20-24\",\"25-29\",\"30-34\",\"35-39\",\">40\"]"
   ]
  },
  {
   "cell_type": "markdown",
   "id": "13a8dcb2",
   "metadata": {},
   "source": [
    "Get a fresh data copy with a single age entry for each player, then bin the ages into groups"
   ]
  },
  {
   "cell_type": "code",
   "execution_count": 134,
   "id": "f5257ca1",
   "metadata": {},
   "outputs": [],
   "source": [
    "agedata = rawdata.copy().drop_duplicates(subset = \"SN\",ignore_index =True)\n",
    "binned_ages_df = pd.cut(agedata[\"Age\"],agebins,labels = agebins_names, right =False)"
   ]
  },
  {
   "cell_type": "markdown",
   "id": "bdbb0e7c",
   "metadata": {},
   "source": [
    "Count the results"
   ]
  },
  {
   "cell_type": "code",
   "execution_count": 153,
   "id": "5d266119",
   "metadata": {},
   "outputs": [],
   "source": [
    "agedemographics = (binned_ages_df.value_counts().to_frame().reindex(agebins_names)\n",
    "                   .rename(columns={\"Age\": \"Number of Players\"})) # Change column names to reflect new meaning\n",
    "agedemographics[\"Percent of Players\"] = agedemographics[\"Number of Players\"]/sum(agedemographics[\"Number of Players\"])"
   ]
  },
  {
   "cell_type": "markdown",
   "id": "c49446e9",
   "metadata": {},
   "source": [
    "Format and display the data"
   ]
  },
  {
   "cell_type": "code",
   "execution_count": 152,
   "id": "412c9ab0",
   "metadata": {},
   "outputs": [
    {
     "data": {
      "text/html": [
       "<style  type=\"text/css\" >\n",
       "</style><table id=\"T_c3688_\" ><thead>    <tr>        <th class=\"blank level0\" ></th>        <th class=\"col_heading level0 col0\" >Number of Players</th>        <th class=\"col_heading level0 col1\" >Percent of Players</th>    </tr></thead><tbody>\n",
       "                <tr>\n",
       "                        <th id=\"T_c3688_level0_row0\" class=\"row_heading level0 row0\" ><10</th>\n",
       "                        <td id=\"T_c3688_row0_col0\" class=\"data row0 col0\" >17</td>\n",
       "                        <td id=\"T_c3688_row0_col1\" class=\"data row0 col1\" >2.95%</td>\n",
       "            </tr>\n",
       "            <tr>\n",
       "                        <th id=\"T_c3688_level0_row1\" class=\"row_heading level0 row1\" >10-14</th>\n",
       "                        <td id=\"T_c3688_row1_col0\" class=\"data row1 col0\" >22</td>\n",
       "                        <td id=\"T_c3688_row1_col1\" class=\"data row1 col1\" >3.82%</td>\n",
       "            </tr>\n",
       "            <tr>\n",
       "                        <th id=\"T_c3688_level0_row2\" class=\"row_heading level0 row2\" >15-19</th>\n",
       "                        <td id=\"T_c3688_row2_col0\" class=\"data row2 col0\" >107</td>\n",
       "                        <td id=\"T_c3688_row2_col1\" class=\"data row2 col1\" >18.58%</td>\n",
       "            </tr>\n",
       "            <tr>\n",
       "                        <th id=\"T_c3688_level0_row3\" class=\"row_heading level0 row3\" >20-24</th>\n",
       "                        <td id=\"T_c3688_row3_col0\" class=\"data row3 col0\" >258</td>\n",
       "                        <td id=\"T_c3688_row3_col1\" class=\"data row3 col1\" >44.79%</td>\n",
       "            </tr>\n",
       "            <tr>\n",
       "                        <th id=\"T_c3688_level0_row4\" class=\"row_heading level0 row4\" >25-29</th>\n",
       "                        <td id=\"T_c3688_row4_col0\" class=\"data row4 col0\" >77</td>\n",
       "                        <td id=\"T_c3688_row4_col1\" class=\"data row4 col1\" >13.37%</td>\n",
       "            </tr>\n",
       "            <tr>\n",
       "                        <th id=\"T_c3688_level0_row5\" class=\"row_heading level0 row5\" >30-34</th>\n",
       "                        <td id=\"T_c3688_row5_col0\" class=\"data row5 col0\" >52</td>\n",
       "                        <td id=\"T_c3688_row5_col1\" class=\"data row5 col1\" >9.03%</td>\n",
       "            </tr>\n",
       "            <tr>\n",
       "                        <th id=\"T_c3688_level0_row6\" class=\"row_heading level0 row6\" >35-39</th>\n",
       "                        <td id=\"T_c3688_row6_col0\" class=\"data row6 col0\" >31</td>\n",
       "                        <td id=\"T_c3688_row6_col1\" class=\"data row6 col1\" >5.38%</td>\n",
       "            </tr>\n",
       "            <tr>\n",
       "                        <th id=\"T_c3688_level0_row7\" class=\"row_heading level0 row7\" >>40</th>\n",
       "                        <td id=\"T_c3688_row7_col0\" class=\"data row7 col0\" >12</td>\n",
       "                        <td id=\"T_c3688_row7_col1\" class=\"data row7 col1\" >2.08%</td>\n",
       "            </tr>\n",
       "    </tbody></table>"
      ],
      "text/plain": [
       "<pandas.io.formats.style.Styler at 0x1db8015ad30>"
      ]
     },
     "execution_count": 152,
     "metadata": {},
     "output_type": "execute_result"
    }
   ],
   "source": [
    "agedemographics.head(8).style.format({\"Percent of Players\":\"{:.2%}\"})"
   ]
  },
  {
   "cell_type": "markdown",
   "id": "1b70c52c",
   "metadata": {
    "tags": []
   },
   "source": [
    "---\n",
    "\n",
    "# Purchasing Analysis (Age) "
   ]
  },
  {
   "cell_type": "markdown",
   "id": "a1eb8db3",
   "metadata": {
    "tags": []
   },
   "source": [
    "Get a fresh copy of the data that has entries for all transaction, then bin the ages into groups"
   ]
  },
  {
   "cell_type": "code",
   "execution_count": 149,
   "id": "5489e6f5",
   "metadata": {
    "tags": []
   },
   "outputs": [],
   "source": [
    "agegroups = rawdata.copy()\n",
    "agegroups[\"Age Range\"]= pd.cut(rawdata[\"Age\"],agebins,labels = agebins_names,ordered = True,right= False) "
   ]
  },
  {
   "cell_type": "markdown",
   "id": "d49d67a3",
   "metadata": {
    "tags": []
   },
   "source": [
    "Get aggregate statistical measures for each age group"
   ]
  },
  {
   "cell_type": "code",
   "execution_count": 148,
   "id": "9f7aa10f",
   "metadata": {
    "tags": []
   },
   "outputs": [],
   "source": [
    "ageanalysis = (\n",
    "    agegroups.groupby(\"Age Range\").agg({\"Purchase ID\":'count',\"Price\":['mean','sum']})\n",
    "    .droplevel(0,1).rename(columns ={\"count\":\"Total Purchases\",\"mean\": \n",
    "                                     \"Average Price\", \"sum\":\"Total Revenue\"}) #Improve the column headers\n",
    ")\n",
    "ageanalysis[\"Average Per Person\"] = (\n",
    "    agegroups.copy().groupby(\"SN\").agg({\"Age Range\":'first','Price': 'sum'})\n",
    "    .groupby(\"Age Range\").agg({\"Price\":'mean'})\n",
    ")"
   ]
  },
  {
   "cell_type": "markdown",
   "id": "d9f25884",
   "metadata": {
    "tags": []
   },
   "source": [
    "Format and display the data"
   ]
  },
  {
   "cell_type": "code",
   "execution_count": 143,
   "id": "cc5cd1bd",
   "metadata": {
    "tags": []
   },
   "outputs": [
    {
     "data": {
      "text/html": [
       "<style  type=\"text/css\" >\n",
       "</style><table id=\"T_a4b4b_\" ><thead>    <tr>        <th class=\"blank level0\" ></th>        <th class=\"col_heading level0 col0\" >Total Purchases</th>        <th class=\"col_heading level0 col1\" >Average Price</th>        <th class=\"col_heading level0 col2\" >Total Revenue</th>        <th class=\"col_heading level0 col3\" >Average Per Person</th>    </tr>    <tr>        <th class=\"index_name level0\" >Age Range</th>        <th class=\"blank\" ></th>        <th class=\"blank\" ></th>        <th class=\"blank\" ></th>        <th class=\"blank\" ></th>    </tr></thead><tbody>\n",
       "                <tr>\n",
       "                        <th id=\"T_a4b4b_level0_row0\" class=\"row_heading level0 row0\" ><10</th>\n",
       "                        <td id=\"T_a4b4b_row0_col0\" class=\"data row0 col0\" >23</td>\n",
       "                        <td id=\"T_a4b4b_row0_col1\" class=\"data row0 col1\" >$3.35</td>\n",
       "                        <td id=\"T_a4b4b_row0_col2\" class=\"data row0 col2\" >$77.13</td>\n",
       "                        <td id=\"T_a4b4b_row0_col3\" class=\"data row0 col3\" >$4.54</td>\n",
       "            </tr>\n",
       "            <tr>\n",
       "                        <th id=\"T_a4b4b_level0_row1\" class=\"row_heading level0 row1\" >10-14</th>\n",
       "                        <td id=\"T_a4b4b_row1_col0\" class=\"data row1 col0\" >28</td>\n",
       "                        <td id=\"T_a4b4b_row1_col1\" class=\"data row1 col1\" >$2.96</td>\n",
       "                        <td id=\"T_a4b4b_row1_col2\" class=\"data row1 col2\" >$82.78</td>\n",
       "                        <td id=\"T_a4b4b_row1_col3\" class=\"data row1 col3\" >$3.76</td>\n",
       "            </tr>\n",
       "            <tr>\n",
       "                        <th id=\"T_a4b4b_level0_row2\" class=\"row_heading level0 row2\" >15-19</th>\n",
       "                        <td id=\"T_a4b4b_row2_col0\" class=\"data row2 col0\" >136</td>\n",
       "                        <td id=\"T_a4b4b_row2_col1\" class=\"data row2 col1\" >$3.04</td>\n",
       "                        <td id=\"T_a4b4b_row2_col2\" class=\"data row2 col2\" >$412.89</td>\n",
       "                        <td id=\"T_a4b4b_row2_col3\" class=\"data row2 col3\" >$3.86</td>\n",
       "            </tr>\n",
       "            <tr>\n",
       "                        <th id=\"T_a4b4b_level0_row3\" class=\"row_heading level0 row3\" >20-24</th>\n",
       "                        <td id=\"T_a4b4b_row3_col0\" class=\"data row3 col0\" >365</td>\n",
       "                        <td id=\"T_a4b4b_row3_col1\" class=\"data row3 col1\" >$3.05</td>\n",
       "                        <td id=\"T_a4b4b_row3_col2\" class=\"data row3 col2\" >$1114.06</td>\n",
       "                        <td id=\"T_a4b4b_row3_col3\" class=\"data row3 col3\" >$4.32</td>\n",
       "            </tr>\n",
       "            <tr>\n",
       "                        <th id=\"T_a4b4b_level0_row4\" class=\"row_heading level0 row4\" >25-29</th>\n",
       "                        <td id=\"T_a4b4b_row4_col0\" class=\"data row4 col0\" >101</td>\n",
       "                        <td id=\"T_a4b4b_row4_col1\" class=\"data row4 col1\" >$2.90</td>\n",
       "                        <td id=\"T_a4b4b_row4_col2\" class=\"data row4 col2\" >$293.00</td>\n",
       "                        <td id=\"T_a4b4b_row4_col3\" class=\"data row4 col3\" >$3.81</td>\n",
       "            </tr>\n",
       "            <tr>\n",
       "                        <th id=\"T_a4b4b_level0_row5\" class=\"row_heading level0 row5\" >30-34</th>\n",
       "                        <td id=\"T_a4b4b_row5_col0\" class=\"data row5 col0\" >73</td>\n",
       "                        <td id=\"T_a4b4b_row5_col1\" class=\"data row5 col1\" >$2.93</td>\n",
       "                        <td id=\"T_a4b4b_row5_col2\" class=\"data row5 col2\" >$214.00</td>\n",
       "                        <td id=\"T_a4b4b_row5_col3\" class=\"data row5 col3\" >$4.12</td>\n",
       "            </tr>\n",
       "            <tr>\n",
       "                        <th id=\"T_a4b4b_level0_row6\" class=\"row_heading level0 row6\" >35-39</th>\n",
       "                        <td id=\"T_a4b4b_row6_col0\" class=\"data row6 col0\" >41</td>\n",
       "                        <td id=\"T_a4b4b_row6_col1\" class=\"data row6 col1\" >$3.60</td>\n",
       "                        <td id=\"T_a4b4b_row6_col2\" class=\"data row6 col2\" >$147.67</td>\n",
       "                        <td id=\"T_a4b4b_row6_col3\" class=\"data row6 col3\" >$4.76</td>\n",
       "            </tr>\n",
       "            <tr>\n",
       "                        <th id=\"T_a4b4b_level0_row7\" class=\"row_heading level0 row7\" >>40</th>\n",
       "                        <td id=\"T_a4b4b_row7_col0\" class=\"data row7 col0\" >13</td>\n",
       "                        <td id=\"T_a4b4b_row7_col1\" class=\"data row7 col1\" >$2.94</td>\n",
       "                        <td id=\"T_a4b4b_row7_col2\" class=\"data row7 col2\" >$38.24</td>\n",
       "                        <td id=\"T_a4b4b_row7_col3\" class=\"data row7 col3\" >$3.19</td>\n",
       "            </tr>\n",
       "    </tbody></table>"
      ],
      "text/plain": [
       "<pandas.io.formats.style.Styler at 0x1db8011c130>"
      ]
     },
     "execution_count": 143,
     "metadata": {},
     "output_type": "execute_result"
    }
   ],
   "source": [
    "ageanalysis.head(8).style.format({\"Average Price\":\"${:.2f}\",\n",
    "                                  \"Total Revenue\":\"${:.2f}\",\n",
    "                                  \"Average Per Person\":\"${:.2f}\"})"
   ]
  },
  {
   "cell_type": "markdown",
   "id": "4f9aa3f2",
   "metadata": {
    "tags": []
   },
   "source": [
    "---\n",
    "\n",
    "# Top Spenders"
   ]
  },
  {
   "cell_type": "code",
   "execution_count": 92,
   "id": "54df6a22",
   "metadata": {
    "tags": []
   },
   "outputs": [
    {
     "data": {
      "text/html": [
       "<style  type=\"text/css\" >\n",
       "</style><table id=\"T_5f611_\" ><thead>    <tr>        <th class=\"blank level0\" ></th>        <th class=\"col_heading level0 col0\" >Purchase Count</th>        <th class=\"col_heading level0 col1\" >Price</th>        <th class=\"col_heading level0 col2\" >Total Revenue</th>    </tr>    <tr>        <th class=\"index_name level0\" >SN</th>        <th class=\"blank\" ></th>        <th class=\"blank\" ></th>        <th class=\"blank\" ></th>    </tr></thead><tbody>\n",
       "                <tr>\n",
       "                        <th id=\"T_5f611_level0_row0\" class=\"row_heading level0 row0\" >Lisosia93</th>\n",
       "                        <td id=\"T_5f611_row0_col0\" class=\"data row0 col0\" >5</td>\n",
       "                        <td id=\"T_5f611_row0_col1\" class=\"data row0 col1\" >$3.79</td>\n",
       "                        <td id=\"T_5f611_row0_col2\" class=\"data row0 col2\" >$18.96</td>\n",
       "            </tr>\n",
       "            <tr>\n",
       "                        <th id=\"T_5f611_level0_row1\" class=\"row_heading level0 row1\" >Idastidru52</th>\n",
       "                        <td id=\"T_5f611_row1_col0\" class=\"data row1 col0\" >4</td>\n",
       "                        <td id=\"T_5f611_row1_col1\" class=\"data row1 col1\" >$3.86</td>\n",
       "                        <td id=\"T_5f611_row1_col2\" class=\"data row1 col2\" >$15.45</td>\n",
       "            </tr>\n",
       "            <tr>\n",
       "                        <th id=\"T_5f611_level0_row2\" class=\"row_heading level0 row2\" >Chamjask73</th>\n",
       "                        <td id=\"T_5f611_row2_col0\" class=\"data row2 col0\" >3</td>\n",
       "                        <td id=\"T_5f611_row2_col1\" class=\"data row2 col1\" >$4.61</td>\n",
       "                        <td id=\"T_5f611_row2_col2\" class=\"data row2 col2\" >$13.83</td>\n",
       "            </tr>\n",
       "            <tr>\n",
       "                        <th id=\"T_5f611_level0_row3\" class=\"row_heading level0 row3\" >Iral74</th>\n",
       "                        <td id=\"T_5f611_row3_col0\" class=\"data row3 col0\" >4</td>\n",
       "                        <td id=\"T_5f611_row3_col1\" class=\"data row3 col1\" >$3.40</td>\n",
       "                        <td id=\"T_5f611_row3_col2\" class=\"data row3 col2\" >$13.62</td>\n",
       "            </tr>\n",
       "            <tr>\n",
       "                        <th id=\"T_5f611_level0_row4\" class=\"row_heading level0 row4\" >Iskadarya95</th>\n",
       "                        <td id=\"T_5f611_row4_col0\" class=\"data row4 col0\" >3</td>\n",
       "                        <td id=\"T_5f611_row4_col1\" class=\"data row4 col1\" >$4.37</td>\n",
       "                        <td id=\"T_5f611_row4_col2\" class=\"data row4 col2\" >$13.10</td>\n",
       "            </tr>\n",
       "    </tbody></table>"
      ],
      "text/plain": [
       "<pandas.io.formats.style.Styler at 0x1e0034da310>"
      ]
     },
     "execution_count": 92,
     "metadata": {},
     "output_type": "execute_result"
    }
   ],
   "source": [
    "topspenders = (\n",
    "    rawdata.copy().groupby(\"SN\").agg({\"Purchase ID\":'count',\"Price\":['mean','sum']})\n",
    "    .droplevel(0,1)\n",
    "    .rename(columns = {\"count\":\"Purchase Count\",\"mean\":\"Price\",\"sum\":\"Total Revenue\"})\n",
    "    .sort_values(\"Total Revenue\",ascending = False)\n",
    ")\n",
    "topspenders.head().style.format({\"Price\":\"${:.2f}\",\"Total Revenue\":\"${:.2f}\"})"
   ]
  },
  {
   "cell_type": "markdown",
   "id": "a8719121",
   "metadata": {},
   "source": [
    "---\n",
    "\n",
    "# Most Popular Items"
   ]
  },
  {
   "cell_type": "code",
   "execution_count": 160,
   "id": "9a09050f",
   "metadata": {},
   "outputs": [
    {
     "data": {
      "text/html": [
       "<style  type=\"text/css\" >\n",
       "</style><table id=\"T_1b567_\" ><thead>    <tr>        <th class=\"blank\" ></th>        <th class=\"blank level0\" ></th>        <th class=\"col_heading level0 col0\" >Purchase Count</th>        <th class=\"col_heading level0 col1\" >Price</th>        <th class=\"col_heading level0 col2\" >Total Revenue</th>    </tr>    <tr>        <th class=\"index_name level0\" >Item ID</th>        <th class=\"index_name level1\" >Item Name</th>        <th class=\"blank\" ></th>        <th class=\"blank\" ></th>        <th class=\"blank\" ></th>    </tr></thead><tbody>\n",
       "                <tr>\n",
       "                        <th id=\"T_1b567_level0_row0\" class=\"row_heading level0 row0\" >92</th>\n",
       "                        <th id=\"T_1b567_level1_row0\" class=\"row_heading level1 row0\" >Final Critic</th>\n",
       "                        <td id=\"T_1b567_row0_col0\" class=\"data row0 col0\" >13</td>\n",
       "                        <td id=\"T_1b567_row0_col1\" class=\"data row0 col1\" >$4.61</td>\n",
       "                        <td id=\"T_1b567_row0_col2\" class=\"data row0 col2\" >$59.99</td>\n",
       "            </tr>\n",
       "            <tr>\n",
       "                        <th id=\"T_1b567_level0_row1\" class=\"row_heading level0 row1\" >178</th>\n",
       "                        <th id=\"T_1b567_level1_row1\" class=\"row_heading level1 row1\" >Oathbreaker, Last Hope of the Breaking Storm</th>\n",
       "                        <td id=\"T_1b567_row1_col0\" class=\"data row1 col0\" >12</td>\n",
       "                        <td id=\"T_1b567_row1_col1\" class=\"data row1 col1\" >$4.23</td>\n",
       "                        <td id=\"T_1b567_row1_col2\" class=\"data row1 col2\" >$50.76</td>\n",
       "            </tr>\n",
       "            <tr>\n",
       "                        <th id=\"T_1b567_level0_row2\" class=\"row_heading level0 row2\" >145</th>\n",
       "                        <th id=\"T_1b567_level1_row2\" class=\"row_heading level1 row2\" >Fiery Glass Crusader</th>\n",
       "                        <td id=\"T_1b567_row2_col0\" class=\"data row2 col0\" >9</td>\n",
       "                        <td id=\"T_1b567_row2_col1\" class=\"data row2 col1\" >$4.58</td>\n",
       "                        <td id=\"T_1b567_row2_col2\" class=\"data row2 col2\" >$41.22</td>\n",
       "            </tr>\n",
       "            <tr>\n",
       "                        <th id=\"T_1b567_level0_row3\" class=\"row_heading level0 row3\" >132</th>\n",
       "                        <th id=\"T_1b567_level1_row3\" class=\"row_heading level1 row3\" >Persuasion</th>\n",
       "                        <td id=\"T_1b567_row3_col0\" class=\"data row3 col0\" >9</td>\n",
       "                        <td id=\"T_1b567_row3_col1\" class=\"data row3 col1\" >$3.22</td>\n",
       "                        <td id=\"T_1b567_row3_col2\" class=\"data row3 col2\" >$28.99</td>\n",
       "            </tr>\n",
       "            <tr>\n",
       "                        <th id=\"T_1b567_level0_row4\" class=\"row_heading level0 row4\" >108</th>\n",
       "                        <th id=\"T_1b567_level1_row4\" class=\"row_heading level1 row4\" >Extraction, Quickblade Of Trembling Hands</th>\n",
       "                        <td id=\"T_1b567_row4_col0\" class=\"data row4 col0\" >9</td>\n",
       "                        <td id=\"T_1b567_row4_col1\" class=\"data row4 col1\" >$3.53</td>\n",
       "                        <td id=\"T_1b567_row4_col2\" class=\"data row4 col2\" >$31.77</td>\n",
       "            </tr>\n",
       "    </tbody></table>"
      ],
      "text/plain": [
       "<pandas.io.formats.style.Styler at 0x1db8013b820>"
      ]
     },
     "execution_count": 160,
     "metadata": {},
     "output_type": "execute_result"
    }
   ],
   "source": [
    "popularitems = (\n",
    "    rawdata.copy().groupby([\"Item ID\",\"Item Name\"]).agg({\"Purchase ID\":'count',\"Price\":['mean','sum']})\n",
    "    .droplevel(0,1)\n",
    "    .rename(columns = {\"count\":\"Purchase Count\",\"mean\":\"Price\",\"sum\":\"Total Revenue\"})\n",
    "    .sort_values(\"Purchase Count\",ascending = False)\n",
    ")\n",
    "popularitems.head().style.format({\"Price\":\"${:.2f}\",\"Total Revenue\":\"${:.2f}\"})"
   ]
  },
  {
   "cell_type": "markdown",
   "id": "8154ea43",
   "metadata": {},
   "source": [
    "---\n",
    "\n",
    "# Most Profitable Items "
   ]
  },
  {
   "cell_type": "markdown",
   "id": "164b1880",
   "metadata": {},
   "source": [
    "Sort the most popular items table to determine te most profitable items"
   ]
  },
  {
   "cell_type": "code",
   "execution_count": 94,
   "id": "56337d8e",
   "metadata": {},
   "outputs": [],
   "source": [
    "profitable_items = popularitems.sort_values(\"Total Revenue\",ascending = False)"
   ]
  },
  {
   "cell_type": "markdown",
   "id": "d28cbbac",
   "metadata": {},
   "source": [
    "Format and display the data"
   ]
  },
  {
   "cell_type": "code",
   "execution_count": 94,
   "id": "6e2accfd",
   "metadata": {},
   "outputs": [
    {
     "data": {
      "text/html": [
       "<style  type=\"text/css\" >\n",
       "</style><table id=\"T_80103_\" ><thead>    <tr>        <th class=\"blank\" ></th>        <th class=\"blank level0\" ></th>        <th class=\"col_heading level0 col0\" >Purchase Count</th>        <th class=\"col_heading level0 col1\" >Price</th>        <th class=\"col_heading level0 col2\" >Total Revenue</th>    </tr>    <tr>        <th class=\"index_name level0\" >Item ID</th>        <th class=\"index_name level1\" >Item Name</th>        <th class=\"blank\" ></th>        <th class=\"blank\" ></th>        <th class=\"blank\" ></th>    </tr></thead><tbody>\n",
       "                <tr>\n",
       "                        <th id=\"T_80103_level0_row0\" class=\"row_heading level0 row0\" >92</th>\n",
       "                        <th id=\"T_80103_level1_row0\" class=\"row_heading level1 row0\" >Final Critic</th>\n",
       "                        <td id=\"T_80103_row0_col0\" class=\"data row0 col0\" >13</td>\n",
       "                        <td id=\"T_80103_row0_col1\" class=\"data row0 col1\" >$4.61</td>\n",
       "                        <td id=\"T_80103_row0_col2\" class=\"data row0 col2\" >$59.99</td>\n",
       "            </tr>\n",
       "            <tr>\n",
       "                        <th id=\"T_80103_level0_row1\" class=\"row_heading level0 row1\" >178</th>\n",
       "                        <th id=\"T_80103_level1_row1\" class=\"row_heading level1 row1\" >Oathbreaker, Last Hope of the Breaking Storm</th>\n",
       "                        <td id=\"T_80103_row1_col0\" class=\"data row1 col0\" >12</td>\n",
       "                        <td id=\"T_80103_row1_col1\" class=\"data row1 col1\" >$4.23</td>\n",
       "                        <td id=\"T_80103_row1_col2\" class=\"data row1 col2\" >$50.76</td>\n",
       "            </tr>\n",
       "            <tr>\n",
       "                        <th id=\"T_80103_level0_row2\" class=\"row_heading level0 row2\" >82</th>\n",
       "                        <th id=\"T_80103_level1_row2\" class=\"row_heading level1 row2\" >Nirvana</th>\n",
       "                        <td id=\"T_80103_row2_col0\" class=\"data row2 col0\" >9</td>\n",
       "                        <td id=\"T_80103_row2_col1\" class=\"data row2 col1\" >$4.90</td>\n",
       "                        <td id=\"T_80103_row2_col2\" class=\"data row2 col2\" >$44.10</td>\n",
       "            </tr>\n",
       "            <tr>\n",
       "                        <th id=\"T_80103_level0_row3\" class=\"row_heading level0 row3\" >145</th>\n",
       "                        <th id=\"T_80103_level1_row3\" class=\"row_heading level1 row3\" >Fiery Glass Crusader</th>\n",
       "                        <td id=\"T_80103_row3_col0\" class=\"data row3 col0\" >9</td>\n",
       "                        <td id=\"T_80103_row3_col1\" class=\"data row3 col1\" >$4.58</td>\n",
       "                        <td id=\"T_80103_row3_col2\" class=\"data row3 col2\" >$41.22</td>\n",
       "            </tr>\n",
       "            <tr>\n",
       "                        <th id=\"T_80103_level0_row4\" class=\"row_heading level0 row4\" >103</th>\n",
       "                        <th id=\"T_80103_level1_row4\" class=\"row_heading level1 row4\" >Singed Scalpel</th>\n",
       "                        <td id=\"T_80103_row4_col0\" class=\"data row4 col0\" >8</td>\n",
       "                        <td id=\"T_80103_row4_col1\" class=\"data row4 col1\" >$4.35</td>\n",
       "                        <td id=\"T_80103_row4_col2\" class=\"data row4 col2\" >$34.80</td>\n",
       "            </tr>\n",
       "    </tbody></table>"
      ],
      "text/plain": [
       "<pandas.io.formats.style.Styler at 0x1e0033bb370>"
      ]
     },
     "execution_count": 94,
     "metadata": {},
     "output_type": "execute_result"
    }
   ],
   "source": [
    "profitable_items.head().style.format({\"Price\":\"${:.2f}\",\"Total Revenue\":\"${:.2f}\"})"
   ]
  },
  {
   "cell_type": "code",
   "execution_count": null,
   "id": "47c112a2",
   "metadata": {},
   "outputs": [],
   "source": []
  }
 ],
 "metadata": {
  "kernelspec": {
   "display_name": "Python 3",
   "language": "python",
   "name": "python3"
  },
  "language_info": {
   "codemirror_mode": {
    "name": "ipython",
    "version": 3
   },
   "file_extension": ".py",
   "mimetype": "text/x-python",
   "name": "python",
   "nbconvert_exporter": "python",
   "pygments_lexer": "ipython3",
   "version": "3.8.8"
  }
 },
 "nbformat": 4,
 "nbformat_minor": 5
}
