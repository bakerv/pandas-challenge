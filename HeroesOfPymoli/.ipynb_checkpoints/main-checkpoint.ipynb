{
 "cells": [
  {
   "cell_type": "code",
   "execution_count": 214,
   "id": "150425df",
   "metadata": {},
   "outputs": [],
   "source": [
    "#Import dependencies\n",
    "import pandas as pd\n",
    "\n",
    "#Read in the csv file\n",
    "datapath = \"Resources/purchase_data.csv\"\n",
    "rawdata = pd.read_csv(datapath)\n",
    "\n"
   ]
  },
  {
   "cell_type": "markdown",
   "id": "1c894952",
   "metadata": {},
   "source": [
    "### purchase_data.CSV Data Sample"
   ]
  },
  {
   "cell_type": "code",
   "execution_count": 215,
   "id": "345396e5",
   "metadata": {},
   "outputs": [
    {
     "data": {
      "text/html": [
       "<div>\n",
       "<style scoped>\n",
       "    .dataframe tbody tr th:only-of-type {\n",
       "        vertical-align: middle;\n",
       "    }\n",
       "\n",
       "    .dataframe tbody tr th {\n",
       "        vertical-align: top;\n",
       "    }\n",
       "\n",
       "    .dataframe thead th {\n",
       "        text-align: right;\n",
       "    }\n",
       "</style>\n",
       "<table border=\"1\" class=\"dataframe\">\n",
       "  <thead>\n",
       "    <tr style=\"text-align: right;\">\n",
       "      <th></th>\n",
       "      <th>Purchase ID</th>\n",
       "      <th>SN</th>\n",
       "      <th>Age</th>\n",
       "      <th>Gender</th>\n",
       "      <th>Item ID</th>\n",
       "      <th>Item Name</th>\n",
       "      <th>Price</th>\n",
       "    </tr>\n",
       "  </thead>\n",
       "  <tbody>\n",
       "    <tr>\n",
       "      <th>0</th>\n",
       "      <td>0</td>\n",
       "      <td>Lisim78</td>\n",
       "      <td>20</td>\n",
       "      <td>Male</td>\n",
       "      <td>108</td>\n",
       "      <td>Extraction, Quickblade Of Trembling Hands</td>\n",
       "      <td>3.53</td>\n",
       "    </tr>\n",
       "    <tr>\n",
       "      <th>1</th>\n",
       "      <td>1</td>\n",
       "      <td>Lisovynya38</td>\n",
       "      <td>40</td>\n",
       "      <td>Male</td>\n",
       "      <td>143</td>\n",
       "      <td>Frenzied Scimitar</td>\n",
       "      <td>1.56</td>\n",
       "    </tr>\n",
       "    <tr>\n",
       "      <th>2</th>\n",
       "      <td>2</td>\n",
       "      <td>Ithergue48</td>\n",
       "      <td>24</td>\n",
       "      <td>Male</td>\n",
       "      <td>92</td>\n",
       "      <td>Final Critic</td>\n",
       "      <td>4.88</td>\n",
       "    </tr>\n",
       "    <tr>\n",
       "      <th>3</th>\n",
       "      <td>3</td>\n",
       "      <td>Chamassasya86</td>\n",
       "      <td>24</td>\n",
       "      <td>Male</td>\n",
       "      <td>100</td>\n",
       "      <td>Blindscythe</td>\n",
       "      <td>3.27</td>\n",
       "    </tr>\n",
       "    <tr>\n",
       "      <th>4</th>\n",
       "      <td>4</td>\n",
       "      <td>Iskosia90</td>\n",
       "      <td>23</td>\n",
       "      <td>Male</td>\n",
       "      <td>131</td>\n",
       "      <td>Fury</td>\n",
       "      <td>1.44</td>\n",
       "    </tr>\n",
       "  </tbody>\n",
       "</table>\n",
       "</div>"
      ],
      "text/plain": [
       "   Purchase ID             SN  Age Gender  Item ID  \\\n",
       "0            0        Lisim78   20   Male      108   \n",
       "1            1    Lisovynya38   40   Male      143   \n",
       "2            2     Ithergue48   24   Male       92   \n",
       "3            3  Chamassasya86   24   Male      100   \n",
       "4            4      Iskosia90   23   Male      131   \n",
       "\n",
       "                                   Item Name  Price  \n",
       "0  Extraction, Quickblade Of Trembling Hands   3.53  \n",
       "1                          Frenzied Scimitar   1.56  \n",
       "2                               Final Critic   4.88  \n",
       "3                                Blindscythe   3.27  \n",
       "4                                       Fury   1.44  "
      ]
     },
     "execution_count": 215,
     "metadata": {},
     "output_type": "execute_result"
    }
   ],
   "source": [
    "#Display data sample\n",
    "rawdata.head()"
   ]
  },
  {
   "cell_type": "markdown",
   "id": "0b084fee",
   "metadata": {},
   "source": [
    "# Player Count\n",
    "This cell uses the .agg() function to return the number of unique values from a single column of the data set"
   ]
  },
  {
   "cell_type": "code",
   "execution_count": 216,
   "id": "8289ff26",
   "metadata": {},
   "outputs": [
    {
     "data": {
      "text/html": [
       "<div>\n",
       "<style scoped>\n",
       "    .dataframe tbody tr th:only-of-type {\n",
       "        vertical-align: middle;\n",
       "    }\n",
       "\n",
       "    .dataframe tbody tr th {\n",
       "        vertical-align: top;\n",
       "    }\n",
       "\n",
       "    .dataframe thead th {\n",
       "        text-align: right;\n",
       "    }\n",
       "</style>\n",
       "<table border=\"1\" class=\"dataframe\">\n",
       "  <thead>\n",
       "    <tr style=\"text-align: right;\">\n",
       "      <th></th>\n",
       "      <th>Total Players</th>\n",
       "    </tr>\n",
       "  </thead>\n",
       "  <tbody>\n",
       "    <tr>\n",
       "      <th>0</th>\n",
       "      <td>576</td>\n",
       "    </tr>\n",
       "  </tbody>\n",
       "</table>\n",
       "</div>"
      ],
      "text/plain": [
       "   Total Players\n",
       "0            576"
      ]
     },
     "metadata": {},
     "output_type": "display_data"
    }
   ],
   "source": [
    "playercount = (\n",
    "    rawdata.agg({'SN':'nunique'}) # Select columns from the data set, and apply aggregate functions\n",
    "    .to_frame().rename({'SN': 'Total Players'}).T # Improve the format of the output\n",
    ")\n",
    "display(playercount)"
   ]
  },
  {
   "cell_type": "markdown",
   "id": "776e9244",
   "metadata": {},
   "source": [
    "# Purchasing Analysis (Total)"
   ]
  },
  {
   "cell_type": "code",
   "execution_count": 217,
   "id": "08c866f0",
   "metadata": {},
   "outputs": [
    {
     "data": {
      "text/html": [
       "<style  type=\"text/css\" >\n",
       "</style><table id=\"T_36e70_\" ><thead>    <tr>        <th class=\"blank level0\" ></th>        <th class=\"col_heading level0 col0\" >Number of Purchases</th>        <th class=\"col_heading level0 col1\" >Average Price</th>        <th class=\"col_heading level0 col2\" >Number of Unique Items</th>        <th class=\"col_heading level0 col3\" >Total Revenue</th>    </tr></thead><tbody>\n",
       "                <tr>\n",
       "                        <th id=\"T_36e70_level0_row0\" class=\"row_heading level0 row0\" >0</th>\n",
       "                        <td id=\"T_36e70_row0_col0\" class=\"data row0 col0\" >780</td>\n",
       "                        <td id=\"T_36e70_row0_col1\" class=\"data row0 col1\" >$3.05</td>\n",
       "                        <td id=\"T_36e70_row0_col2\" class=\"data row0 col2\" >179</td>\n",
       "                        <td id=\"T_36e70_row0_col3\" class=\"data row0 col3\" >$2379.77</td>\n",
       "            </tr>\n",
       "    </tbody></table>"
      ],
      "text/plain": [
       "<pandas.io.formats.style.Styler at 0x1b183d4c1f0>"
      ]
     },
     "execution_count": 217,
     "metadata": {},
     "output_type": "execute_result"
    }
   ],
   "source": [
    "# Formatting looks great, (Purchasing Analysis (Total)), consider redoing this block using a list of values to return on price, and renaming, then dropping multiindex level 0\n",
    "purchasing_analysis = rawdata.copy()\n",
    "purchasing_analysis[\"Total Revenue\"] = purchasing_analysis[\"Price\"]\n",
    "purchasing_analysis = (\n",
    "    #Select columns from the data set, and apply aggregate functions\n",
    "    purchasing_analysis.agg({\"Purchase ID\":'count',\"Price\":'mean',\"Item ID\":'nunique',\"Total Revenue\":'sum'})\n",
    "    #improve the format of the output\n",
    "    .rename({\"Purchase ID\":\"Number of Purchases\",\"Price\":\"Average Price\",\"Item ID\":\"Number of Unique Items\"})\n",
    "    .to_frame().T\n",
    ")\n",
    "\n",
    "(purchasing_analysis.head().\n",
    " style.format({\"Number of Purchases\":int,\"Average Price\":\"${:.2f}\",\"Number of Unique Items\":int,\"Total Revenue\":'${:.2f}'})\n",
    ")"
   ]
  },
  {
   "cell_type": "markdown",
   "id": "ec2457de",
   "metadata": {},
   "source": [
    "# Gender Demographics"
   ]
  },
  {
   "cell_type": "code",
   "execution_count": 218,
   "id": "0650d00b",
   "metadata": {},
   "outputs": [
    {
     "data": {
      "text/html": [
       "<style  type=\"text/css\" >\n",
       "</style><table id=\"T_65784_\" ><thead>    <tr>        <th class=\"blank level0\" ></th>        <th class=\"col_heading level0 col0\" >Gender</th>        <th class=\"col_heading level0 col1\" >Percentage of Players</th>    </tr></thead><tbody>\n",
       "                <tr>\n",
       "                        <th id=\"T_65784_level0_row0\" class=\"row_heading level0 row0\" >Male</th>\n",
       "                        <td id=\"T_65784_row0_col0\" class=\"data row0 col0\" >484</td>\n",
       "                        <td id=\"T_65784_row0_col1\" class=\"data row0 col1\" >84.03%</td>\n",
       "            </tr>\n",
       "            <tr>\n",
       "                        <th id=\"T_65784_level0_row1\" class=\"row_heading level0 row1\" >Female</th>\n",
       "                        <td id=\"T_65784_row1_col0\" class=\"data row1 col0\" >81</td>\n",
       "                        <td id=\"T_65784_row1_col1\" class=\"data row1 col1\" >14.06%</td>\n",
       "            </tr>\n",
       "            <tr>\n",
       "                        <th id=\"T_65784_level0_row2\" class=\"row_heading level0 row2\" >Other / Non-Disclosed</th>\n",
       "                        <td id=\"T_65784_row2_col0\" class=\"data row2 col0\" >11</td>\n",
       "                        <td id=\"T_65784_row2_col1\" class=\"data row2 col1\" >1.91%</td>\n",
       "            </tr>\n",
       "    </tbody></table>"
      ],
      "text/plain": [
       "<pandas.io.formats.style.Styler at 0x1b183c4b1c0>"
      ]
     },
     "execution_count": 218,
     "metadata": {},
     "output_type": "execute_result"
    }
   ],
   "source": [
    "genderdemos = rawdata.copy().drop_duplicates(subset = \"SN\",ignore_index =True)\n",
    "genderdemos=genderdemos[\"Gender\"].value_counts().to_frame()\n",
    "genderdemos[\"Percentage of Players\"]= genderdemos[\"Gender\"]/sum(genderdemos[\"Gender\"])\n",
    "genderdemos.head().style.format({\"Percentage of Players\": \"{:.2%}\"})"
   ]
  },
  {
   "cell_type": "markdown",
   "id": "b061f128",
   "metadata": {},
   "source": [
    " # Purchasing Analysis (Gender)"
   ]
  },
  {
   "cell_type": "code",
   "execution_count": 219,
   "id": "65b824f1",
   "metadata": {},
   "outputs": [
    {
     "data": {
      "text/html": [
       "<div>\n",
       "<style scoped>\n",
       "    .dataframe tbody tr th:only-of-type {\n",
       "        vertical-align: middle;\n",
       "    }\n",
       "\n",
       "    .dataframe tbody tr th {\n",
       "        vertical-align: top;\n",
       "    }\n",
       "\n",
       "    .dataframe thead tr th {\n",
       "        text-align: left;\n",
       "    }\n",
       "\n",
       "    .dataframe thead tr:last-of-type th {\n",
       "        text-align: right;\n",
       "    }\n",
       "</style>\n",
       "<table border=\"1\" class=\"dataframe\">\n",
       "  <thead>\n",
       "    <tr>\n",
       "      <th></th>\n",
       "      <th>Purchase ID</th>\n",
       "      <th colspan=\"2\" halign=\"left\">Price</th>\n",
       "    </tr>\n",
       "    <tr>\n",
       "      <th></th>\n",
       "      <th>count</th>\n",
       "      <th>mean</th>\n",
       "      <th>sum</th>\n",
       "    </tr>\n",
       "    <tr>\n",
       "      <th>Gender</th>\n",
       "      <th></th>\n",
       "      <th></th>\n",
       "      <th></th>\n",
       "    </tr>\n",
       "  </thead>\n",
       "  <tbody>\n",
       "    <tr>\n",
       "      <th>Female</th>\n",
       "      <td>113</td>\n",
       "      <td>3.203009</td>\n",
       "      <td>361.94</td>\n",
       "    </tr>\n",
       "    <tr>\n",
       "      <th>Male</th>\n",
       "      <td>652</td>\n",
       "      <td>3.017853</td>\n",
       "      <td>1967.64</td>\n",
       "    </tr>\n",
       "    <tr>\n",
       "      <th>Other / Non-Disclosed</th>\n",
       "      <td>15</td>\n",
       "      <td>3.346000</td>\n",
       "      <td>50.19</td>\n",
       "    </tr>\n",
       "  </tbody>\n",
       "</table>\n",
       "</div>"
      ],
      "text/plain": [
       "                      Purchase ID     Price         \n",
       "                            count      mean      sum\n",
       "Gender                                              \n",
       "Female                        113  3.203009   361.94\n",
       "Male                          652  3.017853  1967.64\n",
       "Other / Non-Disclosed          15  3.346000    50.19"
      ]
     },
     "metadata": {},
     "output_type": "display_data"
    },
    {
     "data": {
      "text/plain": [
       "MultiIndex([('Purchase ID', 'count'),\n",
       "            (      'Price',  'mean'),\n",
       "            (      'Price',   'sum')],\n",
       "           )"
      ]
     },
     "execution_count": 219,
     "metadata": {},
     "output_type": "execute_result"
    }
   ],
   "source": [
    "genderpurchasing = rawdata.groupby(\"Gender\").agg({\"Purchase ID\":\"count\",\"Price\":[\"mean\",\"sum\"]})\n",
    "#genderpurchasing[\"Average Price\"] = rawdata.groupby(\"Gender\")[\"Price\"].mean().to_frame()\n",
    "#genderpurchasing[\"Total Sales\"] = rawdata.groupby(\"Gender\")[\"Price\"].sum().to_frame()\n",
    "#gendercustomermean = rawdata.groupby(\"SN\").agg({\"Gender\":'first','Price': 'sum'})\n",
    "#genderpurchasing[\"Average Per Person\"] = gendercustomermean.groupby(\"Gender\").mean()\n",
    "\n",
    "display(genderpurchasing)\n",
    "genderpurchasing.columns"
   ]
  },
  {
   "cell_type": "code",
   "execution_count": 220,
   "id": "060d6cfb",
   "metadata": {},
   "outputs": [],
   "source": [
    "# Age Demographics \n",
    "\n",
    "Need to format output"
   ]
  },
  {
   "cell_type": "code",
   "execution_count": 221,
   "id": "ecca0e66",
   "metadata": {},
   "outputs": [
    {
     "data": {
      "text/html": [
       "<div>\n",
       "<style scoped>\n",
       "    .dataframe tbody tr th:only-of-type {\n",
       "        vertical-align: middle;\n",
       "    }\n",
       "\n",
       "    .dataframe tbody tr th {\n",
       "        vertical-align: top;\n",
       "    }\n",
       "\n",
       "    .dataframe thead th {\n",
       "        text-align: right;\n",
       "    }\n",
       "</style>\n",
       "<table border=\"1\" class=\"dataframe\">\n",
       "  <thead>\n",
       "    <tr style=\"text-align: right;\">\n",
       "      <th></th>\n",
       "      <th>0</th>\n",
       "      <th>Percent of Players</th>\n",
       "    </tr>\n",
       "    <tr>\n",
       "      <th>Age</th>\n",
       "      <th></th>\n",
       "      <th></th>\n",
       "    </tr>\n",
       "  </thead>\n",
       "  <tbody>\n",
       "    <tr>\n",
       "      <th>[20, 24]</th>\n",
       "      <td>258</td>\n",
       "      <td>0.447917</td>\n",
       "    </tr>\n",
       "    <tr>\n",
       "      <th>[15, 19]</th>\n",
       "      <td>107</td>\n",
       "      <td>0.185764</td>\n",
       "    </tr>\n",
       "    <tr>\n",
       "      <th>[25, 29]</th>\n",
       "      <td>77</td>\n",
       "      <td>0.133681</td>\n",
       "    </tr>\n",
       "    <tr>\n",
       "      <th>[30, 34]</th>\n",
       "      <td>52</td>\n",
       "      <td>0.090278</td>\n",
       "    </tr>\n",
       "    <tr>\n",
       "      <th>[35, 39]</th>\n",
       "      <td>31</td>\n",
       "      <td>0.053819</td>\n",
       "    </tr>\n",
       "    <tr>\n",
       "      <th>[10, 14]</th>\n",
       "      <td>22</td>\n",
       "      <td>0.038194</td>\n",
       "    </tr>\n",
       "    <tr>\n",
       "      <th>[0, 9]</th>\n",
       "      <td>17</td>\n",
       "      <td>0.029514</td>\n",
       "    </tr>\n",
       "    <tr>\n",
       "      <th>[40, 200]</th>\n",
       "      <td>12</td>\n",
       "      <td>0.020833</td>\n",
       "    </tr>\n",
       "  </tbody>\n",
       "</table>\n",
       "</div>"
      ],
      "text/plain": [
       "             0  Percent of Players\n",
       "Age                               \n",
       "[20, 24]   258            0.447917\n",
       "[15, 19]   107            0.185764\n",
       "[25, 29]    77            0.133681\n",
       "[30, 34]    52            0.090278\n",
       "[35, 39]    31            0.053819\n",
       "[10, 14]    22            0.038194\n",
       "[0, 9]      17            0.029514\n",
       "[40, 200]   12            0.020833"
      ]
     },
     "metadata": {},
     "output_type": "display_data"
    }
   ],
   "source": [
    "agedata = rawdata.copy().drop_duplicates(subset = \"SN\",ignore_index =True)\n",
    "agebins = pd.IntervalIndex.from_tuples([(0,9),(10,14),(15,19),(20,24),(25,29),(30,34),(35,39),(40,200)],closed = \"both\")\n",
    "binned_ages_df = pd.cut(agedata[\"Age\"],agebins,ordered = True).to_frame()\n",
    "agedemographics =binned_ages_df.value_counts().to_frame()\n",
    "agedemographics[\"Percent of Players\"]=agedemographics.iloc[:,0]/sum(agedemographics.iloc[:,0])\n",
    "display(agedemographics)"
   ]
  },
  {
   "cell_type": "code",
   "execution_count": 222,
   "id": "2996e051",
   "metadata": {
    "tags": []
   },
   "outputs": [
    {
     "data": {
      "text/html": [
       "<div>\n",
       "<style scoped>\n",
       "    .dataframe tbody tr th:only-of-type {\n",
       "        vertical-align: middle;\n",
       "    }\n",
       "\n",
       "    .dataframe tbody tr th {\n",
       "        vertical-align: top;\n",
       "    }\n",
       "\n",
       "    .dataframe thead th {\n",
       "        text-align: right;\n",
       "    }\n",
       "</style>\n",
       "<table border=\"1\" class=\"dataframe\">\n",
       "  <thead>\n",
       "    <tr style=\"text-align: right;\">\n",
       "      <th></th>\n",
       "      <th>Purchase ID</th>\n",
       "      <th>Price</th>\n",
       "      <th>Total Purchase Value</th>\n",
       "      <th>Average Per Person</th>\n",
       "    </tr>\n",
       "    <tr>\n",
       "      <th>Age</th>\n",
       "      <th></th>\n",
       "      <th></th>\n",
       "      <th></th>\n",
       "      <th></th>\n",
       "    </tr>\n",
       "  </thead>\n",
       "  <tbody>\n",
       "    <tr>\n",
       "      <th>[0, 9]</th>\n",
       "      <td>23</td>\n",
       "      <td>3.353478</td>\n",
       "      <td>77.13</td>\n",
       "      <td>NaN</td>\n",
       "    </tr>\n",
       "    <tr>\n",
       "      <th>[10, 14]</th>\n",
       "      <td>28</td>\n",
       "      <td>2.956429</td>\n",
       "      <td>82.78</td>\n",
       "      <td>NaN</td>\n",
       "    </tr>\n",
       "    <tr>\n",
       "      <th>[15, 19]</th>\n",
       "      <td>136</td>\n",
       "      <td>3.035956</td>\n",
       "      <td>412.89</td>\n",
       "      <td>NaN</td>\n",
       "    </tr>\n",
       "    <tr>\n",
       "      <th>[20, 24]</th>\n",
       "      <td>365</td>\n",
       "      <td>3.052219</td>\n",
       "      <td>1114.06</td>\n",
       "      <td>NaN</td>\n",
       "    </tr>\n",
       "    <tr>\n",
       "      <th>[25, 29]</th>\n",
       "      <td>101</td>\n",
       "      <td>2.900990</td>\n",
       "      <td>293.00</td>\n",
       "      <td>NaN</td>\n",
       "    </tr>\n",
       "    <tr>\n",
       "      <th>[30, 34]</th>\n",
       "      <td>73</td>\n",
       "      <td>2.931507</td>\n",
       "      <td>214.00</td>\n",
       "      <td>NaN</td>\n",
       "    </tr>\n",
       "    <tr>\n",
       "      <th>[35, 39]</th>\n",
       "      <td>41</td>\n",
       "      <td>3.601707</td>\n",
       "      <td>147.67</td>\n",
       "      <td>NaN</td>\n",
       "    </tr>\n",
       "    <tr>\n",
       "      <th>[40, 200]</th>\n",
       "      <td>13</td>\n",
       "      <td>2.941538</td>\n",
       "      <td>38.24</td>\n",
       "      <td>NaN</td>\n",
       "    </tr>\n",
       "  </tbody>\n",
       "</table>\n",
       "</div>"
      ],
      "text/plain": [
       "           Purchase ID     Price  Total Purchase Value  Average Per Person\n",
       "Age                                                                       \n",
       "[0, 9]              23  3.353478                 77.13                 NaN\n",
       "[10, 14]            28  2.956429                 82.78                 NaN\n",
       "[15, 19]           136  3.035956                412.89                 NaN\n",
       "[20, 24]           365  3.052219               1114.06                 NaN\n",
       "[25, 29]           101  2.900990                293.00                 NaN\n",
       "[30, 34]            73  2.931507                214.00                 NaN\n",
       "[35, 39]            41  3.601707                147.67                 NaN\n",
       "[40, 200]           13  2.941538                 38.24                 NaN"
      ]
     },
     "execution_count": 222,
     "metadata": {},
     "output_type": "execute_result"
    }
   ],
   "source": [
    "# Purchasing Analysis (Age) Needs formatting and documentation, consider declaring variables to make the code easier to read, and spanning multiple rows with long lines\n",
    "age_group_stats = rawdata.copy()\n",
    "sliceframe = pd.cut(rawdata[\"Age\"],agebins,ordered = True)\n",
    "age_group_stats[\"Age\"] = sliceframe\n",
    "age_group_stats = age_group_stats.groupby(\"Age\").agg({\"Purchase ID\":'count',\"Price\":'mean',})\n",
    "age_group_stats[\"Total Purchase Value\"] = age_group_stats[\"Purchase ID\"] * age_group_stats[\"Price\"]\n",
    "age_group_stats[\"Average Per Person\"] = rawdata.groupby(\"SN\").agg({\"Age\":'first','Price': 'sum'}).groupby(\"Age\").mean()\n",
    "age_group_stats.head(10)\n"
   ]
  },
  {
   "cell_type": "markdown",
   "id": "8d9efe57",
   "metadata": {
    "tags": []
   },
   "source": [
    "# Top Spenders,need to format the output"
   ]
  },
  {
   "cell_type": "code",
   "execution_count": 223,
   "id": "43047b72",
   "metadata": {
    "tags": []
   },
   "outputs": [
    {
     "data": {
      "text/html": [
       "<div>\n",
       "<style scoped>\n",
       "    .dataframe tbody tr th:only-of-type {\n",
       "        vertical-align: middle;\n",
       "    }\n",
       "\n",
       "    .dataframe tbody tr th {\n",
       "        vertical-align: top;\n",
       "    }\n",
       "\n",
       "    .dataframe thead th {\n",
       "        text-align: right;\n",
       "    }\n",
       "</style>\n",
       "<table border=\"1\" class=\"dataframe\">\n",
       "  <thead>\n",
       "    <tr style=\"text-align: right;\">\n",
       "      <th></th>\n",
       "      <th>Purchase ID</th>\n",
       "      <th>Price</th>\n",
       "      <th>Total Purchase Value</th>\n",
       "    </tr>\n",
       "    <tr>\n",
       "      <th>SN</th>\n",
       "      <th></th>\n",
       "      <th></th>\n",
       "      <th></th>\n",
       "    </tr>\n",
       "  </thead>\n",
       "  <tbody>\n",
       "    <tr>\n",
       "      <th>Lisosia93</th>\n",
       "      <td>5</td>\n",
       "      <td>3.792000</td>\n",
       "      <td>18.96</td>\n",
       "    </tr>\n",
       "    <tr>\n",
       "      <th>Idastidru52</th>\n",
       "      <td>4</td>\n",
       "      <td>3.862500</td>\n",
       "      <td>15.45</td>\n",
       "    </tr>\n",
       "    <tr>\n",
       "      <th>Chamjask73</th>\n",
       "      <td>3</td>\n",
       "      <td>4.610000</td>\n",
       "      <td>13.83</td>\n",
       "    </tr>\n",
       "    <tr>\n",
       "      <th>Iral74</th>\n",
       "      <td>4</td>\n",
       "      <td>3.405000</td>\n",
       "      <td>13.62</td>\n",
       "    </tr>\n",
       "    <tr>\n",
       "      <th>Iskadarya95</th>\n",
       "      <td>3</td>\n",
       "      <td>4.366667</td>\n",
       "      <td>13.10</td>\n",
       "    </tr>\n",
       "  </tbody>\n",
       "</table>\n",
       "</div>"
      ],
      "text/plain": [
       "             Purchase ID     Price  Total Purchase Value\n",
       "SN                                                      \n",
       "Lisosia93              5  3.792000                 18.96\n",
       "Idastidru52            4  3.862500                 15.45\n",
       "Chamjask73             3  4.610000                 13.83\n",
       "Iral74                 4  3.405000                 13.62\n",
       "Iskadarya95            3  4.366667                 13.10"
      ]
     },
     "execution_count": 223,
     "metadata": {},
     "output_type": "execute_result"
    }
   ],
   "source": [
    "topspenders = rawdata.groupby(\"SN\").agg({\"Purchase ID\":'count',\"Price\":'mean'})\n",
    "topspenders[\"Total Purchase Value\"] = topspenders[\"Purchase ID\"]*topspenders[\"Price\"] \n",
    "topspenders_sorted = topspenders.sort_values('Total Purchase Value',ascending = False)\n",
    "topspenders_sorted.head()"
   ]
  },
  {
   "cell_type": "markdown",
   "id": "633ee464",
   "metadata": {},
   "source": [
    "# Most Popular Items need to format the output"
   ]
  },
  {
   "cell_type": "code",
   "execution_count": 224,
   "id": "7c6642a6",
   "metadata": {},
   "outputs": [
    {
     "data": {
      "text/html": [
       "<div>\n",
       "<style scoped>\n",
       "    .dataframe tbody tr th:only-of-type {\n",
       "        vertical-align: middle;\n",
       "    }\n",
       "\n",
       "    .dataframe tbody tr th {\n",
       "        vertical-align: top;\n",
       "    }\n",
       "\n",
       "    .dataframe thead th {\n",
       "        text-align: right;\n",
       "    }\n",
       "</style>\n",
       "<table border=\"1\" class=\"dataframe\">\n",
       "  <thead>\n",
       "    <tr style=\"text-align: right;\">\n",
       "      <th></th>\n",
       "      <th></th>\n",
       "      <th>Purchase ID</th>\n",
       "      <th>Price</th>\n",
       "      <th>Total Purchase Value</th>\n",
       "    </tr>\n",
       "    <tr>\n",
       "      <th>Item ID</th>\n",
       "      <th>Item Name</th>\n",
       "      <th></th>\n",
       "      <th></th>\n",
       "      <th></th>\n",
       "    </tr>\n",
       "  </thead>\n",
       "  <tbody>\n",
       "    <tr>\n",
       "      <th>92</th>\n",
       "      <th>Final Critic</th>\n",
       "      <td>13</td>\n",
       "      <td>4.614615</td>\n",
       "      <td>59.99</td>\n",
       "    </tr>\n",
       "    <tr>\n",
       "      <th>178</th>\n",
       "      <th>Oathbreaker, Last Hope of the Breaking Storm</th>\n",
       "      <td>12</td>\n",
       "      <td>4.230000</td>\n",
       "      <td>50.76</td>\n",
       "    </tr>\n",
       "    <tr>\n",
       "      <th>145</th>\n",
       "      <th>Fiery Glass Crusader</th>\n",
       "      <td>9</td>\n",
       "      <td>4.580000</td>\n",
       "      <td>41.22</td>\n",
       "    </tr>\n",
       "    <tr>\n",
       "      <th>132</th>\n",
       "      <th>Persuasion</th>\n",
       "      <td>9</td>\n",
       "      <td>3.221111</td>\n",
       "      <td>28.99</td>\n",
       "    </tr>\n",
       "    <tr>\n",
       "      <th>108</th>\n",
       "      <th>Extraction, Quickblade Of Trembling Hands</th>\n",
       "      <td>9</td>\n",
       "      <td>3.530000</td>\n",
       "      <td>31.77</td>\n",
       "    </tr>\n",
       "  </tbody>\n",
       "</table>\n",
       "</div>"
      ],
      "text/plain": [
       "                                                      Purchase ID     Price  \\\n",
       "Item ID Item Name                                                             \n",
       "92      Final Critic                                           13  4.614615   \n",
       "178     Oathbreaker, Last Hope of the Breaking Storm           12  4.230000   \n",
       "145     Fiery Glass Crusader                                    9  4.580000   \n",
       "132     Persuasion                                              9  3.221111   \n",
       "108     Extraction, Quickblade Of Trembling Hands               9  3.530000   \n",
       "\n",
       "                                                      Total Purchase Value  \n",
       "Item ID Item Name                                                           \n",
       "92      Final Critic                                                 59.99  \n",
       "178     Oathbreaker, Last Hope of the Breaking Storm                 50.76  \n",
       "145     Fiery Glass Crusader                                         41.22  \n",
       "132     Persuasion                                                   28.99  \n",
       "108     Extraction, Quickblade Of Trembling Hands                    31.77  "
      ]
     },
     "execution_count": 224,
     "metadata": {},
     "output_type": "execute_result"
    }
   ],
   "source": [
    "popularitems = rawdata.groupby([\"Item ID\",\"Item Name\"]).agg({\"Purchase ID\":'count',\"Price\":'mean'})\n",
    "popularitems[\"Total Purchase Value\"] = popularitems[\"Purchase ID\"] * popularitems[\"Price\"]\n",
    "popularitems_sorted = popularitems.sort_values(\"Purchase ID\",ascending = False)\n",
    "popularitems_sorted.head()"
   ]
  },
  {
   "cell_type": "markdown",
   "id": "b4c0130f",
   "metadata": {},
   "source": [
    "# Most Profitable Items "
   ]
  },
  {
   "cell_type": "code",
   "execution_count": 225,
   "id": "6bd14a0b",
   "metadata": {},
   "outputs": [
    {
     "data": {
      "text/html": [
       "<style  type=\"text/css\" >\n",
       "</style><table id=\"T_9019b_\" ><thead>    <tr>        <th class=\"blank\" ></th>        <th class=\"blank level0\" ></th>        <th class=\"col_heading level0 col0\" >Purchase ID</th>        <th class=\"col_heading level0 col1\" >Price</th>        <th class=\"col_heading level0 col2\" >Total Purchase Value</th>    </tr>    <tr>        <th class=\"index_name level0\" >Item ID</th>        <th class=\"index_name level1\" >Item Name</th>        <th class=\"blank\" ></th>        <th class=\"blank\" ></th>        <th class=\"blank\" ></th>    </tr></thead><tbody>\n",
       "                <tr>\n",
       "                        <th id=\"T_9019b_level0_row0\" class=\"row_heading level0 row0\" >92</th>\n",
       "                        <th id=\"T_9019b_level1_row0\" class=\"row_heading level1 row0\" >Final Critic</th>\n",
       "                        <td id=\"T_9019b_row0_col0\" class=\"data row0 col0\" >13</td>\n",
       "                        <td id=\"T_9019b_row0_col1\" class=\"data row0 col1\" >$4.61</td>\n",
       "                        <td id=\"T_9019b_row0_col2\" class=\"data row0 col2\" >$59.99</td>\n",
       "            </tr>\n",
       "            <tr>\n",
       "                        <th id=\"T_9019b_level0_row1\" class=\"row_heading level0 row1\" >178</th>\n",
       "                        <th id=\"T_9019b_level1_row1\" class=\"row_heading level1 row1\" >Oathbreaker, Last Hope of the Breaking Storm</th>\n",
       "                        <td id=\"T_9019b_row1_col0\" class=\"data row1 col0\" >12</td>\n",
       "                        <td id=\"T_9019b_row1_col1\" class=\"data row1 col1\" >$4.23</td>\n",
       "                        <td id=\"T_9019b_row1_col2\" class=\"data row1 col2\" >$50.76</td>\n",
       "            </tr>\n",
       "            <tr>\n",
       "                        <th id=\"T_9019b_level0_row2\" class=\"row_heading level0 row2\" >82</th>\n",
       "                        <th id=\"T_9019b_level1_row2\" class=\"row_heading level1 row2\" >Nirvana</th>\n",
       "                        <td id=\"T_9019b_row2_col0\" class=\"data row2 col0\" >9</td>\n",
       "                        <td id=\"T_9019b_row2_col1\" class=\"data row2 col1\" >$4.90</td>\n",
       "                        <td id=\"T_9019b_row2_col2\" class=\"data row2 col2\" >$44.10</td>\n",
       "            </tr>\n",
       "            <tr>\n",
       "                        <th id=\"T_9019b_level0_row3\" class=\"row_heading level0 row3\" >145</th>\n",
       "                        <th id=\"T_9019b_level1_row3\" class=\"row_heading level1 row3\" >Fiery Glass Crusader</th>\n",
       "                        <td id=\"T_9019b_row3_col0\" class=\"data row3 col0\" >9</td>\n",
       "                        <td id=\"T_9019b_row3_col1\" class=\"data row3 col1\" >$4.58</td>\n",
       "                        <td id=\"T_9019b_row3_col2\" class=\"data row3 col2\" >$41.22</td>\n",
       "            </tr>\n",
       "            <tr>\n",
       "                        <th id=\"T_9019b_level0_row4\" class=\"row_heading level0 row4\" >103</th>\n",
       "                        <th id=\"T_9019b_level1_row4\" class=\"row_heading level1 row4\" >Singed Scalpel</th>\n",
       "                        <td id=\"T_9019b_row4_col0\" class=\"data row4 col0\" >8</td>\n",
       "                        <td id=\"T_9019b_row4_col1\" class=\"data row4 col1\" >$4.35</td>\n",
       "                        <td id=\"T_9019b_row4_col2\" class=\"data row4 col2\" >$34.80</td>\n",
       "            </tr>\n",
       "    </tbody></table>"
      ],
      "text/plain": [
       "<pandas.io.formats.style.Styler at 0x1b183c26580>"
      ]
     },
     "execution_count": 225,
     "metadata": {},
     "output_type": "execute_result"
    }
   ],
   "source": [
    "profitable_items = (\n",
    "    popularitems.sort_values(\"Total Purchase Value\",ascending = False)\n",
    "    .rename({\"Purchase ID\":\"Purchase Count\"})\n",
    ")\n",
    "profitable_items.head().style.format({\"Price\":\"${:.2f}\",\"Total Purchase Value\":\"${:.2f}\"})"
   ]
  }
 ],
 "metadata": {
  "kernelspec": {
   "display_name": "Python 3",
   "language": "python",
   "name": "python3"
  },
  "language_info": {
   "codemirror_mode": {
    "name": "ipython",
    "version": 3
   },
   "file_extension": ".py",
   "mimetype": "text/x-python",
   "name": "python",
   "nbconvert_exporter": "python",
   "pygments_lexer": "ipython3",
   "version": "3.8.8"
  }
 },
 "nbformat": 4,
 "nbformat_minor": 5
}
