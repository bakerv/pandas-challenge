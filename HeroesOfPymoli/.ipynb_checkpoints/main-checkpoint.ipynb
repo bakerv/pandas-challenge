{
 "cells": [
  {
   "cell_type": "code",
   "execution_count": 1,
   "id": "5e7378df",
   "metadata": {},
   "outputs": [],
   "source": [
    "#Import dependencies\n",
    "import pandas as pd\n",
    "\n",
    "#Read in the csv file\n",
    "datapath = \"Resources/purchase_data.csv\"\n",
    "rawdata = pd.read_csv(datapath)\n",
    "\n"
   ]
  },
  {
   "cell_type": "markdown",
   "id": "3b971b3e",
   "metadata": {},
   "source": [
    "### purchase_data.CSV Data Sample"
   ]
  },
  {
   "cell_type": "code",
   "execution_count": 2,
   "id": "6d84eccc",
   "metadata": {},
   "outputs": [
    {
     "data": {
      "text/html": [
       "<div>\n",
       "<style scoped>\n",
       "    .dataframe tbody tr th:only-of-type {\n",
       "        vertical-align: middle;\n",
       "    }\n",
       "\n",
       "    .dataframe tbody tr th {\n",
       "        vertical-align: top;\n",
       "    }\n",
       "\n",
       "    .dataframe thead th {\n",
       "        text-align: right;\n",
       "    }\n",
       "</style>\n",
       "<table border=\"1\" class=\"dataframe\">\n",
       "  <thead>\n",
       "    <tr style=\"text-align: right;\">\n",
       "      <th></th>\n",
       "      <th>Purchase ID</th>\n",
       "      <th>SN</th>\n",
       "      <th>Age</th>\n",
       "      <th>Gender</th>\n",
       "      <th>Item ID</th>\n",
       "      <th>Item Name</th>\n",
       "      <th>Price</th>\n",
       "    </tr>\n",
       "  </thead>\n",
       "  <tbody>\n",
       "    <tr>\n",
       "      <th>0</th>\n",
       "      <td>0</td>\n",
       "      <td>Lisim78</td>\n",
       "      <td>20</td>\n",
       "      <td>Male</td>\n",
       "      <td>108</td>\n",
       "      <td>Extraction, Quickblade Of Trembling Hands</td>\n",
       "      <td>3.53</td>\n",
       "    </tr>\n",
       "    <tr>\n",
       "      <th>1</th>\n",
       "      <td>1</td>\n",
       "      <td>Lisovynya38</td>\n",
       "      <td>40</td>\n",
       "      <td>Male</td>\n",
       "      <td>143</td>\n",
       "      <td>Frenzied Scimitar</td>\n",
       "      <td>1.56</td>\n",
       "    </tr>\n",
       "    <tr>\n",
       "      <th>2</th>\n",
       "      <td>2</td>\n",
       "      <td>Ithergue48</td>\n",
       "      <td>24</td>\n",
       "      <td>Male</td>\n",
       "      <td>92</td>\n",
       "      <td>Final Critic</td>\n",
       "      <td>4.88</td>\n",
       "    </tr>\n",
       "    <tr>\n",
       "      <th>3</th>\n",
       "      <td>3</td>\n",
       "      <td>Chamassasya86</td>\n",
       "      <td>24</td>\n",
       "      <td>Male</td>\n",
       "      <td>100</td>\n",
       "      <td>Blindscythe</td>\n",
       "      <td>3.27</td>\n",
       "    </tr>\n",
       "    <tr>\n",
       "      <th>4</th>\n",
       "      <td>4</td>\n",
       "      <td>Iskosia90</td>\n",
       "      <td>23</td>\n",
       "      <td>Male</td>\n",
       "      <td>131</td>\n",
       "      <td>Fury</td>\n",
       "      <td>1.44</td>\n",
       "    </tr>\n",
       "  </tbody>\n",
       "</table>\n",
       "</div>"
      ],
      "text/plain": [
       "   Purchase ID             SN  Age Gender  Item ID  \\\n",
       "0            0        Lisim78   20   Male      108   \n",
       "1            1    Lisovynya38   40   Male      143   \n",
       "2            2     Ithergue48   24   Male       92   \n",
       "3            3  Chamassasya86   24   Male      100   \n",
       "4            4      Iskosia90   23   Male      131   \n",
       "\n",
       "                                   Item Name  Price  \n",
       "0  Extraction, Quickblade Of Trembling Hands   3.53  \n",
       "1                          Frenzied Scimitar   1.56  \n",
       "2                               Final Critic   4.88  \n",
       "3                                Blindscythe   3.27  \n",
       "4                                       Fury   1.44  "
      ]
     },
     "execution_count": 2,
     "metadata": {},
     "output_type": "execute_result"
    }
   ],
   "source": [
    "#Display data sample\n",
    "rawdata.head()"
   ]
  },
  {
   "cell_type": "markdown",
   "id": "71df7362",
   "metadata": {},
   "source": [
    "# Player Count\n",
    "This cell uses the .agg() function to return the number of unique values from a single column of the data set"
   ]
  },
  {
   "cell_type": "code",
   "execution_count": 3,
   "id": "478a7fbe",
   "metadata": {},
   "outputs": [
    {
     "data": {
      "text/html": [
       "<div>\n",
       "<style scoped>\n",
       "    .dataframe tbody tr th:only-of-type {\n",
       "        vertical-align: middle;\n",
       "    }\n",
       "\n",
       "    .dataframe tbody tr th {\n",
       "        vertical-align: top;\n",
       "    }\n",
       "\n",
       "    .dataframe thead th {\n",
       "        text-align: right;\n",
       "    }\n",
       "</style>\n",
       "<table border=\"1\" class=\"dataframe\">\n",
       "  <thead>\n",
       "    <tr style=\"text-align: right;\">\n",
       "      <th></th>\n",
       "      <th>Total Players</th>\n",
       "    </tr>\n",
       "  </thead>\n",
       "  <tbody>\n",
       "    <tr>\n",
       "      <th>0</th>\n",
       "      <td>576</td>\n",
       "    </tr>\n",
       "  </tbody>\n",
       "</table>\n",
       "</div>"
      ],
      "text/plain": [
       "   Total Players\n",
       "0            576"
      ]
     },
     "metadata": {},
     "output_type": "display_data"
    }
   ],
   "source": [
    "playercount = (\n",
    "    rawdata.agg({'SN':'nunique'}) # Select columns from the data set, and apply aggregate functions\n",
    "    .to_frame().rename({'SN': 'Total Players'}).T # Improve the format of the output\n",
    ")\n",
    "display(playercount)"
   ]
  },
  {
   "cell_type": "markdown",
   "id": "2b704619",
   "metadata": {},
   "source": [
    "# Purchasing Analysis (Total)"
   ]
  },
  {
   "cell_type": "code",
   "execution_count": 4,
   "id": "58906ed0",
   "metadata": {},
   "outputs": [
    {
     "data": {
      "text/html": [
       "<style  type=\"text/css\" >\n",
       "</style><table id=\"T_3861f_\" ><thead>    <tr>        <th class=\"blank level0\" ></th>        <th class=\"col_heading level0 col0\" >Number of Purchases</th>        <th class=\"col_heading level0 col1\" >Average Price</th>        <th class=\"col_heading level0 col2\" >Number of Unique Items</th>        <th class=\"col_heading level0 col3\" >Total Revenue</th>    </tr></thead><tbody>\n",
       "                <tr>\n",
       "                        <th id=\"T_3861f_level0_row0\" class=\"row_heading level0 row0\" >0</th>\n",
       "                        <td id=\"T_3861f_row0_col0\" class=\"data row0 col0\" >780</td>\n",
       "                        <td id=\"T_3861f_row0_col1\" class=\"data row0 col1\" >$3.05</td>\n",
       "                        <td id=\"T_3861f_row0_col2\" class=\"data row0 col2\" >179</td>\n",
       "                        <td id=\"T_3861f_row0_col3\" class=\"data row0 col3\" >$2379.77</td>\n",
       "            </tr>\n",
       "    </tbody></table>"
      ],
      "text/plain": [
       "<pandas.io.formats.style.Styler at 0x22111fd1d30>"
      ]
     },
     "execution_count": 4,
     "metadata": {},
     "output_type": "execute_result"
    }
   ],
   "source": [
    "# Formatting looks great, (Purchasing Analysis (Total)), consider redoing this block using a list of values to return on price, and renaming, then dropping multiindex level 0\n",
    "purchasing_analysis = rawdata.copy()\n",
    "purchasing_analysis[\"Total Revenue\"] = purchasing_analysis[\"Price\"]\n",
    "purchasing_analysis = (\n",
    "    #Select columns from the data set, and apply aggregate functions\n",
    "    purchasing_analysis.agg({\"Purchase ID\":'count',\"Price\":'mean',\"Item ID\":'nunique',\"Total Revenue\":'sum'})\n",
    "    #improve the format of the output\n",
    "    .rename({\"Purchase ID\":\"Number of Purchases\",\"Price\":\"Average Price\",\"Item ID\":\"Number of Unique Items\"})\n",
    "    .to_frame().T\n",
    ")\n",
    "\n",
    "(purchasing_analysis.head().\n",
    " style.format({\"Number of Purchases\":int,\"Average Price\":\"${:.2f}\",\"Number of Unique Items\":int,\"Total Revenue\":'${:.2f}'})\n",
    ")"
   ]
  },
  {
   "cell_type": "markdown",
   "id": "3da7daf0",
   "metadata": {},
   "source": [
    "# Gender Demographics"
   ]
  },
  {
   "cell_type": "code",
   "execution_count": 5,
   "id": "c789b83d",
   "metadata": {},
   "outputs": [
    {
     "data": {
      "text/html": [
       "<style  type=\"text/css\" >\n",
       "</style><table id=\"T_6a51e_\" ><thead>    <tr>        <th class=\"blank level0\" ></th>        <th class=\"col_heading level0 col0\" >Gender</th>        <th class=\"col_heading level0 col1\" >Percentage of Players</th>    </tr></thead><tbody>\n",
       "                <tr>\n",
       "                        <th id=\"T_6a51e_level0_row0\" class=\"row_heading level0 row0\" >Male</th>\n",
       "                        <td id=\"T_6a51e_row0_col0\" class=\"data row0 col0\" >484</td>\n",
       "                        <td id=\"T_6a51e_row0_col1\" class=\"data row0 col1\" >84.03%</td>\n",
       "            </tr>\n",
       "            <tr>\n",
       "                        <th id=\"T_6a51e_level0_row1\" class=\"row_heading level0 row1\" >Female</th>\n",
       "                        <td id=\"T_6a51e_row1_col0\" class=\"data row1 col0\" >81</td>\n",
       "                        <td id=\"T_6a51e_row1_col1\" class=\"data row1 col1\" >14.06%</td>\n",
       "            </tr>\n",
       "            <tr>\n",
       "                        <th id=\"T_6a51e_level0_row2\" class=\"row_heading level0 row2\" >Other / Non-Disclosed</th>\n",
       "                        <td id=\"T_6a51e_row2_col0\" class=\"data row2 col0\" >11</td>\n",
       "                        <td id=\"T_6a51e_row2_col1\" class=\"data row2 col1\" >1.91%</td>\n",
       "            </tr>\n",
       "    </tbody></table>"
      ],
      "text/plain": [
       "<pandas.io.formats.style.Styler at 0x22111f73e50>"
      ]
     },
     "execution_count": 5,
     "metadata": {},
     "output_type": "execute_result"
    }
   ],
   "source": [
    "genderdemos = rawdata.copy().drop_duplicates(subset = \"SN\",ignore_index =True)\n",
    "genderdemos=genderdemos[\"Gender\"].value_counts().to_frame()\n",
    "genderdemos[\"Percentage of Players\"]= genderdemos[\"Gender\"]/sum(genderdemos[\"Gender\"])\n",
    "genderdemos.head().style.format({\"Percentage of Players\": \"{:.2%}\"})"
   ]
  },
  {
   "cell_type": "markdown",
   "id": "d7954c8b",
   "metadata": {},
   "source": [
    " # Purchasing Analysis (Gender)"
   ]
  },
  {
   "cell_type": "code",
   "execution_count": 17,
   "id": "ba427fe0",
   "metadata": {},
   "outputs": [
    {
     "data": {
      "text/html": [
       "<style  type=\"text/css\" >\n",
       "</style><table id=\"T_66738_\" ><thead>    <tr>        <th class=\"blank level0\" ></th>        <th class=\"col_heading level0 col0\" >Total Purchases</th>        <th class=\"col_heading level0 col1\" >Average Price</th>        <th class=\"col_heading level0 col2\" >Total Revenue</th>        <th class=\"col_heading level0 col3\" >Average Per Person</th>    </tr>    <tr>        <th class=\"index_name level0\" >Gender</th>        <th class=\"blank\" ></th>        <th class=\"blank\" ></th>        <th class=\"blank\" ></th>        <th class=\"blank\" ></th>    </tr></thead><tbody>\n",
       "                <tr>\n",
       "                        <th id=\"T_66738_level0_row0\" class=\"row_heading level0 row0\" >Female</th>\n",
       "                        <td id=\"T_66738_row0_col0\" class=\"data row0 col0\" >113</td>\n",
       "                        <td id=\"T_66738_row0_col1\" class=\"data row0 col1\" >$3.20</td>\n",
       "                        <td id=\"T_66738_row0_col2\" class=\"data row0 col2\" >$361.94</td>\n",
       "                        <td id=\"T_66738_row0_col3\" class=\"data row0 col3\" >$4.47</td>\n",
       "            </tr>\n",
       "            <tr>\n",
       "                        <th id=\"T_66738_level0_row1\" class=\"row_heading level0 row1\" >Male</th>\n",
       "                        <td id=\"T_66738_row1_col0\" class=\"data row1 col0\" >652</td>\n",
       "                        <td id=\"T_66738_row1_col1\" class=\"data row1 col1\" >$3.02</td>\n",
       "                        <td id=\"T_66738_row1_col2\" class=\"data row1 col2\" >$1967.64</td>\n",
       "                        <td id=\"T_66738_row1_col3\" class=\"data row1 col3\" >$4.07</td>\n",
       "            </tr>\n",
       "            <tr>\n",
       "                        <th id=\"T_66738_level0_row2\" class=\"row_heading level0 row2\" >Other / Non-Disclosed</th>\n",
       "                        <td id=\"T_66738_row2_col0\" class=\"data row2 col0\" >15</td>\n",
       "                        <td id=\"T_66738_row2_col1\" class=\"data row2 col1\" >$3.35</td>\n",
       "                        <td id=\"T_66738_row2_col2\" class=\"data row2 col2\" >$50.19</td>\n",
       "                        <td id=\"T_66738_row2_col3\" class=\"data row2 col3\" >$4.56</td>\n",
       "            </tr>\n",
       "    </tbody></table>"
      ],
      "text/plain": [
       "<pandas.io.formats.style.Styler at 0x22113115c70>"
      ]
     },
     "execution_count": 17,
     "metadata": {},
     "output_type": "execute_result"
    }
   ],
   "source": [
    "genderpurchasing =(\n",
    "    rawdata.groupby(\"Gender\").agg({\"Purchase ID\":\"count\",\"Price\":[\"mean\",\"sum\"]})\n",
    "    .droplevel(0,1)\n",
    "    .rename(columns ={\"count\":\"Total Purchases\",\"mean\":\"Average Price\",\"sum\":\"Total Revenue\"})\n",
    ")\n",
    "genderpurchasing[\"Average Per Person\"] = rawdata.groupby(\"SN\").agg({\"Gender\":'first','Price': 'sum'}).groupby(\"Gender\").mean()\n",
    "\n",
    "genderpurchasing.head().style.format({\"Average Price\":'${:.2f}',\"Total Revenue\":\"${:.2f}\",\"Average Per Person\":\"${:.2f}\"})"
   ]
  },
  {
   "cell_type": "markdown",
   "id": "cad1e750",
   "metadata": {},
   "source": [
    "# Age Demographics "
   ]
  },
  {
   "cell_type": "code",
   "execution_count": 18,
   "id": "bb1e496d",
   "metadata": {},
   "outputs": [
    {
     "data": {
      "text/html": [
       "<div>\n",
       "<style scoped>\n",
       "    .dataframe tbody tr th:only-of-type {\n",
       "        vertical-align: middle;\n",
       "    }\n",
       "\n",
       "    .dataframe tbody tr th {\n",
       "        vertical-align: top;\n",
       "    }\n",
       "\n",
       "    .dataframe thead th {\n",
       "        text-align: right;\n",
       "    }\n",
       "</style>\n",
       "<table border=\"1\" class=\"dataframe\">\n",
       "  <thead>\n",
       "    <tr style=\"text-align: right;\">\n",
       "      <th></th>\n",
       "      <th>0</th>\n",
       "      <th>Percent of Players</th>\n",
       "    </tr>\n",
       "    <tr>\n",
       "      <th>Age</th>\n",
       "      <th></th>\n",
       "      <th></th>\n",
       "    </tr>\n",
       "  </thead>\n",
       "  <tbody>\n",
       "    <tr>\n",
       "      <th>[20, 24]</th>\n",
       "      <td>258</td>\n",
       "      <td>0.447917</td>\n",
       "    </tr>\n",
       "    <tr>\n",
       "      <th>[15, 19]</th>\n",
       "      <td>107</td>\n",
       "      <td>0.185764</td>\n",
       "    </tr>\n",
       "    <tr>\n",
       "      <th>[25, 29]</th>\n",
       "      <td>77</td>\n",
       "      <td>0.133681</td>\n",
       "    </tr>\n",
       "    <tr>\n",
       "      <th>[30, 34]</th>\n",
       "      <td>52</td>\n",
       "      <td>0.090278</td>\n",
       "    </tr>\n",
       "    <tr>\n",
       "      <th>[35, 39]</th>\n",
       "      <td>31</td>\n",
       "      <td>0.053819</td>\n",
       "    </tr>\n",
       "    <tr>\n",
       "      <th>[10, 14]</th>\n",
       "      <td>22</td>\n",
       "      <td>0.038194</td>\n",
       "    </tr>\n",
       "    <tr>\n",
       "      <th>[0, 9]</th>\n",
       "      <td>17</td>\n",
       "      <td>0.029514</td>\n",
       "    </tr>\n",
       "    <tr>\n",
       "      <th>[40, 200]</th>\n",
       "      <td>12</td>\n",
       "      <td>0.020833</td>\n",
       "    </tr>\n",
       "  </tbody>\n",
       "</table>\n",
       "</div>"
      ],
      "text/plain": [
       "             0  Percent of Players\n",
       "Age                               \n",
       "[20, 24]   258            0.447917\n",
       "[15, 19]   107            0.185764\n",
       "[25, 29]    77            0.133681\n",
       "[30, 34]    52            0.090278\n",
       "[35, 39]    31            0.053819\n",
       "[10, 14]    22            0.038194\n",
       "[0, 9]      17            0.029514\n",
       "[40, 200]   12            0.020833"
      ]
     },
     "metadata": {},
     "output_type": "display_data"
    }
   ],
   "source": [
    "agedata = rawdata.copy().drop_duplicates(subset = \"SN\",ignore_index =True)\n",
    "agebins = pd.IntervalIndex.from_tuples([(0,9),(10,14),(15,19),(20,24),(25,29),(30,34),(35,39),(40,200)],closed = \"both\")\n",
    "binned_ages_df = pd.cut(agedata[\"Age\"],agebins,ordered = True).to_frame()\n",
    "agedemographics =binned_ages_df.value_counts().to_frame()\n",
    "agedemographics[\"Percent of Players\"]=agedemographics.iloc[:,0]/sum(agedemographics.iloc[:,0])\n",
    "display(agedemographics)"
   ]
  },
  {
   "cell_type": "code",
   "execution_count": 105,
   "id": "c4323b72",
   "metadata": {
    "tags": []
   },
   "outputs": [
    {
     "data": {
      "text/html": [
       "<div>\n",
       "<style scoped>\n",
       "    .dataframe tbody tr th:only-of-type {\n",
       "        vertical-align: middle;\n",
       "    }\n",
       "\n",
       "    .dataframe tbody tr th {\n",
       "        vertical-align: top;\n",
       "    }\n",
       "\n",
       "    .dataframe thead th {\n",
       "        text-align: right;\n",
       "    }\n",
       "</style>\n",
       "<table border=\"1\" class=\"dataframe\">\n",
       "  <thead>\n",
       "    <tr style=\"text-align: right;\">\n",
       "      <th></th>\n",
       "      <th>Purchase ID</th>\n",
       "      <th>Price</th>\n",
       "      <th>Total Purchase Value</th>\n",
       "      <th>Average Per Person</th>\n",
       "    </tr>\n",
       "    <tr>\n",
       "      <th>Age</th>\n",
       "      <th></th>\n",
       "      <th></th>\n",
       "      <th></th>\n",
       "      <th></th>\n",
       "    </tr>\n",
       "  </thead>\n",
       "  <tbody>\n",
       "    <tr>\n",
       "      <th>[0, 9]</th>\n",
       "      <td>23</td>\n",
       "      <td>3.353478</td>\n",
       "      <td>77.13</td>\n",
       "      <td>NaN</td>\n",
       "    </tr>\n",
       "    <tr>\n",
       "      <th>[10, 14]</th>\n",
       "      <td>28</td>\n",
       "      <td>2.956429</td>\n",
       "      <td>82.78</td>\n",
       "      <td>NaN</td>\n",
       "    </tr>\n",
       "    <tr>\n",
       "      <th>[15, 19]</th>\n",
       "      <td>136</td>\n",
       "      <td>3.035956</td>\n",
       "      <td>412.89</td>\n",
       "      <td>NaN</td>\n",
       "    </tr>\n",
       "    <tr>\n",
       "      <th>[20, 24]</th>\n",
       "      <td>365</td>\n",
       "      <td>3.052219</td>\n",
       "      <td>1114.06</td>\n",
       "      <td>NaN</td>\n",
       "    </tr>\n",
       "    <tr>\n",
       "      <th>[25, 29]</th>\n",
       "      <td>101</td>\n",
       "      <td>2.900990</td>\n",
       "      <td>293.00</td>\n",
       "      <td>NaN</td>\n",
       "    </tr>\n",
       "    <tr>\n",
       "      <th>[30, 34]</th>\n",
       "      <td>73</td>\n",
       "      <td>2.931507</td>\n",
       "      <td>214.00</td>\n",
       "      <td>NaN</td>\n",
       "    </tr>\n",
       "    <tr>\n",
       "      <th>[35, 39]</th>\n",
       "      <td>41</td>\n",
       "      <td>3.601707</td>\n",
       "      <td>147.67</td>\n",
       "      <td>NaN</td>\n",
       "    </tr>\n",
       "    <tr>\n",
       "      <th>[40, 200]</th>\n",
       "      <td>13</td>\n",
       "      <td>2.941538</td>\n",
       "      <td>38.24</td>\n",
       "      <td>NaN</td>\n",
       "    </tr>\n",
       "  </tbody>\n",
       "</table>\n",
       "</div>"
      ],
      "text/plain": [
       "           Purchase ID     Price  Total Purchase Value  Average Per Person\n",
       "Age                                                                       \n",
       "[0, 9]              23  3.353478                 77.13                 NaN\n",
       "[10, 14]            28  2.956429                 82.78                 NaN\n",
       "[15, 19]           136  3.035956                412.89                 NaN\n",
       "[20, 24]           365  3.052219               1114.06                 NaN\n",
       "[25, 29]           101  2.900990                293.00                 NaN\n",
       "[30, 34]            73  2.931507                214.00                 NaN\n",
       "[35, 39]            41  3.601707                147.67                 NaN\n",
       "[40, 200]           13  2.941538                 38.24                 NaN"
      ]
     },
     "execution_count": 105,
     "metadata": {},
     "output_type": "execute_result"
    }
   ],
   "source": [
    "# Purchasing Analysis (Age) Needs formatting and documentation, consider declaring variables to make the code easier to read, and spanning multiple rows with long lines\n",
    "age_group_stats = rawdata.copy()\n",
    "sliceframe = pd.cut(rawdata[\"Age\"],agebins,ordered = True)\n",
    "age_group_stats[\"Age\"] = sliceframe\n",
    "age_group_stats = age_group_stats.groupby(\"Age\").agg({\"Purchase ID\":'count',\"Price\":'mean',})\n",
    "age_group_stats[\"Total Purchase Value\"] = age_group_stats[\"Purchase ID\"] * age_group_stats[\"Price\"]\n",
    "age_group_stats[\"Average Per Person\"] = rawdata.groupby(\"SN\").agg({\"Age\":'first','Price': 'sum'}).groupby(\"Age\").mean()\n",
    "age_group_stats.head(10)\n"
   ]
  },
  {
   "cell_type": "markdown",
   "id": "b2367aee",
   "metadata": {
    "tags": []
   },
   "source": [
    "# Top Spenders"
   ]
  },
  {
   "cell_type": "code",
   "execution_count": 92,
   "id": "a15d8e85",
   "metadata": {
    "tags": []
   },
   "outputs": [
    {
     "data": {
      "text/html": [
       "<style  type=\"text/css\" >\n",
       "</style><table id=\"T_5f611_\" ><thead>    <tr>        <th class=\"blank level0\" ></th>        <th class=\"col_heading level0 col0\" >Purchase Count</th>        <th class=\"col_heading level0 col1\" >Price</th>        <th class=\"col_heading level0 col2\" >Total Revenue</th>    </tr>    <tr>        <th class=\"index_name level0\" >SN</th>        <th class=\"blank\" ></th>        <th class=\"blank\" ></th>        <th class=\"blank\" ></th>    </tr></thead><tbody>\n",
       "                <tr>\n",
       "                        <th id=\"T_5f611_level0_row0\" class=\"row_heading level0 row0\" >Lisosia93</th>\n",
       "                        <td id=\"T_5f611_row0_col0\" class=\"data row0 col0\" >5</td>\n",
       "                        <td id=\"T_5f611_row0_col1\" class=\"data row0 col1\" >$3.79</td>\n",
       "                        <td id=\"T_5f611_row0_col2\" class=\"data row0 col2\" >$18.96</td>\n",
       "            </tr>\n",
       "            <tr>\n",
       "                        <th id=\"T_5f611_level0_row1\" class=\"row_heading level0 row1\" >Idastidru52</th>\n",
       "                        <td id=\"T_5f611_row1_col0\" class=\"data row1 col0\" >4</td>\n",
       "                        <td id=\"T_5f611_row1_col1\" class=\"data row1 col1\" >$3.86</td>\n",
       "                        <td id=\"T_5f611_row1_col2\" class=\"data row1 col2\" >$15.45</td>\n",
       "            </tr>\n",
       "            <tr>\n",
       "                        <th id=\"T_5f611_level0_row2\" class=\"row_heading level0 row2\" >Chamjask73</th>\n",
       "                        <td id=\"T_5f611_row2_col0\" class=\"data row2 col0\" >3</td>\n",
       "                        <td id=\"T_5f611_row2_col1\" class=\"data row2 col1\" >$4.61</td>\n",
       "                        <td id=\"T_5f611_row2_col2\" class=\"data row2 col2\" >$13.83</td>\n",
       "            </tr>\n",
       "            <tr>\n",
       "                        <th id=\"T_5f611_level0_row3\" class=\"row_heading level0 row3\" >Iral74</th>\n",
       "                        <td id=\"T_5f611_row3_col0\" class=\"data row3 col0\" >4</td>\n",
       "                        <td id=\"T_5f611_row3_col1\" class=\"data row3 col1\" >$3.40</td>\n",
       "                        <td id=\"T_5f611_row3_col2\" class=\"data row3 col2\" >$13.62</td>\n",
       "            </tr>\n",
       "            <tr>\n",
       "                        <th id=\"T_5f611_level0_row4\" class=\"row_heading level0 row4\" >Iskadarya95</th>\n",
       "                        <td id=\"T_5f611_row4_col0\" class=\"data row4 col0\" >3</td>\n",
       "                        <td id=\"T_5f611_row4_col1\" class=\"data row4 col1\" >$4.37</td>\n",
       "                        <td id=\"T_5f611_row4_col2\" class=\"data row4 col2\" >$13.10</td>\n",
       "            </tr>\n",
       "    </tbody></table>"
      ],
      "text/plain": [
       "<pandas.io.formats.style.Styler at 0x1e0034da310>"
      ]
     },
     "execution_count": 92,
     "metadata": {},
     "output_type": "execute_result"
    }
   ],
   "source": [
    "topspenders = (\n",
    "    rawdata.groupby(\"SN\").agg({\"Purchase ID\":'count',\"Price\":['mean','sum']})\n",
    "    .droplevel(0,1)\n",
    "    .rename(columns = {\"count\":\"Purchase Count\",\"mean\":\"Price\",\"sum\":\"Total Revenue\"})\n",
    "    .sort_values(\"Total Revenue\",ascending = False)\n",
    ")\n",
    "topspenders.head().style.format({\"Price\":\"${:.2f}\",\"Total Revenue\":\"${:.2f}\"})"
   ]
  },
  {
   "cell_type": "markdown",
   "id": "3af76c44",
   "metadata": {},
   "source": [
    "# Most Popular Items"
   ]
  },
  {
   "cell_type": "code",
   "execution_count": 93,
   "id": "3a404c7f",
   "metadata": {},
   "outputs": [
    {
     "data": {
      "text/html": [
       "<style  type=\"text/css\" >\n",
       "</style><table id=\"T_3e323_\" ><thead>    <tr>        <th class=\"blank\" ></th>        <th class=\"blank level0\" ></th>        <th class=\"col_heading level0 col0\" >Purchase Count</th>        <th class=\"col_heading level0 col1\" >Price</th>        <th class=\"col_heading level0 col2\" >Total Revenue</th>    </tr>    <tr>        <th class=\"index_name level0\" >Item ID</th>        <th class=\"index_name level1\" >Item Name</th>        <th class=\"blank\" ></th>        <th class=\"blank\" ></th>        <th class=\"blank\" ></th>    </tr></thead><tbody>\n",
       "                <tr>\n",
       "                        <th id=\"T_3e323_level0_row0\" class=\"row_heading level0 row0\" >92</th>\n",
       "                        <th id=\"T_3e323_level1_row0\" class=\"row_heading level1 row0\" >Final Critic</th>\n",
       "                        <td id=\"T_3e323_row0_col0\" class=\"data row0 col0\" >13</td>\n",
       "                        <td id=\"T_3e323_row0_col1\" class=\"data row0 col1\" >$4.61</td>\n",
       "                        <td id=\"T_3e323_row0_col2\" class=\"data row0 col2\" >$59.99</td>\n",
       "            </tr>\n",
       "            <tr>\n",
       "                        <th id=\"T_3e323_level0_row1\" class=\"row_heading level0 row1\" >178</th>\n",
       "                        <th id=\"T_3e323_level1_row1\" class=\"row_heading level1 row1\" >Oathbreaker, Last Hope of the Breaking Storm</th>\n",
       "                        <td id=\"T_3e323_row1_col0\" class=\"data row1 col0\" >12</td>\n",
       "                        <td id=\"T_3e323_row1_col1\" class=\"data row1 col1\" >$4.23</td>\n",
       "                        <td id=\"T_3e323_row1_col2\" class=\"data row1 col2\" >$50.76</td>\n",
       "            </tr>\n",
       "            <tr>\n",
       "                        <th id=\"T_3e323_level0_row2\" class=\"row_heading level0 row2\" >145</th>\n",
       "                        <th id=\"T_3e323_level1_row2\" class=\"row_heading level1 row2\" >Fiery Glass Crusader</th>\n",
       "                        <td id=\"T_3e323_row2_col0\" class=\"data row2 col0\" >9</td>\n",
       "                        <td id=\"T_3e323_row2_col1\" class=\"data row2 col1\" >$4.58</td>\n",
       "                        <td id=\"T_3e323_row2_col2\" class=\"data row2 col2\" >$41.22</td>\n",
       "            </tr>\n",
       "            <tr>\n",
       "                        <th id=\"T_3e323_level0_row3\" class=\"row_heading level0 row3\" >132</th>\n",
       "                        <th id=\"T_3e323_level1_row3\" class=\"row_heading level1 row3\" >Persuasion</th>\n",
       "                        <td id=\"T_3e323_row3_col0\" class=\"data row3 col0\" >9</td>\n",
       "                        <td id=\"T_3e323_row3_col1\" class=\"data row3 col1\" >$3.22</td>\n",
       "                        <td id=\"T_3e323_row3_col2\" class=\"data row3 col2\" >$28.99</td>\n",
       "            </tr>\n",
       "            <tr>\n",
       "                        <th id=\"T_3e323_level0_row4\" class=\"row_heading level0 row4\" >108</th>\n",
       "                        <th id=\"T_3e323_level1_row4\" class=\"row_heading level1 row4\" >Extraction, Quickblade Of Trembling Hands</th>\n",
       "                        <td id=\"T_3e323_row4_col0\" class=\"data row4 col0\" >9</td>\n",
       "                        <td id=\"T_3e323_row4_col1\" class=\"data row4 col1\" >$3.53</td>\n",
       "                        <td id=\"T_3e323_row4_col2\" class=\"data row4 col2\" >$31.77</td>\n",
       "            </tr>\n",
       "    </tbody></table>"
      ],
      "text/plain": [
       "<pandas.io.formats.style.Styler at 0x1e0033e4130>"
      ]
     },
     "execution_count": 93,
     "metadata": {},
     "output_type": "execute_result"
    }
   ],
   "source": [
    "popularitems = (\n",
    "    rawdata.groupby([\"Item ID\",\"Item Name\"]).agg({\"Purchase ID\":'count',\"Price\":['mean','sum']})\n",
    "    .droplevel(0,1)\n",
    "    .rename(columns = {\"count\":\"Purchase Count\",\"mean\":\"Price\",\"sum\":\"Total Revenue\"})\n",
    "    .sort_values(\"Purchase Count\",ascending = False)\n",
    ")\n",
    "popularitems.head().style.format({\"Price\":\"${:.2f}\",\"Total Revenue\":\"${:.2f}\"})"
   ]
  },
  {
   "cell_type": "markdown",
   "id": "948c8627",
   "metadata": {},
   "source": [
    "# Most Profitable Items "
   ]
  },
  {
   "cell_type": "code",
   "execution_count": 94,
   "id": "e1a4e28e",
   "metadata": {},
   "outputs": [
    {
     "data": {
      "text/html": [
       "<style  type=\"text/css\" >\n",
       "</style><table id=\"T_80103_\" ><thead>    <tr>        <th class=\"blank\" ></th>        <th class=\"blank level0\" ></th>        <th class=\"col_heading level0 col0\" >Purchase Count</th>        <th class=\"col_heading level0 col1\" >Price</th>        <th class=\"col_heading level0 col2\" >Total Revenue</th>    </tr>    <tr>        <th class=\"index_name level0\" >Item ID</th>        <th class=\"index_name level1\" >Item Name</th>        <th class=\"blank\" ></th>        <th class=\"blank\" ></th>        <th class=\"blank\" ></th>    </tr></thead><tbody>\n",
       "                <tr>\n",
       "                        <th id=\"T_80103_level0_row0\" class=\"row_heading level0 row0\" >92</th>\n",
       "                        <th id=\"T_80103_level1_row0\" class=\"row_heading level1 row0\" >Final Critic</th>\n",
       "                        <td id=\"T_80103_row0_col0\" class=\"data row0 col0\" >13</td>\n",
       "                        <td id=\"T_80103_row0_col1\" class=\"data row0 col1\" >$4.61</td>\n",
       "                        <td id=\"T_80103_row0_col2\" class=\"data row0 col2\" >$59.99</td>\n",
       "            </tr>\n",
       "            <tr>\n",
       "                        <th id=\"T_80103_level0_row1\" class=\"row_heading level0 row1\" >178</th>\n",
       "                        <th id=\"T_80103_level1_row1\" class=\"row_heading level1 row1\" >Oathbreaker, Last Hope of the Breaking Storm</th>\n",
       "                        <td id=\"T_80103_row1_col0\" class=\"data row1 col0\" >12</td>\n",
       "                        <td id=\"T_80103_row1_col1\" class=\"data row1 col1\" >$4.23</td>\n",
       "                        <td id=\"T_80103_row1_col2\" class=\"data row1 col2\" >$50.76</td>\n",
       "            </tr>\n",
       "            <tr>\n",
       "                        <th id=\"T_80103_level0_row2\" class=\"row_heading level0 row2\" >82</th>\n",
       "                        <th id=\"T_80103_level1_row2\" class=\"row_heading level1 row2\" >Nirvana</th>\n",
       "                        <td id=\"T_80103_row2_col0\" class=\"data row2 col0\" >9</td>\n",
       "                        <td id=\"T_80103_row2_col1\" class=\"data row2 col1\" >$4.90</td>\n",
       "                        <td id=\"T_80103_row2_col2\" class=\"data row2 col2\" >$44.10</td>\n",
       "            </tr>\n",
       "            <tr>\n",
       "                        <th id=\"T_80103_level0_row3\" class=\"row_heading level0 row3\" >145</th>\n",
       "                        <th id=\"T_80103_level1_row3\" class=\"row_heading level1 row3\" >Fiery Glass Crusader</th>\n",
       "                        <td id=\"T_80103_row3_col0\" class=\"data row3 col0\" >9</td>\n",
       "                        <td id=\"T_80103_row3_col1\" class=\"data row3 col1\" >$4.58</td>\n",
       "                        <td id=\"T_80103_row3_col2\" class=\"data row3 col2\" >$41.22</td>\n",
       "            </tr>\n",
       "            <tr>\n",
       "                        <th id=\"T_80103_level0_row4\" class=\"row_heading level0 row4\" >103</th>\n",
       "                        <th id=\"T_80103_level1_row4\" class=\"row_heading level1 row4\" >Singed Scalpel</th>\n",
       "                        <td id=\"T_80103_row4_col0\" class=\"data row4 col0\" >8</td>\n",
       "                        <td id=\"T_80103_row4_col1\" class=\"data row4 col1\" >$4.35</td>\n",
       "                        <td id=\"T_80103_row4_col2\" class=\"data row4 col2\" >$34.80</td>\n",
       "            </tr>\n",
       "    </tbody></table>"
      ],
      "text/plain": [
       "<pandas.io.formats.style.Styler at 0x1e0033bb370>"
      ]
     },
     "execution_count": 94,
     "metadata": {},
     "output_type": "execute_result"
    }
   ],
   "source": [
    "profitable_items = popularitems.sort_values(\"Total Revenue\",ascending = False)\n",
    "profitable_items.head().style.format({\"Price\":\"${:.2f}\",\"Total Revenue\":\"${:.2f}\"})"
   ]
  },
  {
   "cell_type": "code",
   "execution_count": null,
   "id": "195c61d8",
   "metadata": {},
   "outputs": [],
   "source": []
  }
 ],
 "metadata": {
  "kernelspec": {
   "display_name": "Python 3",
   "language": "python",
   "name": "python3"
  },
  "language_info": {
   "codemirror_mode": {
    "name": "ipython",
    "version": 3
   },
   "file_extension": ".py",
   "mimetype": "text/x-python",
   "name": "python",
   "nbconvert_exporter": "python",
   "pygments_lexer": "ipython3",
   "version": "3.8.8"
  }
 },
 "nbformat": 4,
 "nbformat_minor": 5
}
